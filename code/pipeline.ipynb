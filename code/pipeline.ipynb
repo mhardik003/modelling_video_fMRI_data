{
 "cells": [
  {
   "cell_type": "markdown",
   "metadata": {},
   "source": [
    "### Importing the required libraries"
   ]
  },
  {
   "cell_type": "code",
   "execution_count": 1,
   "metadata": {},
   "outputs": [],
   "source": [
    "import logging\n",
    "import time\n",
    "import json # For reading TR\n",
    "from pathlib import Path\n",
    "import numpy as np\n",
    "import torch\n",
    "import torch.nn as nn \n",
    "import pickle\n",
    "import torch.optim as optim\n",
    "import matplotlib.pyplot as plt\n",
    "import logging\n",
    "import os\n",
    "import wandb\n",
    "import random\n",
    "import math \n",
    "from torch.utils.data import Dataset, TensorDataset, DataLoader \n",
    "from sklearn.decomposition import PCA\n",
    "from sklearn.preprocessing import StandardScaler\n",
    "from typing import List\n",
    "\n",
    "from transformers import AutoProcessor, AutoModel\n",
    "from tqdm import tqdm"
   ]
  },
  {
   "cell_type": "code",
   "execution_count": 2,
   "metadata": {},
   "outputs": [],
   "source": [
    "# Import project modules\n",
    "# import config # Import base config\n",
    "# from config import get_tr_from_json\n",
    "from data_loader import  load_fmri_data, load_video_data\n",
    "from evaluate import evaluate_model, plot_predictions\n",
    "from models import EncodingModel, DecodingModel # Using MLP models\n",
    "from models import LSTMEncodingModel, LSTMDecodingModel # Using LSTM models\n",
    "from preprocessing import preprocess_fmri, preprocess_video_embeddings, align_data\n",
    "from train import train_epoch # Import reverted train_epoch\n",
    "from video_encoder import VideoFeatureExtractor"
   ]
  },
  {
   "cell_type": "code",
   "execution_count": 3,
   "metadata": {},
   "outputs": [],
   "source": [
    "logger = logging.getLogger(__name__) # Get logger instance"
   ]
  },
  {
   "cell_type": "markdown",
   "metadata": {},
   "source": [
    "### Setup directories for data"
   ]
  },
  {
   "cell_type": "code",
   "execution_count": 4,
   "metadata": {},
   "outputs": [],
   "source": [
    "BASE_DIR = Path(\"/workspace/hardik/\") # Adjusted path\n",
    "DATA_DIR = BASE_DIR / \"csai_data\" # Adjusted path\n",
    "\n",
    "OUTPUT_DIR = BASE_DIR / \"output_csai\"\n",
    "CACHE_DIR = BASE_DIR / \"cache_csai\"\n",
    "\n",
    "VIDEO_DIR = DATA_DIR / \"stimuli\"\n",
    "VIDEO_FILE_TEMPLATE = \"{stimulus_lower}.mp4\"\n",
    "\n",
    "OUTPUT_DIR.mkdir(exist_ok=True)\n",
    "CACHE_DIR.mkdir(exist_ok=True)"
   ]
  },
  {
   "cell_type": "code",
   "execution_count": 5,
   "metadata": {},
   "outputs": [],
   "source": [
    "TRAIN_SUBJECT_IDS = [\"NSD103\",\"NSD104\",\"NSD105\",\"NSD106\",\"NSD107\",\"NSD113\",\"NSD114\", \"NSD115\",\"NSD116\",\"NSD117\",\"NSD119\",\"NSD120\",\"NSD122\",\"NSD123\",\"NSD124\",\"NSD125\",\"NSD126\",\"NSD127\",\"NSD128\",\"NSD129\",\"NSD130\",\"NSD132\",\"NSD134\",\"NSD135\",\"NSD136\",\"NSD138\",\"NSD140\",\"NSD142\",\"NSD145\",\"NSD146\",\"NSD147\",\"NSD148\",\"NSD149\",\"NSD150\",\"NSD151\",\"NSD153\",\"NSD155\"] # List of subjects for training\n",
    "TEST_SUBJECT_IDS = [\"NSD108\",\"NSD109\",\"NSD110\",\"NSD111\"] # List of subjects for training\n",
    "TEST_SUBJECT_ID = \"NSD114\"     # Single subject for testing\n",
    "# STIMULI_NAMES = [\"iteration\", \"defeat\"]\n",
    "# STIMULI_NAMES = [\"iteration\", \"defeat\", \"growth\", \"lemonade\"]\n",
    "STIMULI_NAMES = [\"defeat\"]"
   ]
  },
  {
   "cell_type": "code",
   "execution_count": 6,
   "metadata": {},
   "outputs": [],
   "source": [
    "# --- fMRI Parameters ---\n",
    "PREPROC_DIR = DATA_DIR / \"derivatives\" / \"preprocessed\"\n",
    "\n",
    "FMRI_VARIANT = \"nocensor_srm-recon\" \n",
    "FMRI_FILE_TEMPLATE = \"sub-{subject_id}_task-{stimulus_lower}_{variant}.nii.gz\"\n",
    "\n",
    "# Raw data directory template (string for formatting later)\n",
    "RAW_FUNC_DIR_PATH_TEMPLATE = DATA_DIR / \"sub-{subject_id}\" / \"func\"\n",
    "# Raw JSON template (string)\n",
    "RAW_JSON_FILENAME_TEMPLATE = \"sub-{subject_id}_task-{stimulus_lower}_echo-1_bold.json\""
   ]
  },
  {
   "cell_type": "code",
   "execution_count": 7,
   "metadata": {},
   "outputs": [],
   "source": [
    "TR = 1 # Will be read dynamically\n",
    "\n",
    "TRS_DROP_MAP = {\n",
    "    \"growth\": (2, 11),\n",
    "    \"lemonade\": (2, 11),\n",
    "    \"iteration\": (2, 11),\n",
    "    \"defeat\": (2, 12),\n",
    "}\n",
    "\n",
    "# TRS_DROP_MAP = {\n",
    "#     \"iteration\": (2, 11)\n",
    "# }"
   ]
  },
  {
   "cell_type": "markdown",
   "metadata": {},
   "source": [
    "### Choose the video encoder name"
   ]
  },
  {
   "cell_type": "code",
   "execution_count": 8,
   "metadata": {},
   "outputs": [],
   "source": [
    "VIDEO_ENCODER_NAME = 'vitmae' # timesformer, videomae, vivit, vitmae\n",
    "chosen_encoder = VIDEO_ENCODER_NAME"
   ]
  },
  {
   "cell_type": "code",
   "execution_count": 9,
   "metadata": {},
   "outputs": [],
   "source": [
    "VIDEO_MODEL_IDENTIFIERS = {\n",
    "    'timesformer': \"facebook/timesformer-base-finetuned-k400\",\n",
    "    'videomae': \"MCG-NJU/videomae-base-finetuned-kinetics\",\n",
    "    # 'xclip': \"microsoft/xclip-base-patch32\",\n",
    "    'vivit' : \"google/vivit-b-16x2\",\n",
    "    \"vitmae\" : \"facebook/vit-mae-base\"\n",
    "}\n",
    "\n",
    "VIDEO_MODEL_OUTPUT_DIMS = {\n",
    "    'timesformer': 768,\n",
    "    'videomae': 768,\n",
    "    # 'xclip': 512,\n",
    "    'vivit' : 768,\n",
    "    'vitmae' :768 \n",
    "}"
   ]
  },
  {
   "cell_type": "code",
   "execution_count": 10,
   "metadata": {},
   "outputs": [],
   "source": [
    "# Placeholder - these get overwritten at runtime based on VIDEO_ENCODER_NAME\n",
    "VIDEO_EMBEDDING_MODEL = VIDEO_MODEL_IDENTIFIERS[VIDEO_ENCODER_NAME]\n",
    "DEC_OUTPUT_DIM = VIDEO_MODEL_OUTPUT_DIMS[VIDEO_ENCODER_NAME]        # Will be set from VIDEO_MODEL_OUTPUT_DIMS\n",
    "\n",
    "# --- Video Processing Parameters  ---\n",
    "VIDEO_CHUNK_SIZE = 8 # Frames per model input clip (TimeSformer/VideoMAE usually 8 or 16)\n",
    "VIDEO_CHUNK_STRIDE = 4 # Overlap between chunks\n",
    "VIDEO_EMBEDDING_BATCH_SIZE = 4 # Reduce if OOM during *embedding extraction*\n",
    "\n",
    "# --- Preprocessing Parameters ---\n",
    "ALIGN_METHOD = \"convolve\"\n",
    "HRF_DELAY = 4.0\n",
    "\n",
    "DO_FMRI_ZSCORE = True\n",
    "DO_VIDEO_ZSCORE = True"
   ]
  },
  {
   "cell_type": "code",
   "execution_count": 11,
   "metadata": {},
   "outputs": [],
   "source": [
    "# --- Model Parameters (MLP - Non-Temporal) ---\n",
    "USE_TEMPORAL_MODELS = True # Ensure this is False to use MLP\n",
    "DEVICE = \"cuda:0\" if torch.cuda.is_available() else \"cpu\"\n",
    "# --- MLP Hidden Dims ---\n",
    "ENC_HIDDEN_DIM = 2048 # Hidden dim for MLP encoding model\n",
    "DEC_HIDDEN_DIM = 2048 # Hidden dim for MLP decoding model (reduced from 2048)\n",
    "# --- Input/Output Dims (set dynamically) ---\n",
    "ENC_OUTPUT_DIM = -1   # Set dynamically (PCA components)\n",
    "DEC_INPUT_DIM = -1    # Set dynamically (PCA components)\n",
    "\n",
    "APPLY_PCA = True # Flag to enable/disable PCA\n",
    "PCA_N_COMPONENTS = 1000 # Target number of fMRI features after PCA\n",
    "\n",
    "# --- Training Parameters ---\n",
    "LEARNING_RATE = 1e-5\n",
    "BATCH_SIZE = 64\n",
    "EPOCHS = 50\n",
    "\n",
    "# --- Evaluation ---\n",
    "EVAL_METRICS = ['mse', 'pearsonr', 'r2']"
   ]
  },
  {
   "cell_type": "code",
   "execution_count": 12,
   "metadata": {},
   "outputs": [
    {
     "name": "stdout",
     "output_type": "stream",
     "text": [
      "Selected Video Encoder: vitmae (ID: facebook/vit-mae-base, Dim: 768)\n",
      "Train Subject(s): ['NSD103', 'NSD104', 'NSD105', 'NSD106', 'NSD107', 'NSD113', 'NSD114', 'NSD115', 'NSD116', 'NSD117', 'NSD119', 'NSD120', 'NSD122', 'NSD123', 'NSD124', 'NSD125', 'NSD126', 'NSD127', 'NSD128', 'NSD129', 'NSD130', 'NSD132', 'NSD134', 'NSD135', 'NSD136', 'NSD138', 'NSD140', 'NSD142', 'NSD145', 'NSD146', 'NSD147', 'NSD148', 'NSD149', 'NSD150', 'NSD151', 'NSD153', 'NSD155'], Test Subject: NSD114\n",
      "Device: cuda:0, fMRI Variant: nocensor_srm-recon\n",
      "Apply PCA: True, PCA Components: 1000\n",
      "Using Temporal Models: True\n"
     ]
    }
   ],
   "source": [
    "print(f\"Selected Video Encoder: {chosen_encoder} (ID: {VIDEO_EMBEDDING_MODEL}, Dim: {DEC_OUTPUT_DIM})\")\n",
    "\n",
    "# --- Log Core Config ---\n",
    "print(f\"Train Subject(s): {TRAIN_SUBJECT_IDS}, Test Subject: {TEST_SUBJECT_ID}\")\n",
    "print(f\"Device: {DEVICE}, fMRI Variant: {FMRI_VARIANT}\")\n",
    "print(f\"Apply PCA: {APPLY_PCA}, PCA Components: {PCA_N_COMPONENTS if APPLY_PCA else 'N/A'}\")\n",
    "print(f\"Using Temporal Models: {USE_TEMPORAL_MODELS}\") # Should be False for MLP\n"
   ]
  },
  {
   "cell_type": "code",
   "execution_count": 13,
   "metadata": {},
   "outputs": [],
   "source": [
    "fmri_tr = 1"
   ]
  },
  {
   "cell_type": "markdown",
   "metadata": {},
   "source": [
    "### Setup class to provide video embeddings"
   ]
  },
  {
   "cell_type": "code",
   "execution_count": 14,
   "metadata": {},
   "outputs": [],
   "source": [
    "video_extractor = VideoFeatureExtractor(\n",
    "    model_id=VIDEO_EMBEDDING_MODEL,\n",
    "    fps=23.98,\n",
    "    device=DEVICE\n",
    ")"
   ]
  },
  {
   "cell_type": "code",
   "execution_count": 15,
   "metadata": {},
   "outputs": [],
   "source": [
    "def save_data(data, filename: Path):\n",
    "    logger.info(f\"Saving data to {filename}\")\n",
    "    filename.parent.mkdir(parents=True, exist_ok=True) # Ensure directory exists\n",
    "    with open(filename, 'wb') as f:\n",
    "        pickle.dump(data, f, protocol=pickle.HIGHEST_PROTOCOL)\n",
    "\n",
    "def load_data(filename: Path):\n",
    "    logger.info(f\"Loading data from {filename}\")\n",
    "    if not filename.exists():\n",
    "        logger.error(f\"Cache file not found: {filename}\")\n",
    "        return None\n",
    "    try:\n",
    "        with open(filename, 'rb') as f:\n",
    "            return pickle.load(f)\n",
    "    except Exception as e:\n",
    "        logger.error(f\"Error loading cache file {filename}: {e}\", exc_info=True)\n",
    "        return None"
   ]
  },
  {
   "cell_type": "code",
   "execution_count": 16,
   "metadata": {},
   "outputs": [],
   "source": [
    "def process_subject_data(subject_id, fmri_tr, chosen_encoder):\n",
    "    \"\"\"Loads, preprocesses, and aligns data for a single subject.\"\"\"\n",
    "    \n",
    "    print(f\"--- Processing data for Subject: {subject_id} ---\")\n",
    "    subject_fmri_aligned = []\n",
    "    subject_video_aligned = []\n",
    "    \n",
    "    # find the model output dimensions from the dictionary defined above\n",
    "    expected_vid_dim = VIDEO_MODEL_OUTPUT_DIMS[chosen_encoder]\n",
    "    safe_encoder_name = chosen_encoder.replace('/','_') # Safe name for filenames\n",
    "\n",
    "    video_embeddings_cache = {} # Cache loaded video embeddings per stimulus\n",
    "\n",
    "    # Include PCA components in cache filename\n",
    "    pca_suffix = f\"_pca{PCA_N_COMPONENTS}\" if APPLY_PCA else \"\"\n",
    "\n",
    "    for stimulus_lower in STIMULI_NAMES:\n",
    "        print(f\"Processing {subject_id} / {stimulus_lower}...\")\n",
    "        # --- Define file paths ---\n",
    "        fmri_filename = FMRI_FILE_TEMPLATE.format(\n",
    "            subject_id=subject_id,\n",
    "            stimulus_lower=stimulus_lower,\n",
    "            variant=FMRI_VARIANT\n",
    "        )\n",
    "        fmri_path = PREPROC_DIR / f\"sub-{subject_id}\" / fmri_filename\n",
    "        video_filename = VIDEO_FILE_TEMPLATE.format(stimulus_lower=stimulus_lower)\n",
    "        video_path = VIDEO_DIR / video_filename\n",
    "\n",
    "        # --- Cache Keys ---\n",
    "        aligned_cache_key = f\"sub-{subject_id}_{stimulus_lower}_{FMRI_VARIANT}_{safe_encoder_name}{pca_suffix}_aligned.pkl\"\n",
    "        aligned_cache_file = CACHE_DIR / aligned_cache_key\n",
    "        \n",
    "        # Video embeddings are stimulus-specific, cache key doesn't need subject_id\n",
    "        embedding_cache_key = f\"{stimulus_lower}_{safe_encoder_name}_embeddings.npy\"\n",
    "        embedding_cache_file = CACHE_DIR / embedding_cache_key\n",
    "\n",
    "        # --- Check cache for ALIGNED data first ---\n",
    "        if aligned_cache_file.exists():\n",
    "            cached_data = load_data(aligned_cache_file)\n",
    "            if cached_data:\n",
    "                fmri_aligned, video_aligned = cached_data\n",
    "                if fmri_aligned.ndim == 2 and video_aligned.ndim == 2 and \\\n",
    "                   fmri_aligned.shape[0] == video_aligned.shape[0] and \\\n",
    "                   video_aligned.shape[1] == expected_vid_dim:\n",
    "                    subject_fmri_aligned.append(fmri_aligned)\n",
    "                    subject_video_aligned.append(video_aligned)\n",
    "                    print(f\"Loaded cached aligned data for {subject_id}/{stimulus_lower}\")\n",
    "                    continue # Go to next stimulus if aligned cache is valid\n",
    "                else:\n",
    "                    print(f\"-> Invalid cached aligned data shape/dim for {subject_id}/{stimulus_lower}. Recomputing.\")\n",
    "\n",
    "\n",
    "        # --- Load Raw fMRI Data ---\n",
    "        try:\n",
    "            start_load = time.time()\n",
    "            print(f\"Loading fMRI from: {fmri_path}\")\n",
    "            fmri_data = load_fmri_data(fmri_path, stimulus_lower, fmri_tr, FMRI_VARIANT, TRS_DROP_MAP)\n",
    "            if fmri_data is None or fmri_data.size == 0:\n",
    "                 print(f\"-> fMRI data loading failed or resulted in empty array for {subject_id}/{stimulus_lower}.\")\n",
    "                 continue # Skip this stimulus\n",
    "            print(f\"fMRI loaded in {time.time() - start_load:.2f}s. Shape: {fmri_data.shape}\")\n",
    "        except FileNotFoundError:\n",
    "            print(f\"-> fMRI file not found for {subject_id}/{stimulus_lower}: {fmri_path}. Skipping stimulus.\")\n",
    "            continue\n",
    "\n",
    "\n",
    "        # --- Load/Cache Video Embeddings (Stimulus Specific) ---\n",
    "        video_embeddings = None\n",
    "        if stimulus_lower in video_embeddings_cache:\n",
    "            video_embeddings = video_embeddings_cache[stimulus_lower]\n",
    "            print(f\"Using pre-loaded video embeddings for {stimulus_lower}.\")\n",
    "        elif embedding_cache_file.exists():\n",
    "            print(f\"Loading cached {chosen_encoder} video embeddings from: {embedding_cache_file}\")\n",
    "            video_embeddings = np.load(embedding_cache_file)\n",
    "            if video_embeddings.ndim != 2 or video_embeddings.shape[1] != expected_vid_dim:\n",
    "                print(f\"-> Cached embeddings {embedding_cache_file} have wrong shape/dim ({video_embeddings.shape}). Re-extracting.\")\n",
    "                embedding_cache_file.unlink()\n",
    "                video_embeddings = None\n",
    "            else:\n",
    "                video_embeddings_cache[stimulus_lower] = video_embeddings # Store in memory cache\n",
    "        else:\n",
    "            video_embeddings = None # Needs extraction\n",
    "\n",
    "        # --- Extract Video Embeddings if needed ---\n",
    "        video_frames, video_fps_load_check = load_video_data(video_path) # Get FPS here too\n",
    "        video_extractor = VideoFeatureExtractor(\n",
    "        model_id=VIDEO_EMBEDDING_MODEL,\n",
    "        fps=video_fps_load_check,\n",
    "        device=DEVICE\n",
    "        )\n",
    "        if video_embeddings is None:\n",
    "            try:\n",
    "                # Load video frames (only if extraction is needed)\n",
    "                print(f\"Loading video frames from: {video_path}\")\n",
    "                start_vid_load = time.time()\n",
    "                if not video_frames:\n",
    "                     logger.error(f\"Failed to load video frames for {stimulus_lower}. Skipping.\")\n",
    "                     continue\n",
    "                print(f\"Video frames loaded in {time.time() - start_vid_load:.2f}s.\")\n",
    "\n",
    "                print(f\"Extracting {chosen_encoder} video embeddings for {stimulus_lower}...\")\n",
    "                start_embed = time.time()\n",
    "                video_embeddings = video_extractor.extract_features(video_frames, batch_size=VIDEO_EMBEDDING_BATCH_SIZE)\n",
    "                print(f\"Video embedding shape : {video_embeddings.shape}\")\n",
    "                print(f\"Video embedding extraction took {time.time() - start_embed:.2f}s\")\n",
    "\n",
    "                if video_embeddings is None or video_embeddings.size == 0: raise ValueError(\"Extractor returned empty embeddings\")\n",
    "\n",
    "                if video_embeddings.shape[1] != expected_vid_dim:\n",
    "                     logger.error(f\"Extracted {chosen_encoder} dim {video_embeddings.shape[1]} != expected {expected_vid_dim}.\")\n",
    "                     continue # Skip if extraction yields wrong dimension\n",
    "\n",
    "                np.save(embedding_cache_file, video_embeddings)\n",
    "                print(f\"Saved {chosen_encoder} video embeddings to: {embedding_cache_file}\")\n",
    "                video_embeddings_cache[stimulus_lower] = video_embeddings # Store in memory cache\n",
    "                # Need video_fps for alignment, get it from the load_video_data call\n",
    "                video_fps = video_fps_load_check\n",
    "                num_video_frames_original = len(video_frames)\n",
    "\n",
    "            except Exception as e:\n",
    "                logger.error(f\"Video embedding extraction failed for {stimulus_lower} / {chosen_encoder}: {e}\", exc_info=True)\n",
    "                continue\n",
    "\n",
    "        else:\n",
    "             # If embeddings loaded from cache, we still need FPS and frame count for alignment\n",
    "             # Re-load video just to get metadata if not already loaded \n",
    "             \n",
    "             try:\n",
    "                 # Quick load just for metadata\n",
    "                 _ , video_fps_check = load_video_data(video_path)\n",
    "                 # Assuming frame count isn't strictly needed if embeddings exist, but FPS is\n",
    "                 video_fps = video_fps_check\n",
    "\n",
    "                 # [TODO]\n",
    "                 # We don't have exact num_frames_original if only cache was loaded,\n",
    "                 # but maybe it's not strictly needed by align_data if using chunk times? Check align_data.\n",
    "                 # For safety, let's pass 0 or estimate if needed by align_data.\n",
    "                 # Revisit align_data's use of num_video_frames_original. If it's just for logging, it's ok.\n",
    "\n",
    "                 num_video_frames_original = 0 # Placeholder if only cache loaded\n",
    "                 \n",
    "             except Exception as e:\n",
    "                  logger.error(f\"Could not load video metadata for {video_path} even though embeddings exist: {e}. Skipping alignment.\")\n",
    "                  continue\n",
    "\n",
    "\n",
    "        # --- Preprocess & Align ---\n",
    "        try:\n",
    "            start_preprocess = time.time()\n",
    "            fmri_processed = preprocess_fmri(DO_FMRI_ZSCORE, APPLY_PCA, PCA_N_COMPONENTS,  fmri_data)\n",
    "            video_embeddings_processed = preprocess_video_embeddings(DO_VIDEO_ZSCORE, video_embeddings)\n",
    "            fmri_aligned, video_aligned = align_data(\n",
    "                fmri_processed,\n",
    "                video_embeddings_processed,\n",
    "                fmri_tr=fmri_tr,\n",
    "                video_fps=video_fps, # Use FPS obtained above\n",
    "                num_video_frames_original=num_video_frames_original, # Use value obtained above\n",
    "                hrf_delay=HRF_DELAY,\n",
    "                align_method=ALIGN_METHOD,\n",
    "                video_chunk_size=video_extractor.num_frames_per_clip,\n",
    "                video_chunk_stride=VIDEO_CHUNK_STRIDE\n",
    "            )\n",
    "            print(f\"Preprocessing and alignment took {time.time() - start_preprocess:.2f}s\")\n",
    "            if fmri_aligned.shape[0] == 0 or video_aligned.shape[0] == 0:\n",
    "                print(f\"-> Alignment resulted in empty data for {subject_id}/{stimulus_lower}. Skipping.\")\n",
    "                continue\n",
    "\n",
    "            save_data((fmri_aligned, video_aligned), aligned_cache_file) # Save to subject specific cache\n",
    "            subject_fmri_aligned.append(fmri_aligned)\n",
    "            subject_video_aligned.append(video_aligned)\n",
    "\n",
    "        except Exception as e:\n",
    "            logger.error(f\"Error during preprocess/align for {subject_id}/{stimulus_lower}: {e}\", exc_info=True)\n",
    "            continue\n",
    "        # --- End Stimulus Loop ---\n",
    "\n",
    "    # --- Concatenate data for *this* subject ---\n",
    "    if not subject_fmri_aligned:\n",
    "        print(f\"-> No data successfully processed for subject {subject_id}.\")\n",
    "        return None, None # Return None if no data for this subject\n",
    "\n",
    "    final_fmri = np.concatenate(subject_fmri_aligned, axis=0)\n",
    "    final_video = np.concatenate(subject_video_aligned, axis=0)\n",
    "    print(f\"--- Final Concatenated Data Shapes for Subject {subject_id} ---\")\n",
    "    print(f\"Subject fMRI data: {final_fmri.shape}\")\n",
    "    print(f\"Subject Video embeddings: {final_video.shape}\")\n",
    "    return final_fmri, final_video"
   ]
  },
  {
   "cell_type": "code",
   "execution_count": 17,
   "metadata": {},
   "outputs": [
    {
     "name": "stdout",
     "output_type": "stream",
     "text": [
      "--- Processing data for Subject: NSD103 ---\n",
      "Processing NSD103 / defeat...\n",
      "Loaded cached aligned data for NSD103/defeat\n",
      "--- Final Concatenated Data Shapes for Subject NSD103 ---\n",
      "Subject fMRI data: (471, 1000)\n",
      "Subject Video embeddings: (471, 768)\n",
      "--- Processing data for Subject: NSD104 ---\n",
      "Processing NSD104 / defeat...\n",
      "Loaded cached aligned data for NSD104/defeat\n",
      "--- Final Concatenated Data Shapes for Subject NSD104 ---\n",
      "Subject fMRI data: (471, 1000)\n",
      "Subject Video embeddings: (471, 768)\n",
      "--- Processing data for Subject: NSD105 ---\n",
      "Processing NSD105 / defeat...\n",
      "Loaded cached aligned data for NSD105/defeat\n",
      "--- Final Concatenated Data Shapes for Subject NSD105 ---\n",
      "Subject fMRI data: (471, 1000)\n",
      "Subject Video embeddings: (471, 768)\n",
      "--- Processing data for Subject: NSD106 ---\n",
      "Processing NSD106 / defeat...\n",
      "Loaded cached aligned data for NSD106/defeat\n",
      "--- Final Concatenated Data Shapes for Subject NSD106 ---\n",
      "Subject fMRI data: (471, 1000)\n",
      "Subject Video embeddings: (471, 768)\n",
      "--- Processing data for Subject: NSD107 ---\n",
      "Processing NSD107 / defeat...\n",
      "Loaded cached aligned data for NSD107/defeat\n",
      "--- Final Concatenated Data Shapes for Subject NSD107 ---\n",
      "Subject fMRI data: (471, 1000)\n",
      "Subject Video embeddings: (471, 768)\n",
      "--- Processing data for Subject: NSD113 ---\n",
      "Processing NSD113 / defeat...\n",
      "Loaded cached aligned data for NSD113/defeat\n",
      "--- Final Concatenated Data Shapes for Subject NSD113 ---\n",
      "Subject fMRI data: (471, 1000)\n",
      "Subject Video embeddings: (471, 768)\n",
      "--- Processing data for Subject: NSD114 ---\n",
      "Processing NSD114 / defeat...\n",
      "Loaded cached aligned data for NSD114/defeat\n",
      "--- Final Concatenated Data Shapes for Subject NSD114 ---\n",
      "Subject fMRI data: (471, 1000)\n",
      "Subject Video embeddings: (471, 768)\n",
      "--- Processing data for Subject: NSD115 ---\n",
      "Processing NSD115 / defeat...\n",
      "Loaded cached aligned data for NSD115/defeat\n",
      "--- Final Concatenated Data Shapes for Subject NSD115 ---\n",
      "Subject fMRI data: (471, 1000)\n",
      "Subject Video embeddings: (471, 768)\n",
      "--- Processing data for Subject: NSD116 ---\n",
      "Processing NSD116 / defeat...\n",
      "Loaded cached aligned data for NSD116/defeat\n",
      "--- Final Concatenated Data Shapes for Subject NSD116 ---\n",
      "Subject fMRI data: (471, 1000)\n",
      "Subject Video embeddings: (471, 768)\n",
      "--- Processing data for Subject: NSD117 ---\n",
      "Processing NSD117 / defeat...\n",
      "Loaded cached aligned data for NSD117/defeat\n",
      "--- Final Concatenated Data Shapes for Subject NSD117 ---\n",
      "Subject fMRI data: (471, 1000)\n",
      "Subject Video embeddings: (471, 768)\n",
      "--- Processing data for Subject: NSD119 ---\n",
      "Processing NSD119 / defeat...\n",
      "Loaded cached aligned data for NSD119/defeat\n",
      "--- Final Concatenated Data Shapes for Subject NSD119 ---\n",
      "Subject fMRI data: (471, 1000)\n",
      "Subject Video embeddings: (471, 768)\n",
      "--- Processing data for Subject: NSD120 ---\n",
      "Processing NSD120 / defeat...\n",
      "Loaded cached aligned data for NSD120/defeat\n",
      "--- Final Concatenated Data Shapes for Subject NSD120 ---\n",
      "Subject fMRI data: (471, 1000)\n",
      "Subject Video embeddings: (471, 768)\n",
      "--- Processing data for Subject: NSD122 ---\n",
      "Processing NSD122 / defeat...\n",
      "Loaded cached aligned data for NSD122/defeat\n",
      "--- Final Concatenated Data Shapes for Subject NSD122 ---\n",
      "Subject fMRI data: (471, 1000)\n",
      "Subject Video embeddings: (471, 768)\n",
      "--- Processing data for Subject: NSD123 ---\n",
      "Processing NSD123 / defeat...\n",
      "Loaded cached aligned data for NSD123/defeat\n",
      "--- Final Concatenated Data Shapes for Subject NSD123 ---\n",
      "Subject fMRI data: (471, 1000)\n",
      "Subject Video embeddings: (471, 768)\n",
      "--- Processing data for Subject: NSD124 ---\n",
      "Processing NSD124 / defeat...\n",
      "Loaded cached aligned data for NSD124/defeat\n",
      "--- Final Concatenated Data Shapes for Subject NSD124 ---\n",
      "Subject fMRI data: (471, 1000)\n",
      "Subject Video embeddings: (471, 768)\n",
      "--- Processing data for Subject: NSD125 ---\n",
      "Processing NSD125 / defeat...\n",
      "Loaded cached aligned data for NSD125/defeat\n",
      "--- Final Concatenated Data Shapes for Subject NSD125 ---\n",
      "Subject fMRI data: (471, 1000)\n",
      "Subject Video embeddings: (471, 768)\n",
      "--- Processing data for Subject: NSD126 ---\n",
      "Processing NSD126 / defeat...\n",
      "Loaded cached aligned data for NSD126/defeat\n",
      "--- Final Concatenated Data Shapes for Subject NSD126 ---\n",
      "Subject fMRI data: (471, 1000)\n",
      "Subject Video embeddings: (471, 768)\n",
      "--- Processing data for Subject: NSD127 ---\n",
      "Processing NSD127 / defeat...\n",
      "Loaded cached aligned data for NSD127/defeat\n",
      "--- Final Concatenated Data Shapes for Subject NSD127 ---\n",
      "Subject fMRI data: (471, 1000)\n",
      "Subject Video embeddings: (471, 768)\n",
      "--- Processing data for Subject: NSD128 ---\n",
      "Processing NSD128 / defeat...\n",
      "Loaded cached aligned data for NSD128/defeat\n",
      "--- Final Concatenated Data Shapes for Subject NSD128 ---\n",
      "Subject fMRI data: (471, 1000)\n",
      "Subject Video embeddings: (471, 768)\n",
      "--- Processing data for Subject: NSD129 ---\n",
      "Processing NSD129 / defeat...\n",
      "Loaded cached aligned data for NSD129/defeat\n",
      "--- Final Concatenated Data Shapes for Subject NSD129 ---\n",
      "Subject fMRI data: (471, 1000)\n",
      "Subject Video embeddings: (471, 768)\n",
      "--- Processing data for Subject: NSD130 ---\n",
      "Processing NSD130 / defeat...\n",
      "Loaded cached aligned data for NSD130/defeat\n",
      "--- Final Concatenated Data Shapes for Subject NSD130 ---\n",
      "Subject fMRI data: (471, 1000)\n",
      "Subject Video embeddings: (471, 768)\n",
      "--- Processing data for Subject: NSD132 ---\n",
      "Processing NSD132 / defeat...\n",
      "Loaded cached aligned data for NSD132/defeat\n",
      "--- Final Concatenated Data Shapes for Subject NSD132 ---\n",
      "Subject fMRI data: (471, 1000)\n",
      "Subject Video embeddings: (471, 768)\n",
      "--- Processing data for Subject: NSD134 ---\n",
      "Processing NSD134 / defeat...\n",
      "Loaded cached aligned data for NSD134/defeat\n",
      "--- Final Concatenated Data Shapes for Subject NSD134 ---\n",
      "Subject fMRI data: (471, 1000)\n",
      "Subject Video embeddings: (471, 768)\n",
      "--- Processing data for Subject: NSD135 ---\n",
      "Processing NSD135 / defeat...\n",
      "Loaded cached aligned data for NSD135/defeat\n",
      "--- Final Concatenated Data Shapes for Subject NSD135 ---\n",
      "Subject fMRI data: (471, 1000)\n",
      "Subject Video embeddings: (471, 768)\n",
      "--- Processing data for Subject: NSD136 ---\n",
      "Processing NSD136 / defeat...\n",
      "Loaded cached aligned data for NSD136/defeat\n",
      "--- Final Concatenated Data Shapes for Subject NSD136 ---\n",
      "Subject fMRI data: (471, 1000)\n",
      "Subject Video embeddings: (471, 768)\n",
      "--- Processing data for Subject: NSD138 ---\n",
      "Processing NSD138 / defeat...\n",
      "Loaded cached aligned data for NSD138/defeat\n",
      "--- Final Concatenated Data Shapes for Subject NSD138 ---\n",
      "Subject fMRI data: (471, 1000)\n",
      "Subject Video embeddings: (471, 768)\n",
      "--- Processing data for Subject: NSD140 ---\n",
      "Processing NSD140 / defeat...\n",
      "Loaded cached aligned data for NSD140/defeat\n",
      "--- Final Concatenated Data Shapes for Subject NSD140 ---\n",
      "Subject fMRI data: (471, 1000)\n",
      "Subject Video embeddings: (471, 768)\n",
      "--- Processing data for Subject: NSD142 ---\n",
      "Processing NSD142 / defeat...\n",
      "Loaded cached aligned data for NSD142/defeat\n",
      "--- Final Concatenated Data Shapes for Subject NSD142 ---\n",
      "Subject fMRI data: (471, 1000)\n",
      "Subject Video embeddings: (471, 768)\n",
      "--- Processing data for Subject: NSD145 ---\n",
      "Processing NSD145 / defeat...\n",
      "Loaded cached aligned data for NSD145/defeat\n",
      "--- Final Concatenated Data Shapes for Subject NSD145 ---\n",
      "Subject fMRI data: (471, 1000)\n",
      "Subject Video embeddings: (471, 768)\n",
      "--- Processing data for Subject: NSD146 ---\n",
      "Processing NSD146 / defeat...\n",
      "Loaded cached aligned data for NSD146/defeat\n",
      "--- Final Concatenated Data Shapes for Subject NSD146 ---\n",
      "Subject fMRI data: (471, 1000)\n",
      "Subject Video embeddings: (471, 768)\n",
      "--- Processing data for Subject: NSD147 ---\n",
      "Processing NSD147 / defeat...\n",
      "Loaded cached aligned data for NSD147/defeat\n",
      "--- Final Concatenated Data Shapes for Subject NSD147 ---\n",
      "Subject fMRI data: (471, 1000)\n",
      "Subject Video embeddings: (471, 768)\n",
      "--- Processing data for Subject: NSD148 ---\n",
      "Processing NSD148 / defeat...\n",
      "Loaded cached aligned data for NSD148/defeat\n",
      "--- Final Concatenated Data Shapes for Subject NSD148 ---\n",
      "Subject fMRI data: (471, 1000)\n",
      "Subject Video embeddings: (471, 768)\n",
      "--- Processing data for Subject: NSD149 ---\n",
      "Processing NSD149 / defeat...\n",
      "Loaded cached aligned data for NSD149/defeat\n",
      "--- Final Concatenated Data Shapes for Subject NSD149 ---\n",
      "Subject fMRI data: (471, 1000)\n",
      "Subject Video embeddings: (471, 768)\n",
      "--- Processing data for Subject: NSD150 ---\n",
      "Processing NSD150 / defeat...\n",
      "Loaded cached aligned data for NSD150/defeat\n",
      "--- Final Concatenated Data Shapes for Subject NSD150 ---\n",
      "Subject fMRI data: (471, 1000)\n",
      "Subject Video embeddings: (471, 768)\n",
      "--- Processing data for Subject: NSD151 ---\n",
      "Processing NSD151 / defeat...\n",
      "Loaded cached aligned data for NSD151/defeat\n",
      "--- Final Concatenated Data Shapes for Subject NSD151 ---\n",
      "Subject fMRI data: (471, 1000)\n",
      "Subject Video embeddings: (471, 768)\n",
      "--- Processing data for Subject: NSD153 ---\n",
      "Processing NSD153 / defeat...\n",
      "Loaded cached aligned data for NSD153/defeat\n",
      "--- Final Concatenated Data Shapes for Subject NSD153 ---\n",
      "Subject fMRI data: (471, 1000)\n",
      "Subject Video embeddings: (471, 768)\n",
      "--- Processing data for Subject: NSD155 ---\n",
      "Processing NSD155 / defeat...\n",
      "Loaded cached aligned data for NSD155/defeat\n",
      "--- Final Concatenated Data Shapes for Subject NSD155 ---\n",
      "Subject fMRI data: (471, 1000)\n",
      "Subject Video embeddings: (471, 768)\n"
     ]
    }
   ],
   "source": [
    "all_train_fmri_raw = []\n",
    "all_train_video = []\n",
    "for train_subj_id in TRAIN_SUBJECT_IDS:\n",
    "    fmri_subj_raw, video_subj = process_subject_data(train_subj_id, fmri_tr, chosen_encoder)\n",
    "    \n",
    "    if fmri_subj_raw is not None and video_subj is not None:\n",
    "        all_train_fmri_raw.append(fmri_subj_raw)\n",
    "        all_train_video.append(video_subj)\n",
    "    else:\n",
    "        logger.warning(f\"Could not process data for training subject: {train_subj_id}\")"
   ]
  },
  {
   "cell_type": "code",
   "execution_count": 18,
   "metadata": {},
   "outputs": [
    {
     "name": "stdout",
     "output_type": "stream",
     "text": [
      "--- Combined Training Data Shapes (Before PCA) ---\n",
      "Train fMRI (Raw/SRM): (17427, 1000)\n",
      "Train Video (vitmae): (17427, 768)\n"
     ]
    }
   ],
   "source": [
    "final_train_fmri = np.concatenate(all_train_fmri_raw, axis=0)\n",
    "final_train_video = np.concatenate(all_train_video, axis=0)\n",
    "print(f\"--- Combined Training Data Shapes (Before PCA) ---\")\n",
    "print(f\"Train fMRI (Raw/SRM): {final_train_fmri.shape}\")\n",
    "print(f\"Train Video ({chosen_encoder}): {final_train_video.shape}\")\n"
   ]
  },
  {
   "cell_type": "markdown",
   "metadata": {},
   "source": [
    "### --- Prepare Training DataLoader ---"
   ]
  },
  {
   "cell_type": "code",
   "execution_count": 19,
   "metadata": {},
   "outputs": [
    {
     "name": "stdout",
     "output_type": "stream",
     "text": [
      "Train DataLoader ready (Size: 273 samples).\n"
     ]
    }
   ],
   "source": [
    "try:\n",
    "    train_dataset = TensorDataset(torch.from_numpy(final_train_fmri).float(),\n",
    "                                    torch.from_numpy(final_train_video).float())\n",
    "    train_loader = DataLoader(train_dataset, batch_size=BATCH_SIZE, shuffle=True, num_workers=4, pin_memory=True)\n",
    "    print(f\"Train DataLoader ready (Size: {len(train_loader)} samples).\")\n",
    "except Exception as e:\n",
    "    print(f\"Failed to create training DataLoader: {e}\", exc_info=True)\n",
    "\n"
   ]
  },
  {
   "cell_type": "markdown",
   "metadata": {},
   "source": [
    "### Processing the Test Data"
   ]
  },
  {
   "cell_type": "code",
   "execution_count": 20,
   "metadata": {},
   "outputs": [],
   "source": [
    "# --- Process Test Data ---\n",
    "final_test_fmri = None\n",
    "video_test = None\n",
    "test_loader = None\n",
    "test_dataset = None\n",
    "\n",
    "# if TEST_SUBJECT_ID:\n",
    "#     print(f\"--- Processing Test Data for Subject: {TEST_SUBJECT_ID} ---\")\n",
    "#     final_test_fmri, video_test = process_subject_data(TEST_SUBJECT_ID, fmri_tr, chosen_encoder)\n",
    "#     print(final_test_fmri.shape, video_test.shape)\n",
    "\n",
    "#     if final_test_fmri is None or video_test is None:\n",
    "#         print(f\"No test data could be processed for subject {TEST_SUBJECT_ID}. Cannot evaluate.\")\n",
    "#         # Decide whether to proceed with training only or exit\n",
    "#     else:\n",
    "#         print(f\"--- Final Test Data Shapes (After PCA if Applied) ---\")\n",
    "#         print(f\"Test fMRI data: {final_test_fmri.shape}\")\n",
    "#         print(f\"Test Video embeddings: {video_test.shape}\")\n",
    "\n",
    "#         # --- Prepare Test DataLoader ---\n",
    "#         try:\n",
    "#             test_dataset = TensorDataset(torch.from_numpy(final_test_fmri).float(),\n",
    "#                                             torch.from_numpy(video_test).float())\n",
    "#             test_loader = DataLoader(test_dataset, batch_size=BATCH_SIZE, shuffle=False, num_workers=4, pin_memory=True)\n",
    "#             print(f\"Test Dataset ready (Size: {len(test_dataset)} samples).\")\n",
    "#             print(f\"Test DataLoader ready (Size: {len(test_loader)} samples).\")\n",
    "#         except Exception as e:\n",
    "#                 logger.error(f\"Failed to create test DataLoader: {e}\", exc_info=True)\n",
    "#                 test_loader = None # Mark as None if failed\n",
    "# else:\n",
    "#         print(\"No TEST_SUBJECT_ID specified. Skipping test phase.\")\n",
    "#         test_loader = None\n"
   ]
  },
  {
   "cell_type": "code",
   "execution_count": 21,
   "metadata": {},
   "outputs": [
    {
     "name": "stdout",
     "output_type": "stream",
     "text": [
      "--- Processing data for Subject: NSD108 ---\n",
      "Processing NSD108 / defeat...\n",
      "Loaded cached aligned data for NSD108/defeat\n",
      "--- Final Concatenated Data Shapes for Subject NSD108 ---\n",
      "Subject fMRI data: (471, 1000)\n",
      "Subject Video embeddings: (471, 768)\n",
      "--- Processing data for Subject: NSD109 ---\n",
      "Processing NSD109 / defeat...\n",
      "Loaded cached aligned data for NSD109/defeat\n",
      "--- Final Concatenated Data Shapes for Subject NSD109 ---\n",
      "Subject fMRI data: (471, 1000)\n",
      "Subject Video embeddings: (471, 768)\n",
      "--- Processing data for Subject: NSD110 ---\n",
      "Processing NSD110 / defeat...\n",
      "Loaded cached aligned data for NSD110/defeat\n",
      "--- Final Concatenated Data Shapes for Subject NSD110 ---\n",
      "Subject fMRI data: (471, 1000)\n",
      "Subject Video embeddings: (471, 768)\n",
      "--- Processing data for Subject: NSD111 ---\n",
      "Processing NSD111 / defeat...\n",
      "Loaded cached aligned data for NSD111/defeat\n",
      "--- Final Concatenated Data Shapes for Subject NSD111 ---\n",
      "Subject fMRI data: (471, 1000)\n",
      "Subject Video embeddings: (471, 768)\n"
     ]
    }
   ],
   "source": [
    "all_test_fmri_raw = []\n",
    "all_test_video = []\n",
    "for test_subj_id in TEST_SUBJECT_IDS:\n",
    "    fmri_subj_raw, video_subj = process_subject_data(test_subj_id, fmri_tr, chosen_encoder)\n",
    "    \n",
    "    if fmri_subj_raw is not None and video_subj is not None:\n",
    "        all_test_fmri_raw.append(fmri_subj_raw)\n",
    "        all_test_video.append(video_subj)\n",
    "    else:\n",
    "        logger.warning(f\"Could not process data for testing subject: {test_subj_id}\")\n"
   ]
  },
  {
   "cell_type": "code",
   "execution_count": 22,
   "metadata": {},
   "outputs": [
    {
     "name": "stdout",
     "output_type": "stream",
     "text": [
      "--- Combined Testing Data Shapes (Before PCA) ---\n",
      "Test fMRI (Raw/SRM): (1884, 1000)\n",
      "Test Video (vitmae): (1884, 768)\n"
     ]
    }
   ],
   "source": [
    "final_test_fmri = np.concatenate(all_test_fmri_raw, axis=0)\n",
    "final_test_video = np.concatenate(all_test_video, axis=0)\n",
    "print(f\"--- Combined Testing Data Shapes (Before PCA) ---\")\n",
    "print(f\"Test fMRI (Raw/SRM): {final_test_fmri.shape}\")\n",
    "print(f\"Test Video ({chosen_encoder}): {final_test_video.shape}\")"
   ]
  },
  {
   "cell_type": "code",
   "execution_count": 23,
   "metadata": {},
   "outputs": [
    {
     "name": "stdout",
     "output_type": "stream",
     "text": [
      "Test DataLoader ready (Size: 30 samples).\n"
     ]
    }
   ],
   "source": [
    "try:\n",
    "    test_dataset = TensorDataset(torch.from_numpy(final_test_fmri).float(),\n",
    "                                    torch.from_numpy(final_test_video).float())\n",
    "    test_loader = DataLoader(test_dataset, batch_size=BATCH_SIZE, shuffle=True, num_workers=4, pin_memory=True)\n",
    "    print(f\"Test DataLoader ready (Size: {len(test_loader)} samples).\")\n",
    "except Exception as e:\n",
    "    print(f\"Failed to create test DataLoader: {e}\", exc_info=True)\n",
    "\n"
   ]
  },
  {
   "cell_type": "code",
   "execution_count": 24,
   "metadata": {},
   "outputs": [],
   "source": [
    "# --- Update config dims (Based on final *training* data) ---\n",
    "ENC_OUTPUT_DIM = final_train_fmri.shape[1]\n",
    "DEC_INPUT_DIM = final_train_fmri.shape[1]\n",
    "\n",
    "# DEC_OUTPUT_DIM is already set based on video encoder choice"
   ]
  },
  {
   "cell_type": "code",
   "execution_count": 25,
   "metadata": {},
   "outputs": [],
   "source": [
    "encoding_model = EncodingModel(\n",
    "    video_embed_dim=DEC_OUTPUT_DIM,\n",
    "    fmri_dim=ENC_OUTPUT_DIM,\n",
    "    hidden_dim=ENC_HIDDEN_DIM\n",
    ")\n",
    "decoding_model = DecodingModel(\n",
    "    fmri_dim=DEC_INPUT_DIM,\n",
    "    video_embed_dim=DEC_OUTPUT_DIM,\n",
    "    hidden_dim=DEC_HIDDEN_DIM\n",
    ")"
   ]
  },
  {
   "cell_type": "code",
   "execution_count": 26,
   "metadata": {},
   "outputs": [],
   "source": [
    "def run_training_no_val(model, train_loader, device, task='encoding', epochs=EPOCHS\n",
    "                        , learning_rate=LEARNING_RATE):\n",
    "    \"\"\" Simplified training loop without validation. \"\"\"\n",
    "\n",
    "    torch.manual_seed(42)\n",
    "    np.random.seed(42)\n",
    "    random.seed(42)\n",
    "    if torch.cuda.is_available():\n",
    "        torch.cuda.manual_seed_all(42)\n",
    "        torch.backends.cudnn.deterministic = True\n",
    "        torch.backends.cudnn.benchmark = False\n",
    "    model_type = \"LSTM\" if USE_TEMPORAL_MODELS else \"MLP\"\n",
    "    \n",
    "    if model_type == \"LSTM\" and task == 'encoding':\n",
    "        model =  LSTMEncodingModel(\n",
    "            video_embed_dim=DEC_OUTPUT_DIM,\n",
    "            fmri_dim=ENC_OUTPUT_DIM,\n",
    "            hidden_dim=ENC_HIDDEN_DIM\n",
    "        )\n",
    "    elif model_type == \"LSTM\" and task == 'decoding':\n",
    "        model = LSTMDecodingModel(\n",
    "            fmri_dim=DEC_INPUT_DIM,\n",
    "            video_embed_dim=DEC_OUTPUT_DIM,\n",
    "            hidden_dim=DEC_HIDDEN_DIM\n",
    "        )\n",
    "    elif model_type == \"MLP\" and task == 'encoding':\n",
    "        model = EncodingModel(\n",
    "            video_embed_dim=DEC_OUTPUT_DIM,\n",
    "            fmri_dim=ENC_OUTPUT_DIM,\n",
    "            hidden_dim=ENC_HIDDEN_DIM\n",
    "        )\n",
    "    else:\n",
    "        model = DecodingModel(\n",
    "            fmri_dim=DEC_INPUT_DIM,\n",
    "            video_embed_dim=DEC_OUTPUT_DIM,\n",
    "            hidden_dim=DEC_HIDDEN_DIM\n",
    "        )\n",
    "    \n",
    "\n",
    "    print(f\"Starting {task} model training ({model_type}, no validation) for {epochs} epochs on {device}\")\n",
    "    model.to(device)\n",
    "    optimizer = optim.Adam(model.parameters(), lr=learning_rate)\n",
    "    criterion = nn.MSELoss()\n",
    "\n",
    "    stimuli_str = \"_\".join(STIMULI_NAMES)\n",
    "\n",
    "    run = f\"{task}_{model_type}_{VIDEO_ENCODER_NAME}_{PCA_N_COMPONENTS if APPLY_PCA else 'nopca'}_{stimuli_str}\"\n",
    "    config = {\n",
    "        \"task\": task,\n",
    "        \"model_type\": model_type,\n",
    "        \"video_encoder\": VIDEO_ENCODER_NAME,\n",
    "        \"pca_components\": PCA_N_COMPONENTS if APPLY_PCA else \"nopca\",\n",
    "        \"stimuli\": stimuli_str,\n",
    "        \"learning_rate\": learning_rate,\n",
    "        \"batch_size\": BATCH_SIZE,\n",
    "        \"epochs\": epochs,\n",
    "        \"encoder_hidden_dim\": ENC_HIDDEN_DIM,\n",
    "        \"decoder_hidden_dim\": DEC_HIDDEN_DIM,\n",
    "        \"encoder_output_dim\": ENC_OUTPUT_DIM,\n",
    "        \"decoder_input_dim\": DEC_INPUT_DIM,\n",
    "        \"decoder_output_dim\": DEC_OUTPUT_DIM,\n",
    "        \"train_subjects\": TRAIN_SUBJECT_IDS,\n",
    "        \"test_subject\": TEST_SUBJECT_ID,\n",
    "    }\n",
    "    wandb.init(project=\"csai_fmri_video_project\", name=run, config=config, reinit=True) # Initialize wandb\n",
    "\n",
    "    for epoch in range(epochs):\n",
    "        # Pass use_temporal flag if train_epoch still expects it, otherwise remove\n",
    "        train_loss = train_epoch(model, train_loader, criterion, optimizer, device, task)\n",
    "        print(f\"Epoch {epoch+1}/{epochs} | Train Loss: {train_loss:.4f}\")\n",
    "        # No validation step, no saving best model based on validation\n",
    "        print(\"> Evaluation on train\")\n",
    "        results, _, _ = evaluate_model(model, train_loader, nn.MSELoss(), device=DEVICE, task=task)\n",
    "               \n",
    "        print(\"\\n> Evaluation on test\")\n",
    "        test_results, _, _ = evaluate_model(model, test_loader, nn.MSELoss(), device=DEVICE, task=task)\n",
    "        wandb.log({\n",
    "                \"MSE\": results['mse'], \n",
    "                \"PearsonR Avg\": results['pearsonr_avg'],\n",
    "                \"PearsonR All\": np.median(results['pearsonr_all']),\n",
    "                \"R2 Uniform\": results['r2_uniform'],\n",
    "                \"R2 Variance\": results['r2_variance'],\n",
    "                \"Test MSE\": test_results['mse'],\n",
    "                \"Test PearsonR Avg\": test_results['pearsonr_avg'],\n",
    "                \"Test PearsonR All\": np.median(test_results['pearsonr_all']),\n",
    "                \"Test R2 Uniform\": test_results['r2_uniform'],\n",
    "                \"Test R2 Variance\": test_results['r2_variance']\n",
    "            })\n",
    "\n",
    "    print(f\"Training complete after {epochs} epochs. Using model from last epoch.\")\n",
    "    wandb.finish() # Finish wandb run\n",
    "    return model # Return model from last epoch\n"
   ]
  },
  {
   "cell_type": "code",
   "execution_count": 27,
   "metadata": {},
   "outputs": [
    {
     "name": "stdout",
     "output_type": "stream",
     "text": [
      "Starting encoding model training (LSTM, no validation) for 50 epochs on cuda:0\n"
     ]
    },
    {
     "name": "stderr",
     "output_type": "stream",
     "text": [
      "\u001b[34m\u001b[1mwandb\u001b[0m: Currently logged in as: \u001b[33mmhardik003\u001b[0m (\u001b[33mwb-team-hardik\u001b[0m) to \u001b[32mhttps://api.wandb.ai\u001b[0m. Use \u001b[1m`wandb login --relogin`\u001b[0m to force relogin\n",
      "\u001b[34m\u001b[1mwandb\u001b[0m: \u001b[33mWARNING\u001b[0m Using a boolean value for 'reinit' is deprecated. Use 'return_previous' or 'finish_previous' instead.\n"
     ]
    },
    {
     "data": {
      "text/html": [
       "Tracking run with wandb version 0.19.11"
      ],
      "text/plain": [
       "<IPython.core.display.HTML object>"
      ]
     },
     "metadata": {},
     "output_type": "display_data"
    },
    {
     "data": {
      "text/html": [
       "Run data is saved locally in <code>/home/hardik/csai_project/Chetan/wandb/run-20250508_131034-4e5aojf5</code>"
      ],
      "text/plain": [
       "<IPython.core.display.HTML object>"
      ]
     },
     "metadata": {},
     "output_type": "display_data"
    },
    {
     "data": {
      "text/html": [
       "Syncing run <strong><a href='https://wandb.ai/wb-team-hardik/csai_fmri_video_project/runs/4e5aojf5' target=\"_blank\">encoding_LSTM_vitmae_1000_defeat</a></strong> to <a href='https://wandb.ai/wb-team-hardik/csai_fmri_video_project' target=\"_blank\">Weights & Biases</a> (<a href='https://wandb.me/developer-guide' target=\"_blank\">docs</a>)<br>"
      ],
      "text/plain": [
       "<IPython.core.display.HTML object>"
      ]
     },
     "metadata": {},
     "output_type": "display_data"
    },
    {
     "data": {
      "text/html": [
       " View project at <a href='https://wandb.ai/wb-team-hardik/csai_fmri_video_project' target=\"_blank\">https://wandb.ai/wb-team-hardik/csai_fmri_video_project</a>"
      ],
      "text/plain": [
       "<IPython.core.display.HTML object>"
      ]
     },
     "metadata": {},
     "output_type": "display_data"
    },
    {
     "data": {
      "text/html": [
       " View run at <a href='https://wandb.ai/wb-team-hardik/csai_fmri_video_project/runs/4e5aojf5' target=\"_blank\">https://wandb.ai/wb-team-hardik/csai_fmri_video_project/runs/4e5aojf5</a>"
      ],
      "text/plain": [
       "<IPython.core.display.HTML object>"
      ]
     },
     "metadata": {},
     "output_type": "display_data"
    },
    {
     "name": "stderr",
     "output_type": "stream",
     "text": [
      "                                                                                 \r"
     ]
    },
    {
     "name": "stdout",
     "output_type": "stream",
     "text": [
      "Epoch 1/50 | Train Loss: 1.3319\n",
      "> Evaluation on train\n",
      "Evaluating encoding model...\n"
     ]
    },
    {
     "name": "stderr",
     "output_type": "stream",
     "text": [
      "                                                                         \r"
     ]
    },
    {
     "name": "stdout",
     "output_type": "stream",
     "text": [
      "Evaluation complete. Target shape: (17427, 1000), Prediction shape: (17427, 1000)\n",
      "  MSE: 1.0302\n",
      "  Avg Pearson Correlation (across features/voxels): 0.0240\n",
      "  Median Pearson Correlation: 0.0237\n",
      "  R2 Score (uniform avg): -0.0336\n",
      "  R2 Score (variance weighted): -0.0336\n",
      "\n",
      "> Evaluation on test\n",
      "Evaluating encoding model...\n"
     ]
    },
    {
     "name": "stderr",
     "output_type": "stream",
     "text": [
      "                                                                     \r"
     ]
    },
    {
     "name": "stdout",
     "output_type": "stream",
     "text": [
      "Evaluation complete. Target shape: (1884, 1000), Prediction shape: (1884, 1000)\n",
      "  MSE: 1.0406\n",
      "  Avg Pearson Correlation (across features/voxels): 0.0044\n",
      "  Median Pearson Correlation: 0.0036\n",
      "  R2 Score (uniform avg): -0.0416\n",
      "  R2 Score (variance weighted): -0.0416\n"
     ]
    },
    {
     "name": "stderr",
     "output_type": "stream",
     "text": [
      "                                                                                 \r"
     ]
    },
    {
     "name": "stdout",
     "output_type": "stream",
     "text": [
      "Epoch 2/50 | Train Loss: 1.1909\n",
      "> Evaluation on train\n",
      "Evaluating encoding model...\n"
     ]
    },
    {
     "name": "stderr",
     "output_type": "stream",
     "text": [
      "                                                                         \r"
     ]
    },
    {
     "name": "stdout",
     "output_type": "stream",
     "text": [
      "Evaluation complete. Target shape: (17427, 1000), Prediction shape: (17427, 1000)\n",
      "  MSE: 1.0040\n",
      "  Avg Pearson Correlation (across features/voxels): 0.0359\n",
      "  Median Pearson Correlation: 0.0358\n",
      "  R2 Score (uniform avg): -0.0073\n",
      "  R2 Score (variance weighted): -0.0073\n",
      "\n",
      "> Evaluation on test\n",
      "Evaluating encoding model...\n"
     ]
    },
    {
     "name": "stderr",
     "output_type": "stream",
     "text": [
      "                                                                     \r"
     ]
    },
    {
     "name": "stdout",
     "output_type": "stream",
     "text": [
      "Evaluation complete. Target shape: (1884, 1000), Prediction shape: (1884, 1000)\n",
      "  MSE: 1.0143\n",
      "  Avg Pearson Correlation (across features/voxels): 0.0046\n",
      "  Median Pearson Correlation: 0.0047\n",
      "  R2 Score (uniform avg): -0.0153\n",
      "  R2 Score (variance weighted): -0.0153\n"
     ]
    },
    {
     "name": "stderr",
     "output_type": "stream",
     "text": [
      "                                                                                 \r"
     ]
    },
    {
     "name": "stdout",
     "output_type": "stream",
     "text": [
      "Epoch 3/50 | Train Loss: 1.1544\n",
      "> Evaluation on train\n",
      "Evaluating encoding model...\n"
     ]
    },
    {
     "name": "stderr",
     "output_type": "stream",
     "text": [
      "                                                                         \r"
     ]
    },
    {
     "name": "stdout",
     "output_type": "stream",
     "text": [
      "Evaluation complete. Target shape: (17427, 1000), Prediction shape: (17427, 1000)\n",
      "  MSE: 0.9974\n",
      "  Avg Pearson Correlation (across features/voxels): 0.0459\n",
      "  Median Pearson Correlation: 0.0452\n",
      "  R2 Score (uniform avg): -0.0006\n",
      "  R2 Score (variance weighted): -0.0006\n",
      "\n",
      "> Evaluation on test\n",
      "Evaluating encoding model...\n"
     ]
    },
    {
     "name": "stderr",
     "output_type": "stream",
     "text": [
      "                                                                     \r"
     ]
    },
    {
     "name": "stdout",
     "output_type": "stream",
     "text": [
      "Evaluation complete. Target shape: (1884, 1000), Prediction shape: (1884, 1000)\n",
      "  MSE: 1.0075\n",
      "  Avg Pearson Correlation (across features/voxels): 0.0057\n",
      "  Median Pearson Correlation: 0.0048\n",
      "  R2 Score (uniform avg): -0.0085\n",
      "  R2 Score (variance weighted): -0.0085\n"
     ]
    },
    {
     "name": "stderr",
     "output_type": "stream",
     "text": [
      "                                                                                 \r"
     ]
    },
    {
     "name": "stdout",
     "output_type": "stream",
     "text": [
      "Epoch 4/50 | Train Loss: 1.1410\n",
      "> Evaluation on train\n",
      "Evaluating encoding model...\n"
     ]
    },
    {
     "name": "stderr",
     "output_type": "stream",
     "text": [
      "                                                                         \r"
     ]
    },
    {
     "name": "stdout",
     "output_type": "stream",
     "text": [
      "Evaluation complete. Target shape: (17427, 1000), Prediction shape: (17427, 1000)\n",
      "  MSE: 0.9951\n",
      "  Avg Pearson Correlation (across features/voxels): 0.0534\n",
      "  Median Pearson Correlation: 0.0524\n",
      "  R2 Score (uniform avg): 0.0016\n",
      "  R2 Score (variance weighted): 0.0016\n",
      "\n",
      "> Evaluation on test\n",
      "Evaluating encoding model...\n"
     ]
    },
    {
     "name": "stderr",
     "output_type": "stream",
     "text": [
      "                                                                     \r"
     ]
    },
    {
     "name": "stdout",
     "output_type": "stream",
     "text": [
      "Evaluation complete. Target shape: (1884, 1000), Prediction shape: (1884, 1000)\n",
      "  MSE: 1.0046\n",
      "  Avg Pearson Correlation (across features/voxels): 0.0121\n",
      "  Median Pearson Correlation: 0.0129\n",
      "  R2 Score (uniform avg): -0.0056\n",
      "  R2 Score (variance weighted): -0.0056\n"
     ]
    },
    {
     "name": "stderr",
     "output_type": "stream",
     "text": [
      "                                                                                 \r"
     ]
    },
    {
     "name": "stdout",
     "output_type": "stream",
     "text": [
      "Epoch 5/50 | Train Loss: 1.1333\n",
      "> Evaluation on train\n",
      "Evaluating encoding model...\n"
     ]
    },
    {
     "name": "stderr",
     "output_type": "stream",
     "text": [
      "                                                                         \r"
     ]
    },
    {
     "name": "stdout",
     "output_type": "stream",
     "text": [
      "Evaluation complete. Target shape: (17427, 1000), Prediction shape: (17427, 1000)\n",
      "  MSE: 0.9933\n",
      "  Avg Pearson Correlation (across features/voxels): 0.0619\n",
      "  Median Pearson Correlation: 0.0612\n",
      "  R2 Score (uniform avg): 0.0035\n",
      "  R2 Score (variance weighted): 0.0035\n",
      "\n",
      "> Evaluation on test\n",
      "Evaluating encoding model...\n"
     ]
    },
    {
     "name": "stderr",
     "output_type": "stream",
     "text": [
      "                                                                     \r"
     ]
    },
    {
     "name": "stdout",
     "output_type": "stream",
     "text": [
      "Evaluation complete. Target shape: (1884, 1000), Prediction shape: (1884, 1000)\n",
      "  MSE: 1.0033\n",
      "  Avg Pearson Correlation (across features/voxels): 0.0120\n",
      "  Median Pearson Correlation: 0.0114\n",
      "  R2 Score (uniform avg): -0.0043\n",
      "  R2 Score (variance weighted): -0.0043\n"
     ]
    },
    {
     "name": "stderr",
     "output_type": "stream",
     "text": [
      "                                                                                 \r"
     ]
    },
    {
     "name": "stdout",
     "output_type": "stream",
     "text": [
      "Epoch 6/50 | Train Loss: 1.1287\n",
      "> Evaluation on train\n",
      "Evaluating encoding model...\n"
     ]
    },
    {
     "name": "stderr",
     "output_type": "stream",
     "text": [
      "                                                                         \r"
     ]
    },
    {
     "name": "stdout",
     "output_type": "stream",
     "text": [
      "Evaluation complete. Target shape: (17427, 1000), Prediction shape: (17427, 1000)\n",
      "  MSE: 0.9921\n",
      "  Avg Pearson Correlation (across features/voxels): 0.0692\n",
      "  Median Pearson Correlation: 0.0693\n",
      "  R2 Score (uniform avg): 0.0046\n",
      "  R2 Score (variance weighted): 0.0046\n",
      "\n",
      "> Evaluation on test\n",
      "Evaluating encoding model...\n"
     ]
    },
    {
     "name": "stderr",
     "output_type": "stream",
     "text": [
      "                                                                     \r"
     ]
    },
    {
     "name": "stdout",
     "output_type": "stream",
     "text": [
      "Evaluation complete. Target shape: (1884, 1000), Prediction shape: (1884, 1000)\n",
      "  MSE: 1.0021\n",
      "  Avg Pearson Correlation (across features/voxels): 0.0169\n",
      "  Median Pearson Correlation: 0.0191\n",
      "  R2 Score (uniform avg): -0.0031\n",
      "  R2 Score (variance weighted): -0.0031\n"
     ]
    },
    {
     "name": "stderr",
     "output_type": "stream",
     "text": [
      "                                                                                 \r"
     ]
    },
    {
     "name": "stdout",
     "output_type": "stream",
     "text": [
      "Epoch 7/50 | Train Loss: 1.1239\n",
      "> Evaluation on train\n",
      "Evaluating encoding model...\n"
     ]
    },
    {
     "name": "stderr",
     "output_type": "stream",
     "text": [
      "                                                                         \r"
     ]
    },
    {
     "name": "stdout",
     "output_type": "stream",
     "text": [
      "Evaluation complete. Target shape: (17427, 1000), Prediction shape: (17427, 1000)\n",
      "  MSE: 0.9910\n",
      "  Avg Pearson Correlation (across features/voxels): 0.0765\n",
      "  Median Pearson Correlation: 0.0766\n",
      "  R2 Score (uniform avg): 0.0057\n",
      "  R2 Score (variance weighted): 0.0057\n",
      "\n",
      "> Evaluation on test\n",
      "Evaluating encoding model...\n"
     ]
    },
    {
     "name": "stderr",
     "output_type": "stream",
     "text": [
      "                                                                     \r"
     ]
    },
    {
     "name": "stdout",
     "output_type": "stream",
     "text": [
      "Evaluation complete. Target shape: (1884, 1000), Prediction shape: (1884, 1000)\n",
      "  MSE: 1.0022\n",
      "  Avg Pearson Correlation (across features/voxels): 0.0192\n",
      "  Median Pearson Correlation: 0.0195\n",
      "  R2 Score (uniform avg): -0.0032\n",
      "  R2 Score (variance weighted): -0.0032\n"
     ]
    },
    {
     "name": "stderr",
     "output_type": "stream",
     "text": [
      "                                                                                 \r"
     ]
    },
    {
     "name": "stdout",
     "output_type": "stream",
     "text": [
      "Epoch 8/50 | Train Loss: 1.1204\n",
      "> Evaluation on train\n",
      "Evaluating encoding model...\n"
     ]
    },
    {
     "name": "stderr",
     "output_type": "stream",
     "text": [
      "                                                                         \r"
     ]
    },
    {
     "name": "stdout",
     "output_type": "stream",
     "text": [
      "Evaluation complete. Target shape: (17427, 1000), Prediction shape: (17427, 1000)\n",
      "  MSE: 0.9898\n",
      "  Avg Pearson Correlation (across features/voxels): 0.0842\n",
      "  Median Pearson Correlation: 0.0848\n",
      "  R2 Score (uniform avg): 0.0070\n",
      "  R2 Score (variance weighted): 0.0070\n",
      "\n",
      "> Evaluation on test\n",
      "Evaluating encoding model...\n"
     ]
    },
    {
     "name": "stderr",
     "output_type": "stream",
     "text": [
      "                                                                     \r"
     ]
    },
    {
     "name": "stdout",
     "output_type": "stream",
     "text": [
      "Evaluation complete. Target shape: (1884, 1000), Prediction shape: (1884, 1000)\n",
      "  MSE: 1.0013\n",
      "  Avg Pearson Correlation (across features/voxels): 0.0239\n",
      "  Median Pearson Correlation: 0.0234\n",
      "  R2 Score (uniform avg): -0.0023\n",
      "  R2 Score (variance weighted): -0.0023\n"
     ]
    },
    {
     "name": "stderr",
     "output_type": "stream",
     "text": [
      "                                                                                 \r"
     ]
    },
    {
     "name": "stdout",
     "output_type": "stream",
     "text": [
      "Epoch 9/50 | Train Loss: 1.1164\n",
      "> Evaluation on train\n",
      "Evaluating encoding model...\n"
     ]
    },
    {
     "name": "stderr",
     "output_type": "stream",
     "text": [
      "                                                                         \r"
     ]
    },
    {
     "name": "stdout",
     "output_type": "stream",
     "text": [
      "Evaluation complete. Target shape: (17427, 1000), Prediction shape: (17427, 1000)\n",
      "  MSE: 0.9894\n",
      "  Avg Pearson Correlation (across features/voxels): 0.0870\n",
      "  Median Pearson Correlation: 0.0875\n",
      "  R2 Score (uniform avg): 0.0073\n",
      "  R2 Score (variance weighted): 0.0073\n",
      "\n",
      "> Evaluation on test\n",
      "Evaluating encoding model...\n"
     ]
    },
    {
     "name": "stderr",
     "output_type": "stream",
     "text": [
      "                                                                     \r"
     ]
    },
    {
     "name": "stdout",
     "output_type": "stream",
     "text": [
      "Evaluation complete. Target shape: (1884, 1000), Prediction shape: (1884, 1000)\n",
      "  MSE: 1.0023\n",
      "  Avg Pearson Correlation (across features/voxels): 0.0254\n",
      "  Median Pearson Correlation: 0.0252\n",
      "  R2 Score (uniform avg): -0.0033\n",
      "  R2 Score (variance weighted): -0.0033\n"
     ]
    },
    {
     "name": "stderr",
     "output_type": "stream",
     "text": [
      "                                                                                 \r"
     ]
    },
    {
     "name": "stdout",
     "output_type": "stream",
     "text": [
      "Epoch 10/50 | Train Loss: 1.1132\n",
      "> Evaluation on train\n",
      "Evaluating encoding model...\n"
     ]
    },
    {
     "name": "stderr",
     "output_type": "stream",
     "text": [
      "                                                                         \r"
     ]
    },
    {
     "name": "stdout",
     "output_type": "stream",
     "text": [
      "Evaluation complete. Target shape: (17427, 1000), Prediction shape: (17427, 1000)\n",
      "  MSE: 0.9874\n",
      "  Avg Pearson Correlation (across features/voxels): 0.0978\n",
      "  Median Pearson Correlation: 0.0988\n",
      "  R2 Score (uniform avg): 0.0094\n",
      "  R2 Score (variance weighted): 0.0094\n",
      "\n",
      "> Evaluation on test\n",
      "Evaluating encoding model...\n"
     ]
    },
    {
     "name": "stderr",
     "output_type": "stream",
     "text": [
      "                                                                     \r"
     ]
    },
    {
     "name": "stdout",
     "output_type": "stream",
     "text": [
      "Evaluation complete. Target shape: (1884, 1000), Prediction shape: (1884, 1000)\n",
      "  MSE: 1.0017\n",
      "  Avg Pearson Correlation (across features/voxels): 0.0295\n",
      "  Median Pearson Correlation: 0.0293\n",
      "  R2 Score (uniform avg): -0.0027\n",
      "  R2 Score (variance weighted): -0.0027\n"
     ]
    },
    {
     "name": "stderr",
     "output_type": "stream",
     "text": [
      "                                                                                 \r"
     ]
    },
    {
     "name": "stdout",
     "output_type": "stream",
     "text": [
      "Epoch 11/50 | Train Loss: 1.1097\n",
      "> Evaluation on train\n",
      "Evaluating encoding model...\n"
     ]
    },
    {
     "name": "stderr",
     "output_type": "stream",
     "text": [
      "                                                                         \r"
     ]
    },
    {
     "name": "stdout",
     "output_type": "stream",
     "text": [
      "Evaluation complete. Target shape: (17427, 1000), Prediction shape: (17427, 1000)\n",
      "  MSE: 0.9862\n",
      "  Avg Pearson Correlation (across features/voxels): 0.1033\n",
      "  Median Pearson Correlation: 0.1043\n",
      "  R2 Score (uniform avg): 0.0105\n",
      "  R2 Score (variance weighted): 0.0105\n",
      "\n",
      "> Evaluation on test\n",
      "Evaluating encoding model...\n"
     ]
    },
    {
     "name": "stderr",
     "output_type": "stream",
     "text": [
      "                                                                     \r"
     ]
    },
    {
     "name": "stdout",
     "output_type": "stream",
     "text": [
      "Evaluation complete. Target shape: (1884, 1000), Prediction shape: (1884, 1000)\n",
      "  MSE: 1.0018\n",
      "  Avg Pearson Correlation (across features/voxels): 0.0333\n",
      "  Median Pearson Correlation: 0.0332\n",
      "  R2 Score (uniform avg): -0.0028\n",
      "  R2 Score (variance weighted): -0.0028\n"
     ]
    },
    {
     "name": "stderr",
     "output_type": "stream",
     "text": [
      "                                                                                 \r"
     ]
    },
    {
     "name": "stdout",
     "output_type": "stream",
     "text": [
      "Epoch 12/50 | Train Loss: 1.1069\n",
      "> Evaluation on train\n",
      "Evaluating encoding model...\n"
     ]
    },
    {
     "name": "stderr",
     "output_type": "stream",
     "text": [
      "                                                                         \r"
     ]
    },
    {
     "name": "stdout",
     "output_type": "stream",
     "text": [
      "Evaluation complete. Target shape: (17427, 1000), Prediction shape: (17427, 1000)\n",
      "  MSE: 0.9852\n",
      "  Avg Pearson Correlation (across features/voxels): 0.1083\n",
      "  Median Pearson Correlation: 0.1082\n",
      "  R2 Score (uniform avg): 0.0116\n",
      "  R2 Score (variance weighted): 0.0116\n",
      "\n",
      "> Evaluation on test\n",
      "Evaluating encoding model...\n"
     ]
    },
    {
     "name": "stderr",
     "output_type": "stream",
     "text": [
      "                                                                     \r"
     ]
    },
    {
     "name": "stdout",
     "output_type": "stream",
     "text": [
      "Evaluation complete. Target shape: (1884, 1000), Prediction shape: (1884, 1000)\n",
      "  MSE: 1.0015\n",
      "  Avg Pearson Correlation (across features/voxels): 0.0379\n",
      "  Median Pearson Correlation: 0.0372\n",
      "  R2 Score (uniform avg): -0.0025\n",
      "  R2 Score (variance weighted): -0.0024\n"
     ]
    },
    {
     "name": "stderr",
     "output_type": "stream",
     "text": [
      "                                                                                  \r"
     ]
    },
    {
     "name": "stdout",
     "output_type": "stream",
     "text": [
      "Epoch 13/50 | Train Loss: 1.1038\n",
      "> Evaluation on train\n",
      "Evaluating encoding model...\n"
     ]
    },
    {
     "name": "stderr",
     "output_type": "stream",
     "text": [
      "                                                                         \r"
     ]
    },
    {
     "name": "stdout",
     "output_type": "stream",
     "text": [
      "Evaluation complete. Target shape: (17427, 1000), Prediction shape: (17427, 1000)\n",
      "  MSE: 0.9843\n",
      "  Avg Pearson Correlation (across features/voxels): 0.1124\n",
      "  Median Pearson Correlation: 0.1126\n",
      "  R2 Score (uniform avg): 0.0125\n",
      "  R2 Score (variance weighted): 0.0125\n",
      "\n",
      "> Evaluation on test\n",
      "Evaluating encoding model...\n"
     ]
    },
    {
     "name": "stderr",
     "output_type": "stream",
     "text": [
      "                                                                     \r"
     ]
    },
    {
     "name": "stdout",
     "output_type": "stream",
     "text": [
      "Evaluation complete. Target shape: (1884, 1000), Prediction shape: (1884, 1000)\n",
      "  MSE: 1.0002\n",
      "  Avg Pearson Correlation (across features/voxels): 0.0452\n",
      "  Median Pearson Correlation: 0.0435\n",
      "  R2 Score (uniform avg): -0.0012\n",
      "  R2 Score (variance weighted): -0.0012\n"
     ]
    },
    {
     "name": "stderr",
     "output_type": "stream",
     "text": [
      "                                                                                 \r"
     ]
    },
    {
     "name": "stdout",
     "output_type": "stream",
     "text": [
      "Epoch 14/50 | Train Loss: 1.1010\n",
      "> Evaluation on train\n",
      "Evaluating encoding model...\n"
     ]
    },
    {
     "name": "stderr",
     "output_type": "stream",
     "text": [
      "                                                                         \r"
     ]
    },
    {
     "name": "stdout",
     "output_type": "stream",
     "text": [
      "Evaluation complete. Target shape: (17427, 1000), Prediction shape: (17427, 1000)\n",
      "  MSE: 0.9837\n",
      "  Avg Pearson Correlation (across features/voxels): 0.1146\n",
      "  Median Pearson Correlation: 0.1144\n",
      "  R2 Score (uniform avg): 0.0131\n",
      "  R2 Score (variance weighted): 0.0131\n",
      "\n",
      "> Evaluation on test\n",
      "Evaluating encoding model...\n"
     ]
    },
    {
     "name": "stderr",
     "output_type": "stream",
     "text": [
      "                                                                     \r"
     ]
    },
    {
     "name": "stdout",
     "output_type": "stream",
     "text": [
      "Evaluation complete. Target shape: (1884, 1000), Prediction shape: (1884, 1000)\n",
      "  MSE: 1.0010\n",
      "  Avg Pearson Correlation (across features/voxels): 0.0443\n",
      "  Median Pearson Correlation: 0.0428\n",
      "  R2 Score (uniform avg): -0.0020\n",
      "  R2 Score (variance weighted): -0.0020\n"
     ]
    },
    {
     "name": "stderr",
     "output_type": "stream",
     "text": [
      "                                                                                  \r"
     ]
    },
    {
     "name": "stdout",
     "output_type": "stream",
     "text": [
      "Epoch 15/50 | Train Loss: 1.0980\n",
      "> Evaluation on train\n",
      "Evaluating encoding model...\n"
     ]
    },
    {
     "name": "stderr",
     "output_type": "stream",
     "text": [
      "                                                                         \r"
     ]
    },
    {
     "name": "stdout",
     "output_type": "stream",
     "text": [
      "Evaluation complete. Target shape: (17427, 1000), Prediction shape: (17427, 1000)\n",
      "  MSE: 0.9830\n",
      "  Avg Pearson Correlation (across features/voxels): 0.1176\n",
      "  Median Pearson Correlation: 0.1178\n",
      "  R2 Score (uniform avg): 0.0137\n",
      "  R2 Score (variance weighted): 0.0137\n",
      "\n",
      "> Evaluation on test\n",
      "Evaluating encoding model...\n"
     ]
    },
    {
     "name": "stderr",
     "output_type": "stream",
     "text": [
      "                                                                     \r"
     ]
    },
    {
     "name": "stdout",
     "output_type": "stream",
     "text": [
      "Evaluation complete. Target shape: (1884, 1000), Prediction shape: (1884, 1000)\n",
      "  MSE: 1.0013\n",
      "  Avg Pearson Correlation (across features/voxels): 0.0433\n",
      "  Median Pearson Correlation: 0.0430\n",
      "  R2 Score (uniform avg): -0.0023\n",
      "  R2 Score (variance weighted): -0.0023\n"
     ]
    },
    {
     "name": "stderr",
     "output_type": "stream",
     "text": [
      "                                                                                  \r"
     ]
    },
    {
     "name": "stdout",
     "output_type": "stream",
     "text": [
      "Epoch 16/50 | Train Loss: 1.0959\n",
      "> Evaluation on train\n",
      "Evaluating encoding model...\n"
     ]
    },
    {
     "name": "stderr",
     "output_type": "stream",
     "text": [
      "                                                                         \r"
     ]
    },
    {
     "name": "stdout",
     "output_type": "stream",
     "text": [
      "Evaluation complete. Target shape: (17427, 1000), Prediction shape: (17427, 1000)\n",
      "  MSE: 0.9824\n",
      "  Avg Pearson Correlation (across features/voxels): 0.1202\n",
      "  Median Pearson Correlation: 0.1199\n",
      "  R2 Score (uniform avg): 0.0144\n",
      "  R2 Score (variance weighted): 0.0144\n",
      "\n",
      "> Evaluation on test\n",
      "Evaluating encoding model...\n"
     ]
    },
    {
     "name": "stderr",
     "output_type": "stream",
     "text": [
      "                                                                     \r"
     ]
    },
    {
     "name": "stdout",
     "output_type": "stream",
     "text": [
      "Evaluation complete. Target shape: (1884, 1000), Prediction shape: (1884, 1000)\n",
      "  MSE: 1.0005\n",
      "  Avg Pearson Correlation (across features/voxels): 0.0489\n",
      "  Median Pearson Correlation: 0.0464\n",
      "  R2 Score (uniform avg): -0.0015\n",
      "  R2 Score (variance weighted): -0.0015\n"
     ]
    },
    {
     "name": "stderr",
     "output_type": "stream",
     "text": [
      "                                                                                  \r"
     ]
    },
    {
     "name": "stdout",
     "output_type": "stream",
     "text": [
      "Epoch 17/50 | Train Loss: 1.0927\n",
      "> Evaluation on train\n",
      "Evaluating encoding model...\n"
     ]
    },
    {
     "name": "stderr",
     "output_type": "stream",
     "text": [
      "                                                                         \r"
     ]
    },
    {
     "name": "stdout",
     "output_type": "stream",
     "text": [
      "Evaluation complete. Target shape: (17427, 1000), Prediction shape: (17427, 1000)\n",
      "  MSE: 0.9820\n",
      "  Avg Pearson Correlation (across features/voxels): 0.1222\n",
      "  Median Pearson Correlation: 0.1221\n",
      "  R2 Score (uniform avg): 0.0148\n",
      "  R2 Score (variance weighted): 0.0148\n",
      "\n",
      "> Evaluation on test\n",
      "Evaluating encoding model...\n"
     ]
    },
    {
     "name": "stderr",
     "output_type": "stream",
     "text": [
      "                                                                     \r"
     ]
    },
    {
     "name": "stdout",
     "output_type": "stream",
     "text": [
      "Evaluation complete. Target shape: (1884, 1000), Prediction shape: (1884, 1000)\n",
      "  MSE: 0.9999\n",
      "  Avg Pearson Correlation (across features/voxels): 0.0503\n",
      "  Median Pearson Correlation: 0.0495\n",
      "  R2 Score (uniform avg): -0.0009\n",
      "  R2 Score (variance weighted): -0.0009\n"
     ]
    },
    {
     "name": "stderr",
     "output_type": "stream",
     "text": [
      "                                                                                  \r"
     ]
    },
    {
     "name": "stdout",
     "output_type": "stream",
     "text": [
      "Epoch 18/50 | Train Loss: 1.0911\n",
      "> Evaluation on train\n",
      "Evaluating encoding model...\n"
     ]
    },
    {
     "name": "stderr",
     "output_type": "stream",
     "text": [
      "                                                                         \r"
     ]
    },
    {
     "name": "stdout",
     "output_type": "stream",
     "text": [
      "Evaluation complete. Target shape: (17427, 1000), Prediction shape: (17427, 1000)\n",
      "  MSE: 0.9813\n",
      "  Avg Pearson Correlation (across features/voxels): 0.1243\n",
      "  Median Pearson Correlation: 0.1238\n",
      "  R2 Score (uniform avg): 0.0154\n",
      "  R2 Score (variance weighted): 0.0154\n",
      "\n",
      "> Evaluation on test\n",
      "Evaluating encoding model...\n"
     ]
    },
    {
     "name": "stderr",
     "output_type": "stream",
     "text": [
      "                                                                     \r"
     ]
    },
    {
     "name": "stdout",
     "output_type": "stream",
     "text": [
      "Evaluation complete. Target shape: (1884, 1000), Prediction shape: (1884, 1000)\n",
      "  MSE: 1.0007\n",
      "  Avg Pearson Correlation (across features/voxels): 0.0501\n",
      "  Median Pearson Correlation: 0.0487\n",
      "  R2 Score (uniform avg): -0.0017\n",
      "  R2 Score (variance weighted): -0.0017\n"
     ]
    },
    {
     "name": "stderr",
     "output_type": "stream",
     "text": [
      "                                                                                 \r"
     ]
    },
    {
     "name": "stdout",
     "output_type": "stream",
     "text": [
      "Epoch 19/50 | Train Loss: 1.0887\n",
      "> Evaluation on train\n",
      "Evaluating encoding model...\n"
     ]
    },
    {
     "name": "stderr",
     "output_type": "stream",
     "text": [
      "                                                                         \r"
     ]
    },
    {
     "name": "stdout",
     "output_type": "stream",
     "text": [
      "Evaluation complete. Target shape: (17427, 1000), Prediction shape: (17427, 1000)\n",
      "  MSE: 0.9811\n",
      "  Avg Pearson Correlation (across features/voxels): 0.1257\n",
      "  Median Pearson Correlation: 0.1256\n",
      "  R2 Score (uniform avg): 0.0157\n",
      "  R2 Score (variance weighted): 0.0157\n",
      "\n",
      "> Evaluation on test\n",
      "Evaluating encoding model...\n"
     ]
    },
    {
     "name": "stderr",
     "output_type": "stream",
     "text": [
      "                                                                     \r"
     ]
    },
    {
     "name": "stdout",
     "output_type": "stream",
     "text": [
      "Evaluation complete. Target shape: (1884, 1000), Prediction shape: (1884, 1000)\n",
      "  MSE: 0.9997\n",
      "  Avg Pearson Correlation (across features/voxels): 0.0530\n",
      "  Median Pearson Correlation: 0.0524\n",
      "  R2 Score (uniform avg): -0.0007\n",
      "  R2 Score (variance weighted): -0.0007\n"
     ]
    },
    {
     "name": "stderr",
     "output_type": "stream",
     "text": [
      "                                                                                  \r"
     ]
    },
    {
     "name": "stdout",
     "output_type": "stream",
     "text": [
      "Epoch 20/50 | Train Loss: 1.0865\n",
      "> Evaluation on train\n",
      "Evaluating encoding model...\n"
     ]
    },
    {
     "name": "stderr",
     "output_type": "stream",
     "text": [
      "                                                                         \r"
     ]
    },
    {
     "name": "stdout",
     "output_type": "stream",
     "text": [
      "Evaluation complete. Target shape: (17427, 1000), Prediction shape: (17427, 1000)\n",
      "  MSE: 0.9808\n",
      "  Avg Pearson Correlation (across features/voxels): 0.1265\n",
      "  Median Pearson Correlation: 0.1262\n",
      "  R2 Score (uniform avg): 0.0159\n",
      "  R2 Score (variance weighted): 0.0159\n",
      "\n",
      "> Evaluation on test\n",
      "Evaluating encoding model...\n"
     ]
    },
    {
     "name": "stderr",
     "output_type": "stream",
     "text": [
      "                                                                     \r"
     ]
    },
    {
     "name": "stdout",
     "output_type": "stream",
     "text": [
      "Evaluation complete. Target shape: (1884, 1000), Prediction shape: (1884, 1000)\n",
      "  MSE: 0.9997\n",
      "  Avg Pearson Correlation (across features/voxels): 0.0551\n",
      "  Median Pearson Correlation: 0.0558\n",
      "  R2 Score (uniform avg): -0.0007\n",
      "  R2 Score (variance weighted): -0.0007\n"
     ]
    },
    {
     "name": "stderr",
     "output_type": "stream",
     "text": [
      "                                                                                  \r"
     ]
    },
    {
     "name": "stdout",
     "output_type": "stream",
     "text": [
      "Epoch 21/50 | Train Loss: 1.0849\n",
      "> Evaluation on train\n",
      "Evaluating encoding model...\n"
     ]
    },
    {
     "name": "stderr",
     "output_type": "stream",
     "text": [
      "                                                                         \r"
     ]
    },
    {
     "name": "stdout",
     "output_type": "stream",
     "text": [
      "Evaluation complete. Target shape: (17427, 1000), Prediction shape: (17427, 1000)\n",
      "  MSE: 0.9804\n",
      "  Avg Pearson Correlation (across features/voxels): 0.1279\n",
      "  Median Pearson Correlation: 0.1275\n",
      "  R2 Score (uniform avg): 0.0163\n",
      "  R2 Score (variance weighted): 0.0163\n",
      "\n",
      "> Evaluation on test\n",
      "Evaluating encoding model...\n"
     ]
    },
    {
     "name": "stderr",
     "output_type": "stream",
     "text": [
      "                                                                     \r"
     ]
    },
    {
     "name": "stdout",
     "output_type": "stream",
     "text": [
      "Evaluation complete. Target shape: (1884, 1000), Prediction shape: (1884, 1000)\n",
      "  MSE: 1.0004\n",
      "  Avg Pearson Correlation (across features/voxels): 0.0526\n",
      "  Median Pearson Correlation: 0.0529\n",
      "  R2 Score (uniform avg): -0.0014\n",
      "  R2 Score (variance weighted): -0.0014\n"
     ]
    },
    {
     "name": "stderr",
     "output_type": "stream",
     "text": [
      "                                                                                  \r"
     ]
    },
    {
     "name": "stdout",
     "output_type": "stream",
     "text": [
      "Epoch 22/50 | Train Loss: 1.0831\n",
      "> Evaluation on train\n",
      "Evaluating encoding model...\n"
     ]
    },
    {
     "name": "stderr",
     "output_type": "stream",
     "text": [
      "                                                                         \r"
     ]
    },
    {
     "name": "stdout",
     "output_type": "stream",
     "text": [
      "Evaluation complete. Target shape: (17427, 1000), Prediction shape: (17427, 1000)\n",
      "  MSE: 0.9802\n",
      "  Avg Pearson Correlation (across features/voxels): 0.1293\n",
      "  Median Pearson Correlation: 0.1287\n",
      "  R2 Score (uniform avg): 0.0166\n",
      "  R2 Score (variance weighted): 0.0166\n",
      "\n",
      "> Evaluation on test\n",
      "Evaluating encoding model...\n"
     ]
    },
    {
     "name": "stderr",
     "output_type": "stream",
     "text": [
      "                                                                     \r"
     ]
    },
    {
     "name": "stdout",
     "output_type": "stream",
     "text": [
      "Evaluation complete. Target shape: (1884, 1000), Prediction shape: (1884, 1000)\n",
      "  MSE: 1.0008\n",
      "  Avg Pearson Correlation (across features/voxels): 0.0499\n",
      "  Median Pearson Correlation: 0.0478\n",
      "  R2 Score (uniform avg): -0.0018\n",
      "  R2 Score (variance weighted): -0.0018\n"
     ]
    },
    {
     "name": "stderr",
     "output_type": "stream",
     "text": [
      "                                                                                  \r"
     ]
    },
    {
     "name": "stdout",
     "output_type": "stream",
     "text": [
      "Epoch 23/50 | Train Loss: 1.0812\n",
      "> Evaluation on train\n",
      "Evaluating encoding model...\n"
     ]
    },
    {
     "name": "stderr",
     "output_type": "stream",
     "text": [
      "                                                                         \r"
     ]
    },
    {
     "name": "stdout",
     "output_type": "stream",
     "text": [
      "Evaluation complete. Target shape: (17427, 1000), Prediction shape: (17427, 1000)\n",
      "  MSE: 0.9796\n",
      "  Avg Pearson Correlation (across features/voxels): 0.1309\n",
      "  Median Pearson Correlation: 0.1303\n",
      "  R2 Score (uniform avg): 0.0172\n",
      "  R2 Score (variance weighted): 0.0172\n",
      "\n",
      "> Evaluation on test\n",
      "Evaluating encoding model...\n"
     ]
    },
    {
     "name": "stderr",
     "output_type": "stream",
     "text": [
      "                                                                     \r"
     ]
    },
    {
     "name": "stdout",
     "output_type": "stream",
     "text": [
      "Evaluation complete. Target shape: (1884, 1000), Prediction shape: (1884, 1000)\n",
      "  MSE: 1.0002\n",
      "  Avg Pearson Correlation (across features/voxels): 0.0554\n",
      "  Median Pearson Correlation: 0.0545\n",
      "  R2 Score (uniform avg): -0.0012\n",
      "  R2 Score (variance weighted): -0.0012\n"
     ]
    },
    {
     "name": "stderr",
     "output_type": "stream",
     "text": [
      "                                                                                  \r"
     ]
    },
    {
     "name": "stdout",
     "output_type": "stream",
     "text": [
      "Epoch 24/50 | Train Loss: 1.0792\n",
      "> Evaluation on train\n",
      "Evaluating encoding model...\n"
     ]
    },
    {
     "name": "stderr",
     "output_type": "stream",
     "text": [
      "                                                                         \r"
     ]
    },
    {
     "name": "stdout",
     "output_type": "stream",
     "text": [
      "Evaluation complete. Target shape: (17427, 1000), Prediction shape: (17427, 1000)\n",
      "  MSE: 0.9795\n",
      "  Avg Pearson Correlation (across features/voxels): 0.1314\n",
      "  Median Pearson Correlation: 0.1309\n",
      "  R2 Score (uniform avg): 0.0173\n",
      "  R2 Score (variance weighted): 0.0173\n",
      "\n",
      "> Evaluation on test\n",
      "Evaluating encoding model...\n"
     ]
    },
    {
     "name": "stderr",
     "output_type": "stream",
     "text": [
      "                                                                     \r"
     ]
    },
    {
     "name": "stdout",
     "output_type": "stream",
     "text": [
      "Evaluation complete. Target shape: (1884, 1000), Prediction shape: (1884, 1000)\n",
      "  MSE: 1.0021\n",
      "  Avg Pearson Correlation (across features/voxels): 0.0496\n",
      "  Median Pearson Correlation: 0.0483\n",
      "  R2 Score (uniform avg): -0.0031\n",
      "  R2 Score (variance weighted): -0.0031\n"
     ]
    },
    {
     "name": "stderr",
     "output_type": "stream",
     "text": [
      "                                                                                  \r"
     ]
    },
    {
     "name": "stdout",
     "output_type": "stream",
     "text": [
      "Epoch 25/50 | Train Loss: 1.0771\n",
      "> Evaluation on train\n",
      "Evaluating encoding model...\n"
     ]
    },
    {
     "name": "stderr",
     "output_type": "stream",
     "text": [
      "                                                                         \r"
     ]
    },
    {
     "name": "stdout",
     "output_type": "stream",
     "text": [
      "Evaluation complete. Target shape: (17427, 1000), Prediction shape: (17427, 1000)\n",
      "  MSE: 0.9791\n",
      "  Avg Pearson Correlation (across features/voxels): 0.1326\n",
      "  Median Pearson Correlation: 0.1322\n",
      "  R2 Score (uniform avg): 0.0177\n",
      "  R2 Score (variance weighted): 0.0177\n",
      "\n",
      "> Evaluation on test\n",
      "Evaluating encoding model...\n"
     ]
    },
    {
     "name": "stderr",
     "output_type": "stream",
     "text": [
      "                                                                     \r"
     ]
    },
    {
     "name": "stdout",
     "output_type": "stream",
     "text": [
      "Evaluation complete. Target shape: (1884, 1000), Prediction shape: (1884, 1000)\n",
      "  MSE: 1.0007\n",
      "  Avg Pearson Correlation (across features/voxels): 0.0562\n",
      "  Median Pearson Correlation: 0.0545\n",
      "  R2 Score (uniform avg): -0.0017\n",
      "  R2 Score (variance weighted): -0.0017\n"
     ]
    },
    {
     "name": "stderr",
     "output_type": "stream",
     "text": [
      "                                                                                  \r"
     ]
    },
    {
     "name": "stdout",
     "output_type": "stream",
     "text": [
      "Epoch 26/50 | Train Loss: 1.0754\n",
      "> Evaluation on train\n",
      "Evaluating encoding model...\n"
     ]
    },
    {
     "name": "stderr",
     "output_type": "stream",
     "text": [
      "                                                                         \r"
     ]
    },
    {
     "name": "stdout",
     "output_type": "stream",
     "text": [
      "Evaluation complete. Target shape: (17427, 1000), Prediction shape: (17427, 1000)\n",
      "  MSE: 0.9788\n",
      "  Avg Pearson Correlation (across features/voxels): 0.1339\n",
      "  Median Pearson Correlation: 0.1336\n",
      "  R2 Score (uniform avg): 0.0180\n",
      "  R2 Score (variance weighted): 0.0180\n",
      "\n",
      "> Evaluation on test\n",
      "Evaluating encoding model...\n"
     ]
    },
    {
     "name": "stderr",
     "output_type": "stream",
     "text": [
      "                                                                     \r"
     ]
    },
    {
     "name": "stdout",
     "output_type": "stream",
     "text": [
      "Evaluation complete. Target shape: (1884, 1000), Prediction shape: (1884, 1000)\n",
      "  MSE: 1.0014\n",
      "  Avg Pearson Correlation (across features/voxels): 0.0551\n",
      "  Median Pearson Correlation: 0.0532\n",
      "  R2 Score (uniform avg): -0.0024\n",
      "  R2 Score (variance weighted): -0.0024\n"
     ]
    },
    {
     "name": "stderr",
     "output_type": "stream",
     "text": [
      "                                                                                  \r"
     ]
    },
    {
     "name": "stdout",
     "output_type": "stream",
     "text": [
      "Epoch 27/50 | Train Loss: 1.0736\n",
      "> Evaluation on train\n",
      "Evaluating encoding model...\n"
     ]
    },
    {
     "name": "stderr",
     "output_type": "stream",
     "text": [
      "                                                                         \r"
     ]
    },
    {
     "name": "stdout",
     "output_type": "stream",
     "text": [
      "Evaluation complete. Target shape: (17427, 1000), Prediction shape: (17427, 1000)\n",
      "  MSE: 0.9785\n",
      "  Avg Pearson Correlation (across features/voxels): 0.1354\n",
      "  Median Pearson Correlation: 0.1352\n",
      "  R2 Score (uniform avg): 0.0183\n",
      "  R2 Score (variance weighted): 0.0183\n",
      "\n",
      "> Evaluation on test\n",
      "Evaluating encoding model...\n"
     ]
    },
    {
     "name": "stderr",
     "output_type": "stream",
     "text": [
      "                                                                     \r"
     ]
    },
    {
     "name": "stdout",
     "output_type": "stream",
     "text": [
      "Evaluation complete. Target shape: (1884, 1000), Prediction shape: (1884, 1000)\n",
      "  MSE: 0.9997\n",
      "  Avg Pearson Correlation (across features/voxels): 0.0577\n",
      "  Median Pearson Correlation: 0.0561\n",
      "  R2 Score (uniform avg): -0.0007\n",
      "  R2 Score (variance weighted): -0.0007\n"
     ]
    },
    {
     "name": "stderr",
     "output_type": "stream",
     "text": [
      "                                                                                  \r"
     ]
    },
    {
     "name": "stdout",
     "output_type": "stream",
     "text": [
      "Epoch 28/50 | Train Loss: 1.0715\n",
      "> Evaluation on train\n",
      "Evaluating encoding model...\n"
     ]
    },
    {
     "name": "stderr",
     "output_type": "stream",
     "text": [
      "                                                                         \r"
     ]
    },
    {
     "name": "stdout",
     "output_type": "stream",
     "text": [
      "Evaluation complete. Target shape: (17427, 1000), Prediction shape: (17427, 1000)\n",
      "  MSE: 0.9784\n",
      "  Avg Pearson Correlation (across features/voxels): 0.1357\n",
      "  Median Pearson Correlation: 0.1351\n",
      "  R2 Score (uniform avg): 0.0184\n",
      "  R2 Score (variance weighted): 0.0184\n",
      "\n",
      "> Evaluation on test\n",
      "Evaluating encoding model...\n"
     ]
    },
    {
     "name": "stderr",
     "output_type": "stream",
     "text": [
      "                                                                     \r"
     ]
    },
    {
     "name": "stdout",
     "output_type": "stream",
     "text": [
      "Evaluation complete. Target shape: (1884, 1000), Prediction shape: (1884, 1000)\n",
      "  MSE: 1.0013\n",
      "  Avg Pearson Correlation (across features/voxels): 0.0533\n",
      "  Median Pearson Correlation: 0.0528\n",
      "  R2 Score (uniform avg): -0.0023\n",
      "  R2 Score (variance weighted): -0.0023\n"
     ]
    },
    {
     "name": "stderr",
     "output_type": "stream",
     "text": [
      "                                                                                  \r"
     ]
    },
    {
     "name": "stdout",
     "output_type": "stream",
     "text": [
      "Epoch 29/50 | Train Loss: 1.0698\n",
      "> Evaluation on train\n",
      "Evaluating encoding model...\n"
     ]
    },
    {
     "name": "stderr",
     "output_type": "stream",
     "text": [
      "                                                                         \r"
     ]
    },
    {
     "name": "stdout",
     "output_type": "stream",
     "text": [
      "Evaluation complete. Target shape: (17427, 1000), Prediction shape: (17427, 1000)\n",
      "  MSE: 0.9779\n",
      "  Avg Pearson Correlation (across features/voxels): 0.1374\n",
      "  Median Pearson Correlation: 0.1369\n",
      "  R2 Score (uniform avg): 0.0188\n",
      "  R2 Score (variance weighted): 0.0189\n",
      "\n",
      "> Evaluation on test\n",
      "Evaluating encoding model...\n"
     ]
    },
    {
     "name": "stderr",
     "output_type": "stream",
     "text": [
      "                                                                     \r"
     ]
    },
    {
     "name": "stdout",
     "output_type": "stream",
     "text": [
      "Evaluation complete. Target shape: (1884, 1000), Prediction shape: (1884, 1000)\n",
      "  MSE: 1.0015\n",
      "  Avg Pearson Correlation (across features/voxels): 0.0544\n",
      "  Median Pearson Correlation: 0.0555\n",
      "  R2 Score (uniform avg): -0.0025\n",
      "  R2 Score (variance weighted): -0.0025\n"
     ]
    },
    {
     "name": "stderr",
     "output_type": "stream",
     "text": [
      "                                                                                  \r"
     ]
    },
    {
     "name": "stdout",
     "output_type": "stream",
     "text": [
      "Epoch 30/50 | Train Loss: 1.0687\n",
      "> Evaluation on train\n",
      "Evaluating encoding model...\n"
     ]
    },
    {
     "name": "stderr",
     "output_type": "stream",
     "text": [
      "                                                                         \r"
     ]
    },
    {
     "name": "stdout",
     "output_type": "stream",
     "text": [
      "Evaluation complete. Target shape: (17427, 1000), Prediction shape: (17427, 1000)\n",
      "  MSE: 0.9781\n",
      "  Avg Pearson Correlation (across features/voxels): 0.1366\n",
      "  Median Pearson Correlation: 0.1362\n",
      "  R2 Score (uniform avg): 0.0187\n",
      "  R2 Score (variance weighted): 0.0187\n",
      "\n",
      "> Evaluation on test\n",
      "Evaluating encoding model...\n"
     ]
    },
    {
     "name": "stderr",
     "output_type": "stream",
     "text": [
      "                                                                     \r"
     ]
    },
    {
     "name": "stdout",
     "output_type": "stream",
     "text": [
      "Evaluation complete. Target shape: (1884, 1000), Prediction shape: (1884, 1000)\n",
      "  MSE: 1.0019\n",
      "  Avg Pearson Correlation (across features/voxels): 0.0526\n",
      "  Median Pearson Correlation: 0.0525\n",
      "  R2 Score (uniform avg): -0.0029\n",
      "  R2 Score (variance weighted): -0.0029\n"
     ]
    },
    {
     "name": "stderr",
     "output_type": "stream",
     "text": [
      "                                                                                  \r"
     ]
    },
    {
     "name": "stdout",
     "output_type": "stream",
     "text": [
      "Epoch 31/50 | Train Loss: 1.0673\n",
      "> Evaluation on train\n",
      "Evaluating encoding model...\n"
     ]
    },
    {
     "name": "stderr",
     "output_type": "stream",
     "text": [
      "                                                                         \r"
     ]
    },
    {
     "name": "stdout",
     "output_type": "stream",
     "text": [
      "Evaluation complete. Target shape: (17427, 1000), Prediction shape: (17427, 1000)\n",
      "  MSE: 0.9772\n",
      "  Avg Pearson Correlation (across features/voxels): 0.1397\n",
      "  Median Pearson Correlation: 0.1389\n",
      "  R2 Score (uniform avg): 0.0195\n",
      "  R2 Score (variance weighted): 0.0195\n",
      "\n",
      "> Evaluation on test\n",
      "Evaluating encoding model...\n"
     ]
    },
    {
     "name": "stderr",
     "output_type": "stream",
     "text": [
      "                                                                       \r"
     ]
    },
    {
     "name": "stdout",
     "output_type": "stream",
     "text": [
      "Evaluation complete. Target shape: (1884, 1000), Prediction shape: (1884, 1000)\n",
      "  MSE: 1.0007\n",
      "  Avg Pearson Correlation (across features/voxels): 0.0578\n",
      "  Median Pearson Correlation: 0.0574\n",
      "  R2 Score (uniform avg): -0.0017\n",
      "  R2 Score (variance weighted): -0.0017\n"
     ]
    },
    {
     "name": "stderr",
     "output_type": "stream",
     "text": [
      "                                                                                  \r"
     ]
    },
    {
     "name": "stdout",
     "output_type": "stream",
     "text": [
      "Epoch 32/50 | Train Loss: 1.0653\n",
      "> Evaluation on train\n",
      "Evaluating encoding model...\n"
     ]
    },
    {
     "name": "stderr",
     "output_type": "stream",
     "text": [
      "                                                                         \r"
     ]
    },
    {
     "name": "stdout",
     "output_type": "stream",
     "text": [
      "Evaluation complete. Target shape: (17427, 1000), Prediction shape: (17427, 1000)\n",
      "  MSE: 0.9772\n",
      "  Avg Pearson Correlation (across features/voxels): 0.1400\n",
      "  Median Pearson Correlation: 0.1397\n",
      "  R2 Score (uniform avg): 0.0196\n",
      "  R2 Score (variance weighted): 0.0196\n",
      "\n",
      "> Evaluation on test\n",
      "Evaluating encoding model...\n"
     ]
    },
    {
     "name": "stderr",
     "output_type": "stream",
     "text": [
      "                                                                     \r"
     ]
    },
    {
     "name": "stdout",
     "output_type": "stream",
     "text": [
      "Evaluation complete. Target shape: (1884, 1000), Prediction shape: (1884, 1000)\n",
      "  MSE: 1.0031\n",
      "  Avg Pearson Correlation (across features/voxels): 0.0505\n",
      "  Median Pearson Correlation: 0.0495\n",
      "  R2 Score (uniform avg): -0.0041\n",
      "  R2 Score (variance weighted): -0.0041\n"
     ]
    },
    {
     "name": "stderr",
     "output_type": "stream",
     "text": [
      "                                                                                  \r"
     ]
    },
    {
     "name": "stdout",
     "output_type": "stream",
     "text": [
      "Epoch 33/50 | Train Loss: 1.0637\n",
      "> Evaluation on train\n",
      "Evaluating encoding model...\n"
     ]
    },
    {
     "name": "stderr",
     "output_type": "stream",
     "text": [
      "                                                                         \r"
     ]
    },
    {
     "name": "stdout",
     "output_type": "stream",
     "text": [
      "Evaluation complete. Target shape: (17427, 1000), Prediction shape: (17427, 1000)\n",
      "  MSE: 0.9769\n",
      "  Avg Pearson Correlation (across features/voxels): 0.1410\n",
      "  Median Pearson Correlation: 0.1400\n",
      "  R2 Score (uniform avg): 0.0199\n",
      "  R2 Score (variance weighted): 0.0199\n",
      "\n",
      "> Evaluation on test\n",
      "Evaluating encoding model...\n"
     ]
    },
    {
     "name": "stderr",
     "output_type": "stream",
     "text": [
      "                                                                     \r"
     ]
    },
    {
     "name": "stdout",
     "output_type": "stream",
     "text": [
      "Evaluation complete. Target shape: (1884, 1000), Prediction shape: (1884, 1000)\n",
      "  MSE: 1.0018\n",
      "  Avg Pearson Correlation (across features/voxels): 0.0556\n",
      "  Median Pearson Correlation: 0.0537\n",
      "  R2 Score (uniform avg): -0.0028\n",
      "  R2 Score (variance weighted): -0.0028\n"
     ]
    },
    {
     "name": "stderr",
     "output_type": "stream",
     "text": [
      "                                                                                  \r"
     ]
    },
    {
     "name": "stdout",
     "output_type": "stream",
     "text": [
      "Epoch 34/50 | Train Loss: 1.0623\n",
      "> Evaluation on train\n",
      "Evaluating encoding model...\n"
     ]
    },
    {
     "name": "stderr",
     "output_type": "stream",
     "text": [
      "                                                                         \r"
     ]
    },
    {
     "name": "stdout",
     "output_type": "stream",
     "text": [
      "Evaluation complete. Target shape: (17427, 1000), Prediction shape: (17427, 1000)\n",
      "  MSE: 0.9765\n",
      "  Avg Pearson Correlation (across features/voxels): 0.1422\n",
      "  Median Pearson Correlation: 0.1425\n",
      "  R2 Score (uniform avg): 0.0203\n",
      "  R2 Score (variance weighted): 0.0203\n",
      "\n",
      "> Evaluation on test\n",
      "Evaluating encoding model...\n"
     ]
    },
    {
     "name": "stderr",
     "output_type": "stream",
     "text": [
      "                                                                     \r"
     ]
    },
    {
     "name": "stdout",
     "output_type": "stream",
     "text": [
      "Evaluation complete. Target shape: (1884, 1000), Prediction shape: (1884, 1000)\n",
      "  MSE: 1.0021\n",
      "  Avg Pearson Correlation (across features/voxels): 0.0554\n",
      "  Median Pearson Correlation: 0.0541\n",
      "  R2 Score (uniform avg): -0.0031\n",
      "  R2 Score (variance weighted): -0.0031\n"
     ]
    },
    {
     "name": "stderr",
     "output_type": "stream",
     "text": [
      "                                                                                  \r"
     ]
    },
    {
     "name": "stdout",
     "output_type": "stream",
     "text": [
      "Epoch 35/50 | Train Loss: 1.0603\n",
      "> Evaluation on train\n",
      "Evaluating encoding model...\n"
     ]
    },
    {
     "name": "stderr",
     "output_type": "stream",
     "text": [
      "                                                                         \r"
     ]
    },
    {
     "name": "stdout",
     "output_type": "stream",
     "text": [
      "Evaluation complete. Target shape: (17427, 1000), Prediction shape: (17427, 1000)\n",
      "  MSE: 0.9762\n",
      "  Avg Pearson Correlation (across features/voxels): 0.1438\n",
      "  Median Pearson Correlation: 0.1427\n",
      "  R2 Score (uniform avg): 0.0206\n",
      "  R2 Score (variance weighted): 0.0206\n",
      "\n",
      "> Evaluation on test\n",
      "Evaluating encoding model...\n"
     ]
    },
    {
     "name": "stderr",
     "output_type": "stream",
     "text": [
      "                                                                     \r"
     ]
    },
    {
     "name": "stdout",
     "output_type": "stream",
     "text": [
      "Evaluation complete. Target shape: (1884, 1000), Prediction shape: (1884, 1000)\n",
      "  MSE: 1.0017\n",
      "  Avg Pearson Correlation (across features/voxels): 0.0543\n",
      "  Median Pearson Correlation: 0.0534\n",
      "  R2 Score (uniform avg): -0.0027\n",
      "  R2 Score (variance weighted): -0.0027\n"
     ]
    },
    {
     "name": "stderr",
     "output_type": "stream",
     "text": [
      "                                                                                  \r"
     ]
    },
    {
     "name": "stdout",
     "output_type": "stream",
     "text": [
      "Epoch 36/50 | Train Loss: 1.0593\n",
      "> Evaluation on train\n",
      "Evaluating encoding model...\n"
     ]
    },
    {
     "name": "stderr",
     "output_type": "stream",
     "text": [
      "                                                                         \r"
     ]
    },
    {
     "name": "stdout",
     "output_type": "stream",
     "text": [
      "Evaluation complete. Target shape: (17427, 1000), Prediction shape: (17427, 1000)\n",
      "  MSE: 0.9760\n",
      "  Avg Pearson Correlation (across features/voxels): 0.1443\n",
      "  Median Pearson Correlation: 0.1438\n",
      "  R2 Score (uniform avg): 0.0208\n",
      "  R2 Score (variance weighted): 0.0208\n",
      "\n",
      "> Evaluation on test\n",
      "Evaluating encoding model...\n"
     ]
    },
    {
     "name": "stderr",
     "output_type": "stream",
     "text": [
      "                                                                     \r"
     ]
    },
    {
     "name": "stdout",
     "output_type": "stream",
     "text": [
      "Evaluation complete. Target shape: (1884, 1000), Prediction shape: (1884, 1000)\n",
      "  MSE: 1.0015\n",
      "  Avg Pearson Correlation (across features/voxels): 0.0570\n",
      "  Median Pearson Correlation: 0.0567\n",
      "  R2 Score (uniform avg): -0.0025\n",
      "  R2 Score (variance weighted): -0.0025\n"
     ]
    },
    {
     "name": "stderr",
     "output_type": "stream",
     "text": [
      "                                                                                  \r"
     ]
    },
    {
     "name": "stdout",
     "output_type": "stream",
     "text": [
      "Epoch 37/50 | Train Loss: 1.0574\n",
      "> Evaluation on train\n",
      "Evaluating encoding model...\n"
     ]
    },
    {
     "name": "stderr",
     "output_type": "stream",
     "text": [
      "                                                                         \r"
     ]
    },
    {
     "name": "stdout",
     "output_type": "stream",
     "text": [
      "Evaluation complete. Target shape: (17427, 1000), Prediction shape: (17427, 1000)\n",
      "  MSE: 0.9758\n",
      "  Avg Pearson Correlation (across features/voxels): 0.1448\n",
      "  Median Pearson Correlation: 0.1433\n",
      "  R2 Score (uniform avg): 0.0210\n",
      "  R2 Score (variance weighted): 0.0210\n",
      "\n",
      "> Evaluation on test\n",
      "Evaluating encoding model...\n"
     ]
    },
    {
     "name": "stderr",
     "output_type": "stream",
     "text": [
      "                                                                     \r"
     ]
    },
    {
     "name": "stdout",
     "output_type": "stream",
     "text": [
      "Evaluation complete. Target shape: (1884, 1000), Prediction shape: (1884, 1000)\n",
      "  MSE: 1.0033\n",
      "  Avg Pearson Correlation (across features/voxels): 0.0511\n",
      "  Median Pearson Correlation: 0.0513\n",
      "  R2 Score (uniform avg): -0.0043\n",
      "  R2 Score (variance weighted): -0.0043\n"
     ]
    },
    {
     "name": "stderr",
     "output_type": "stream",
     "text": [
      "                                                                                  \r"
     ]
    },
    {
     "name": "stdout",
     "output_type": "stream",
     "text": [
      "Epoch 38/50 | Train Loss: 1.0562\n",
      "> Evaluation on train\n",
      "Evaluating encoding model...\n"
     ]
    },
    {
     "name": "stderr",
     "output_type": "stream",
     "text": [
      "                                                                         \r"
     ]
    },
    {
     "name": "stdout",
     "output_type": "stream",
     "text": [
      "Evaluation complete. Target shape: (17427, 1000), Prediction shape: (17427, 1000)\n",
      "  MSE: 0.9755\n",
      "  Avg Pearson Correlation (across features/voxels): 0.1461\n",
      "  Median Pearson Correlation: 0.1451\n",
      "  R2 Score (uniform avg): 0.0213\n",
      "  R2 Score (variance weighted): 0.0213\n",
      "\n",
      "> Evaluation on test\n",
      "Evaluating encoding model...\n"
     ]
    },
    {
     "name": "stderr",
     "output_type": "stream",
     "text": [
      "                                                                     \r"
     ]
    },
    {
     "name": "stdout",
     "output_type": "stream",
     "text": [
      "Evaluation complete. Target shape: (1884, 1000), Prediction shape: (1884, 1000)\n",
      "  MSE: 1.0035\n",
      "  Avg Pearson Correlation (across features/voxels): 0.0504\n",
      "  Median Pearson Correlation: 0.0481\n",
      "  R2 Score (uniform avg): -0.0045\n",
      "  R2 Score (variance weighted): -0.0045\n"
     ]
    },
    {
     "name": "stderr",
     "output_type": "stream",
     "text": [
      "                                                                                  \r"
     ]
    },
    {
     "name": "stdout",
     "output_type": "stream",
     "text": [
      "Epoch 39/50 | Train Loss: 1.0546\n",
      "> Evaluation on train\n",
      "Evaluating encoding model...\n"
     ]
    },
    {
     "name": "stderr",
     "output_type": "stream",
     "text": [
      "                                                                         \r"
     ]
    },
    {
     "name": "stdout",
     "output_type": "stream",
     "text": [
      "Evaluation complete. Target shape: (17427, 1000), Prediction shape: (17427, 1000)\n",
      "  MSE: 0.9751\n",
      "  Avg Pearson Correlation (across features/voxels): 0.1471\n",
      "  Median Pearson Correlation: 0.1464\n",
      "  R2 Score (uniform avg): 0.0217\n",
      "  R2 Score (variance weighted): 0.0217\n",
      "\n",
      "> Evaluation on test\n",
      "Evaluating encoding model...\n"
     ]
    },
    {
     "name": "stderr",
     "output_type": "stream",
     "text": [
      "                                                                     \r"
     ]
    },
    {
     "name": "stdout",
     "output_type": "stream",
     "text": [
      "Evaluation complete. Target shape: (1884, 1000), Prediction shape: (1884, 1000)\n",
      "  MSE: 1.0029\n",
      "  Avg Pearson Correlation (across features/voxels): 0.0545\n",
      "  Median Pearson Correlation: 0.0551\n",
      "  R2 Score (uniform avg): -0.0039\n",
      "  R2 Score (variance weighted): -0.0039\n"
     ]
    },
    {
     "name": "stderr",
     "output_type": "stream",
     "text": [
      "                                                                                  \r"
     ]
    },
    {
     "name": "stdout",
     "output_type": "stream",
     "text": [
      "Epoch 40/50 | Train Loss: 1.0533\n",
      "> Evaluation on train\n",
      "Evaluating encoding model...\n"
     ]
    },
    {
     "name": "stderr",
     "output_type": "stream",
     "text": [
      "                                                                         \r"
     ]
    },
    {
     "name": "stdout",
     "output_type": "stream",
     "text": [
      "Evaluation complete. Target shape: (17427, 1000), Prediction shape: (17427, 1000)\n",
      "  MSE: 0.9752\n",
      "  Avg Pearson Correlation (across features/voxels): 0.1477\n",
      "  Median Pearson Correlation: 0.1472\n",
      "  R2 Score (uniform avg): 0.0216\n",
      "  R2 Score (variance weighted): 0.0216\n",
      "\n",
      "> Evaluation on test\n",
      "Evaluating encoding model...\n"
     ]
    },
    {
     "name": "stderr",
     "output_type": "stream",
     "text": [
      "                                                                     \r"
     ]
    },
    {
     "name": "stdout",
     "output_type": "stream",
     "text": [
      "Evaluation complete. Target shape: (1884, 1000), Prediction shape: (1884, 1000)\n",
      "  MSE: 1.0028\n",
      "  Avg Pearson Correlation (across features/voxels): 0.0517\n",
      "  Median Pearson Correlation: 0.0496\n",
      "  R2 Score (uniform avg): -0.0038\n",
      "  R2 Score (variance weighted): -0.0038\n"
     ]
    },
    {
     "name": "stderr",
     "output_type": "stream",
     "text": [
      "                                                                                  \r"
     ]
    },
    {
     "name": "stdout",
     "output_type": "stream",
     "text": [
      "Epoch 41/50 | Train Loss: 1.0517\n",
      "> Evaluation on train\n",
      "Evaluating encoding model...\n"
     ]
    },
    {
     "name": "stderr",
     "output_type": "stream",
     "text": [
      "                                                                         \r"
     ]
    },
    {
     "name": "stdout",
     "output_type": "stream",
     "text": [
      "Evaluation complete. Target shape: (17427, 1000), Prediction shape: (17427, 1000)\n",
      "  MSE: 0.9746\n",
      "  Avg Pearson Correlation (across features/voxels): 0.1491\n",
      "  Median Pearson Correlation: 0.1483\n",
      "  R2 Score (uniform avg): 0.0222\n",
      "  R2 Score (variance weighted): 0.0222\n",
      "\n",
      "> Evaluation on test\n",
      "Evaluating encoding model...\n"
     ]
    },
    {
     "name": "stderr",
     "output_type": "stream",
     "text": [
      "                                                                     \r"
     ]
    },
    {
     "name": "stdout",
     "output_type": "stream",
     "text": [
      "Evaluation complete. Target shape: (1884, 1000), Prediction shape: (1884, 1000)\n",
      "  MSE: 1.0044\n",
      "  Avg Pearson Correlation (across features/voxels): 0.0493\n",
      "  Median Pearson Correlation: 0.0473\n",
      "  R2 Score (uniform avg): -0.0054\n",
      "  R2 Score (variance weighted): -0.0054\n"
     ]
    },
    {
     "name": "stderr",
     "output_type": "stream",
     "text": [
      "                                                                                  \r"
     ]
    },
    {
     "name": "stdout",
     "output_type": "stream",
     "text": [
      "Epoch 42/50 | Train Loss: 1.0504\n",
      "> Evaluation on train\n",
      "Evaluating encoding model...\n"
     ]
    },
    {
     "name": "stderr",
     "output_type": "stream",
     "text": [
      "                                                                         \r"
     ]
    },
    {
     "name": "stdout",
     "output_type": "stream",
     "text": [
      "Evaluation complete. Target shape: (17427, 1000), Prediction shape: (17427, 1000)\n",
      "  MSE: 0.9745\n",
      "  Avg Pearson Correlation (across features/voxels): 0.1499\n",
      "  Median Pearson Correlation: 0.1492\n",
      "  R2 Score (uniform avg): 0.0223\n",
      "  R2 Score (variance weighted): 0.0223\n",
      "\n",
      "> Evaluation on test\n",
      "Evaluating encoding model...\n"
     ]
    },
    {
     "name": "stderr",
     "output_type": "stream",
     "text": [
      "                                                                     \r"
     ]
    },
    {
     "name": "stdout",
     "output_type": "stream",
     "text": [
      "Evaluation complete. Target shape: (1884, 1000), Prediction shape: (1884, 1000)\n",
      "  MSE: 1.0029\n",
      "  Avg Pearson Correlation (across features/voxels): 0.0528\n",
      "  Median Pearson Correlation: 0.0515\n",
      "  R2 Score (uniform avg): -0.0039\n",
      "  R2 Score (variance weighted): -0.0039\n"
     ]
    },
    {
     "name": "stderr",
     "output_type": "stream",
     "text": [
      "                                                                                  \r"
     ]
    },
    {
     "name": "stdout",
     "output_type": "stream",
     "text": [
      "Epoch 43/50 | Train Loss: 1.0489\n",
      "> Evaluation on train\n",
      "Evaluating encoding model...\n"
     ]
    },
    {
     "name": "stderr",
     "output_type": "stream",
     "text": [
      "                                                                         \r"
     ]
    },
    {
     "name": "stdout",
     "output_type": "stream",
     "text": [
      "Evaluation complete. Target shape: (17427, 1000), Prediction shape: (17427, 1000)\n",
      "  MSE: 0.9740\n",
      "  Avg Pearson Correlation (across features/voxels): 0.1508\n",
      "  Median Pearson Correlation: 0.1502\n",
      "  R2 Score (uniform avg): 0.0228\n",
      "  R2 Score (variance weighted): 0.0228\n",
      "\n",
      "> Evaluation on test\n",
      "Evaluating encoding model...\n"
     ]
    },
    {
     "name": "stderr",
     "output_type": "stream",
     "text": [
      "                                                                     \r"
     ]
    },
    {
     "name": "stdout",
     "output_type": "stream",
     "text": [
      "Evaluation complete. Target shape: (1884, 1000), Prediction shape: (1884, 1000)\n",
      "  MSE: 1.0045\n",
      "  Avg Pearson Correlation (across features/voxels): 0.0517\n",
      "  Median Pearson Correlation: 0.0514\n",
      "  R2 Score (uniform avg): -0.0055\n",
      "  R2 Score (variance weighted): -0.0055\n"
     ]
    },
    {
     "name": "stderr",
     "output_type": "stream",
     "text": [
      "                                                                                  \r"
     ]
    },
    {
     "name": "stdout",
     "output_type": "stream",
     "text": [
      "Epoch 44/50 | Train Loss: 1.0475\n",
      "> Evaluation on train\n",
      "Evaluating encoding model...\n"
     ]
    },
    {
     "name": "stderr",
     "output_type": "stream",
     "text": [
      "                                                                         \r"
     ]
    },
    {
     "name": "stdout",
     "output_type": "stream",
     "text": [
      "Evaluation complete. Target shape: (17427, 1000), Prediction shape: (17427, 1000)\n",
      "  MSE: 0.9738\n",
      "  Avg Pearson Correlation (across features/voxels): 0.1516\n",
      "  Median Pearson Correlation: 0.1508\n",
      "  R2 Score (uniform avg): 0.0230\n",
      "  R2 Score (variance weighted): 0.0230\n",
      "\n",
      "> Evaluation on test\n",
      "Evaluating encoding model...\n"
     ]
    },
    {
     "name": "stderr",
     "output_type": "stream",
     "text": [
      "                                                                     \r"
     ]
    },
    {
     "name": "stdout",
     "output_type": "stream",
     "text": [
      "Evaluation complete. Target shape: (1884, 1000), Prediction shape: (1884, 1000)\n",
      "  MSE: 1.0043\n",
      "  Avg Pearson Correlation (across features/voxels): 0.0532\n",
      "  Median Pearson Correlation: 0.0505\n",
      "  R2 Score (uniform avg): -0.0053\n",
      "  R2 Score (variance weighted): -0.0053\n"
     ]
    },
    {
     "name": "stderr",
     "output_type": "stream",
     "text": [
      "                                                                                  \r"
     ]
    },
    {
     "name": "stdout",
     "output_type": "stream",
     "text": [
      "Epoch 45/50 | Train Loss: 1.0462\n",
      "> Evaluation on train\n",
      "Evaluating encoding model...\n"
     ]
    },
    {
     "name": "stderr",
     "output_type": "stream",
     "text": [
      "                                                                         \r"
     ]
    },
    {
     "name": "stdout",
     "output_type": "stream",
     "text": [
      "Evaluation complete. Target shape: (17427, 1000), Prediction shape: (17427, 1000)\n",
      "  MSE: 0.9737\n",
      "  Avg Pearson Correlation (across features/voxels): 0.1523\n",
      "  Median Pearson Correlation: 0.1512\n",
      "  R2 Score (uniform avg): 0.0231\n",
      "  R2 Score (variance weighted): 0.0231\n",
      "\n",
      "> Evaluation on test\n",
      "Evaluating encoding model...\n"
     ]
    },
    {
     "name": "stderr",
     "output_type": "stream",
     "text": [
      "                                                                     \r"
     ]
    },
    {
     "name": "stdout",
     "output_type": "stream",
     "text": [
      "Evaluation complete. Target shape: (1884, 1000), Prediction shape: (1884, 1000)\n",
      "  MSE: 1.0041\n",
      "  Avg Pearson Correlation (across features/voxels): 0.0509\n",
      "  Median Pearson Correlation: 0.0486\n",
      "  R2 Score (uniform avg): -0.0051\n",
      "  R2 Score (variance weighted): -0.0051\n"
     ]
    },
    {
     "name": "stderr",
     "output_type": "stream",
     "text": [
      "                                                                                  \r"
     ]
    },
    {
     "name": "stdout",
     "output_type": "stream",
     "text": [
      "Epoch 46/50 | Train Loss: 1.0452\n",
      "> Evaluation on train\n",
      "Evaluating encoding model...\n"
     ]
    },
    {
     "name": "stderr",
     "output_type": "stream",
     "text": [
      "                                                                         \r"
     ]
    },
    {
     "name": "stdout",
     "output_type": "stream",
     "text": [
      "Evaluation complete. Target shape: (17427, 1000), Prediction shape: (17427, 1000)\n",
      "  MSE: 0.9734\n",
      "  Avg Pearson Correlation (across features/voxels): 0.1533\n",
      "  Median Pearson Correlation: 0.1527\n",
      "  R2 Score (uniform avg): 0.0234\n",
      "  R2 Score (variance weighted): 0.0234\n",
      "\n",
      "> Evaluation on test\n",
      "Evaluating encoding model...\n"
     ]
    },
    {
     "name": "stderr",
     "output_type": "stream",
     "text": [
      "                                                                       \r"
     ]
    },
    {
     "name": "stdout",
     "output_type": "stream",
     "text": [
      "Evaluation complete. Target shape: (1884, 1000), Prediction shape: (1884, 1000)\n",
      "  MSE: 1.0041\n",
      "  Avg Pearson Correlation (across features/voxels): 0.0511\n",
      "  Median Pearson Correlation: 0.0495\n",
      "  R2 Score (uniform avg): -0.0051\n",
      "  R2 Score (variance weighted): -0.0051\n"
     ]
    },
    {
     "name": "stderr",
     "output_type": "stream",
     "text": [
      "                                                                                  \r"
     ]
    },
    {
     "name": "stdout",
     "output_type": "stream",
     "text": [
      "Epoch 47/50 | Train Loss: 1.0438\n",
      "> Evaluation on train\n",
      "Evaluating encoding model...\n"
     ]
    },
    {
     "name": "stderr",
     "output_type": "stream",
     "text": [
      "                                                                         \r"
     ]
    },
    {
     "name": "stdout",
     "output_type": "stream",
     "text": [
      "Evaluation complete. Target shape: (17427, 1000), Prediction shape: (17427, 1000)\n",
      "  MSE: 0.9731\n",
      "  Avg Pearson Correlation (across features/voxels): 0.1540\n",
      "  Median Pearson Correlation: 0.1536\n",
      "  R2 Score (uniform avg): 0.0237\n",
      "  R2 Score (variance weighted): 0.0237\n",
      "\n",
      "> Evaluation on test\n",
      "Evaluating encoding model...\n"
     ]
    },
    {
     "name": "stderr",
     "output_type": "stream",
     "text": [
      "                                                                     \r"
     ]
    },
    {
     "name": "stdout",
     "output_type": "stream",
     "text": [
      "Evaluation complete. Target shape: (1884, 1000), Prediction shape: (1884, 1000)\n",
      "  MSE: 1.0048\n",
      "  Avg Pearson Correlation (across features/voxels): 0.0511\n",
      "  Median Pearson Correlation: 0.0495\n",
      "  R2 Score (uniform avg): -0.0058\n",
      "  R2 Score (variance weighted): -0.0058\n"
     ]
    },
    {
     "name": "stderr",
     "output_type": "stream",
     "text": [
      "                                                                                  \r"
     ]
    },
    {
     "name": "stdout",
     "output_type": "stream",
     "text": [
      "Epoch 48/50 | Train Loss: 1.0425\n",
      "> Evaluation on train\n",
      "Evaluating encoding model...\n"
     ]
    },
    {
     "name": "stderr",
     "output_type": "stream",
     "text": [
      "                                                                         \r"
     ]
    },
    {
     "name": "stdout",
     "output_type": "stream",
     "text": [
      "Evaluation complete. Target shape: (17427, 1000), Prediction shape: (17427, 1000)\n",
      "  MSE: 0.9729\n",
      "  Avg Pearson Correlation (across features/voxels): 0.1548\n",
      "  Median Pearson Correlation: 0.1540\n",
      "  R2 Score (uniform avg): 0.0239\n",
      "  R2 Score (variance weighted): 0.0239\n",
      "\n",
      "> Evaluation on test\n",
      "Evaluating encoding model...\n"
     ]
    },
    {
     "name": "stderr",
     "output_type": "stream",
     "text": [
      "                                                                     \r"
     ]
    },
    {
     "name": "stdout",
     "output_type": "stream",
     "text": [
      "Evaluation complete. Target shape: (1884, 1000), Prediction shape: (1884, 1000)\n",
      "  MSE: 1.0039\n",
      "  Avg Pearson Correlation (across features/voxels): 0.0532\n",
      "  Median Pearson Correlation: 0.0516\n",
      "  R2 Score (uniform avg): -0.0049\n",
      "  R2 Score (variance weighted): -0.0049\n"
     ]
    },
    {
     "name": "stderr",
     "output_type": "stream",
     "text": [
      "                                                                                  \r"
     ]
    },
    {
     "name": "stdout",
     "output_type": "stream",
     "text": [
      "Epoch 49/50 | Train Loss: 1.0406\n",
      "> Evaluation on train\n",
      "Evaluating encoding model...\n"
     ]
    },
    {
     "name": "stderr",
     "output_type": "stream",
     "text": [
      "                                                                         \r"
     ]
    },
    {
     "name": "stdout",
     "output_type": "stream",
     "text": [
      "Evaluation complete. Target shape: (17427, 1000), Prediction shape: (17427, 1000)\n",
      "  MSE: 0.9727\n",
      "  Avg Pearson Correlation (across features/voxels): 0.1555\n",
      "  Median Pearson Correlation: 0.1546\n",
      "  R2 Score (uniform avg): 0.0241\n",
      "  R2 Score (variance weighted): 0.0241\n",
      "\n",
      "> Evaluation on test\n",
      "Evaluating encoding model...\n"
     ]
    },
    {
     "name": "stderr",
     "output_type": "stream",
     "text": [
      "                                                                     \r"
     ]
    },
    {
     "name": "stdout",
     "output_type": "stream",
     "text": [
      "Evaluation complete. Target shape: (1884, 1000), Prediction shape: (1884, 1000)\n",
      "  MSE: 1.0041\n",
      "  Avg Pearson Correlation (across features/voxels): 0.0528\n",
      "  Median Pearson Correlation: 0.0506\n",
      "  R2 Score (uniform avg): -0.0051\n",
      "  R2 Score (variance weighted): -0.0051\n"
     ]
    },
    {
     "name": "stderr",
     "output_type": "stream",
     "text": [
      "                                                                                  \r"
     ]
    },
    {
     "name": "stdout",
     "output_type": "stream",
     "text": [
      "Epoch 50/50 | Train Loss: 1.0397\n",
      "> Evaluation on train\n",
      "Evaluating encoding model...\n"
     ]
    },
    {
     "name": "stderr",
     "output_type": "stream",
     "text": [
      "                                                                         \r"
     ]
    },
    {
     "name": "stdout",
     "output_type": "stream",
     "text": [
      "Evaluation complete. Target shape: (17427, 1000), Prediction shape: (17427, 1000)\n",
      "  MSE: 0.9724\n",
      "  Avg Pearson Correlation (across features/voxels): 0.1563\n",
      "  Median Pearson Correlation: 0.1558\n",
      "  R2 Score (uniform avg): 0.0244\n",
      "  R2 Score (variance weighted): 0.0244\n",
      "\n",
      "> Evaluation on test\n",
      "Evaluating encoding model...\n"
     ]
    },
    {
     "name": "stderr",
     "output_type": "stream",
     "text": [
      "                                                                     \r"
     ]
    },
    {
     "name": "stdout",
     "output_type": "stream",
     "text": [
      "Evaluation complete. Target shape: (1884, 1000), Prediction shape: (1884, 1000)\n",
      "  MSE: 1.0054\n",
      "  Avg Pearson Correlation (across features/voxels): 0.0499\n",
      "  Median Pearson Correlation: 0.0473\n",
      "  R2 Score (uniform avg): -0.0064\n",
      "  R2 Score (variance weighted): -0.0064\n",
      "Training complete after 50 epochs. Using model from last epoch.\n"
     ]
    },
    {
     "data": {
      "text/html": [],
      "text/plain": [
       "<IPython.core.display.HTML object>"
      ]
     },
     "metadata": {},
     "output_type": "display_data"
    },
    {
     "data": {
      "text/html": [
       "<br>    <style><br>        .wandb-row {<br>            display: flex;<br>            flex-direction: row;<br>            flex-wrap: wrap;<br>            justify-content: flex-start;<br>            width: 100%;<br>        }<br>        .wandb-col {<br>            display: flex;<br>            flex-direction: column;<br>            flex-basis: 100%;<br>            flex: 1;<br>            padding: 10px;<br>        }<br>    </style><br><div class=\"wandb-row\"><div class=\"wandb-col\"><h3>Run history:</h3><br/><table class=\"wandb\"><tr><td>MSE</td><td>█▅▄▄▄▃▃▃▃▃▂▂▂▂▂▂▂▂▂▂▂▂▂▂▂▂▂▁▁▁▁▁▁▁▁▁▁▁▁▁</td></tr><tr><td>PearsonR All</td><td>▁▂▂▃▃▄▄▄▅▅▆▆▆▆▆▆▆▇▇▇▇▇▇▇▇▇▇▇▇▇▇▇████████</td></tr><tr><td>PearsonR Avg</td><td>▁▂▃▃▃▄▅▅▅▅▆▆▆▆▆▆▆▇▇▇▇▇▇▇▇▇▇▇▇▇▇█████████</td></tr><tr><td>R2 Uniform</td><td>▁▄▅▅▆▆▆▆▆▆▇▇▇▇▇▇▇▇▇▇▇▇▇▇▇▇▇█████████████</td></tr><tr><td>R2 Variance</td><td>▁▄▅▅▅▆▆▆▆▆▇▇▇▇▇▇▇▇▇▇▇▇▇▇▇▇▇▇████████████</td></tr><tr><td>Test MSE</td><td>█▃▂▂▂▁▁▁▁▁▁▁▁▁▁▁▁▁▁▁▁▁▁▁▁▁▂▁▁▁▂▂▂▂▂▂▂▂▂▂</td></tr><tr><td>Test PearsonR All</td><td>▁▁▁▂▂▃▄▄▄▅▆▆▆▇▇▇█▇▇██▇█▇██▇███▇█▇▇▇▇▇▇▇▇</td></tr><tr><td>Test PearsonR Avg</td><td>▁▁▂▂▃▄▄▄▅▅▆▆▇▇▇█▇█▇██▇█▇█████▇█▇▇▇▇▇▇▇▇▇</td></tr><tr><td>Test R2 Uniform</td><td>▁▆▇▇▇█████████████████████▇███▇▇▇▇▇▇▇▇▇▇</td></tr><tr><td>Test R2 Variance</td><td>▁▆▇▇▇████████████████████████▇▇▇▇▇▇▇▇▇▇▇</td></tr></table><br/></div><div class=\"wandb-col\"><h3>Run summary:</h3><br/><table class=\"wandb\"><tr><td>MSE</td><td>0.97236</td></tr><tr><td>PearsonR All</td><td>0.15585</td></tr><tr><td>PearsonR Avg</td><td>0.15633</td></tr><tr><td>R2 Uniform</td><td>0.02444</td></tr><tr><td>R2 Variance</td><td>0.02444</td></tr><tr><td>Test MSE</td><td>1.00544</td></tr><tr><td>Test PearsonR All</td><td>0.04729</td></tr><tr><td>Test PearsonR Avg</td><td>0.04986</td></tr><tr><td>Test R2 Uniform</td><td>-0.00645</td></tr><tr><td>Test R2 Variance</td><td>-0.00644</td></tr></table><br/></div></div>"
      ],
      "text/plain": [
       "<IPython.core.display.HTML object>"
      ]
     },
     "metadata": {},
     "output_type": "display_data"
    },
    {
     "data": {
      "text/html": [
       " View run <strong style=\"color:#cdcd00\">encoding_LSTM_vitmae_1000_defeat</strong> at: <a href='https://wandb.ai/wb-team-hardik/csai_fmri_video_project/runs/4e5aojf5' target=\"_blank\">https://wandb.ai/wb-team-hardik/csai_fmri_video_project/runs/4e5aojf5</a><br> View project at: <a href='https://wandb.ai/wb-team-hardik/csai_fmri_video_project' target=\"_blank\">https://wandb.ai/wb-team-hardik/csai_fmri_video_project</a><br>Synced 5 W&B file(s), 0 media file(s), 0 artifact file(s) and 0 other file(s)"
      ],
      "text/plain": [
       "<IPython.core.display.HTML object>"
      ]
     },
     "metadata": {},
     "output_type": "display_data"
    },
    {
     "data": {
      "text/html": [
       "Find logs at: <code>./wandb/run-20250508_131034-4e5aojf5/logs</code>"
      ],
      "text/plain": [
       "<IPython.core.display.HTML object>"
      ]
     },
     "metadata": {},
     "output_type": "display_data"
    }
   ],
   "source": [
    "encoding_model = run_training_no_val( # Use modified training loop\n",
    "    encoding_model, train_loader, device=DEVICE, task='encoding',\n",
    "    epochs=EPOCHS, learning_rate=LEARNING_RATE\n",
    ")"
   ]
  },
  {
   "cell_type": "code",
   "execution_count": 28,
   "metadata": {},
   "outputs": [],
   "source": [
    "# if test_loader:\n",
    "#     print(f\"\\n--- Evaluating Encoding Model on Subj {TEST_SUBJECT_ID} ---\")\n",
    "#     enc_results, enc_targets, enc_predictions = evaluate_model(\n",
    "#             encoding_model, test_loader, nn.MSELoss(), device=DEVICE, task='encoding'\n",
    "#     )\n",
    "#     # --- Add encoder/subject info to output files ---\n",
    "#     enc_model_suffix = f\"_mlp_{chosen_encoder}_train{''.join(TRAIN_SUBJECT_IDS)}_test{TEST_SUBJECT_ID}\"\n",
    "#     enc_model_path = OUTPUT_DIR / f\"encoding_model{enc_model_suffix}.pt\"\n",
    "#     torch.save(encoding_model.state_dict(), enc_model_path)\n",
    "#     print(f\"Saved Encoding model to {enc_model_path}\")\n",
    "\n",
    "#     enc_fig = plot_predictions(enc_targets, enc_predictions, n_samples=5, title=f\"Encoding (MLP, {chosen_encoder}) Test Subj {TEST_SUBJECT_ID}\")\n",
    "#     enc_plot_path = OUTPUT_DIR / f\"encoding_predictions{enc_model_suffix}.png\"\n",
    "#     enc_fig.savefig(enc_plot_path)\n",
    "#     plt.close(enc_fig)\n",
    "#     print(f\"Saved Encoding prediction plot to {enc_plot_path}\")\n",
    "    \n",
    "# else:\n",
    "#         print(\"Skipping encoding model evaluation as no test loader was created.\")\n"
   ]
  },
  {
   "cell_type": "markdown",
   "metadata": {},
   "source": [
    "### --- Decoding Model Training & Evaluation ---\n"
   ]
  },
  {
   "cell_type": "code",
   "execution_count": 29,
   "metadata": {},
   "outputs": [
    {
     "name": "stdout",
     "output_type": "stream",
     "text": [
      "\n",
      "--- Training Decoding Model (MLP, Video: vitmae) on Subj ['NSD103', 'NSD104', 'NSD105', 'NSD106', 'NSD107', 'NSD113', 'NSD114', 'NSD115', 'NSD116', 'NSD117', 'NSD119', 'NSD120', 'NSD122', 'NSD123', 'NSD124', 'NSD125', 'NSD126', 'NSD127', 'NSD128', 'NSD129', 'NSD130', 'NSD132', 'NSD134', 'NSD135', 'NSD136', 'NSD138', 'NSD140', 'NSD142', 'NSD145', 'NSD146', 'NSD147', 'NSD148', 'NSD149', 'NSD150', 'NSD151', 'NSD153', 'NSD155'] ---\n",
      "Cleared CUDA cache before starting decoding model training.\n"
     ]
    }
   ],
   "source": [
    "print(f\"\\n--- Training Decoding Model (MLP, Video: {chosen_encoder}) on Subj {TRAIN_SUBJECT_IDS} ---\")\n",
    "if DEVICE == 'cuda' or 'cuda:0' or 'cuda:2' or 'cuda:1':\n",
    "    # Clear memory if possible\n",
    "    del encoding_model\n",
    "    if 'enc_targets' in locals(): del enc_targets\n",
    "    if 'enc_predictions' in locals(): del enc_predictions\n",
    "    torch.cuda.empty_cache()\n",
    "    print(\"Cleared CUDA cache before starting decoding model training.\")"
   ]
  },
  {
   "cell_type": "code",
   "execution_count": 30,
   "metadata": {},
   "outputs": [
    {
     "name": "stdout",
     "output_type": "stream",
     "text": [
      "Starting decoding model training (LSTM, no validation) for 50 epochs on cuda:0\n"
     ]
    },
    {
     "data": {
      "text/html": [
       "Tracking run with wandb version 0.19.11"
      ],
      "text/plain": [
       "<IPython.core.display.HTML object>"
      ]
     },
     "metadata": {},
     "output_type": "display_data"
    },
    {
     "data": {
      "text/html": [
       "Run data is saved locally in <code>/home/hardik/csai_project/Chetan/wandb/run-20250508_131828-vzkjv54h</code>"
      ],
      "text/plain": [
       "<IPython.core.display.HTML object>"
      ]
     },
     "metadata": {},
     "output_type": "display_data"
    },
    {
     "data": {
      "text/html": [
       "Syncing run <strong><a href='https://wandb.ai/wb-team-hardik/csai_fmri_video_project/runs/vzkjv54h' target=\"_blank\">decoding_LSTM_vitmae_1000_defeat</a></strong> to <a href='https://wandb.ai/wb-team-hardik/csai_fmri_video_project' target=\"_blank\">Weights & Biases</a> (<a href='https://wandb.me/developer-guide' target=\"_blank\">docs</a>)<br>"
      ],
      "text/plain": [
       "<IPython.core.display.HTML object>"
      ]
     },
     "metadata": {},
     "output_type": "display_data"
    },
    {
     "data": {
      "text/html": [
       " View project at <a href='https://wandb.ai/wb-team-hardik/csai_fmri_video_project' target=\"_blank\">https://wandb.ai/wb-team-hardik/csai_fmri_video_project</a>"
      ],
      "text/plain": [
       "<IPython.core.display.HTML object>"
      ]
     },
     "metadata": {},
     "output_type": "display_data"
    },
    {
     "data": {
      "text/html": [
       " View run at <a href='https://wandb.ai/wb-team-hardik/csai_fmri_video_project/runs/vzkjv54h' target=\"_blank\">https://wandb.ai/wb-team-hardik/csai_fmri_video_project/runs/vzkjv54h</a>"
      ],
      "text/plain": [
       "<IPython.core.display.HTML object>"
      ]
     },
     "metadata": {},
     "output_type": "display_data"
    },
    {
     "name": "stderr",
     "output_type": "stream",
     "text": [
      "                                                                                  \r"
     ]
    },
    {
     "name": "stdout",
     "output_type": "stream",
     "text": [
      "Epoch 1/50 | Train Loss: 1.1213\n",
      "> Evaluation on train\n",
      "Evaluating decoding model...\n"
     ]
    },
    {
     "name": "stderr",
     "output_type": "stream",
     "text": [
      "                                                                         \r"
     ]
    },
    {
     "name": "stdout",
     "output_type": "stream",
     "text": [
      "Evaluation complete. Target shape: (17427, 768), Prediction shape: (17427, 768)\n",
      "  MSE: 1.0132\n",
      "  Avg Pearson Correlation (across features/voxels): 0.0455\n",
      "  Median Pearson Correlation: 0.0445\n",
      "  R2 Score (uniform avg): -0.0132\n",
      "  R2 Score (variance weighted): -0.0132\n",
      "\n",
      "> Evaluation on test\n",
      "Evaluating decoding model...\n"
     ]
    },
    {
     "name": "stderr",
     "output_type": "stream",
     "text": [
      "                                                                     \r"
     ]
    },
    {
     "name": "stdout",
     "output_type": "stream",
     "text": [
      "Evaluation complete. Target shape: (1884, 768), Prediction shape: (1884, 768)\n",
      "  MSE: 1.0297\n",
      "  Avg Pearson Correlation (across features/voxels): -0.0013\n",
      "  Median Pearson Correlation: -0.0007\n",
      "  R2 Score (uniform avg): -0.0297\n",
      "  R2 Score (variance weighted): -0.0297\n"
     ]
    },
    {
     "name": "stderr",
     "output_type": "stream",
     "text": [
      "                                                                                  \r"
     ]
    },
    {
     "name": "stdout",
     "output_type": "stream",
     "text": [
      "Epoch 2/50 | Train Loss: 1.0503\n",
      "> Evaluation on train\n",
      "Evaluating decoding model...\n"
     ]
    },
    {
     "name": "stderr",
     "output_type": "stream",
     "text": [
      "                                                                         \r"
     ]
    },
    {
     "name": "stdout",
     "output_type": "stream",
     "text": [
      "Evaluation complete. Target shape: (17427, 768), Prediction shape: (17427, 768)\n",
      "  MSE: 0.9950\n",
      "  Avg Pearson Correlation (across features/voxels): 0.0724\n",
      "  Median Pearson Correlation: 0.0691\n",
      "  R2 Score (uniform avg): 0.0050\n",
      "  R2 Score (variance weighted): 0.0050\n",
      "\n",
      "> Evaluation on test\n",
      "Evaluating decoding model...\n"
     ]
    },
    {
     "name": "stderr",
     "output_type": "stream",
     "text": [
      "                                                                     \r"
     ]
    },
    {
     "name": "stdout",
     "output_type": "stream",
     "text": [
      "Evaluation complete. Target shape: (1884, 768), Prediction shape: (1884, 768)\n",
      "  MSE: 1.0063\n",
      "  Avg Pearson Correlation (across features/voxels): -0.0039\n",
      "  Median Pearson Correlation: -0.0044\n",
      "  R2 Score (uniform avg): -0.0063\n",
      "  R2 Score (variance weighted): -0.0063\n"
     ]
    },
    {
     "name": "stderr",
     "output_type": "stream",
     "text": [
      "                                                                                  \r"
     ]
    },
    {
     "name": "stdout",
     "output_type": "stream",
     "text": [
      "Epoch 3/50 | Train Loss: 1.0353\n",
      "> Evaluation on train\n",
      "Evaluating decoding model...\n"
     ]
    },
    {
     "name": "stderr",
     "output_type": "stream",
     "text": [
      "                                                                         \r"
     ]
    },
    {
     "name": "stdout",
     "output_type": "stream",
     "text": [
      "Evaluation complete. Target shape: (17427, 768), Prediction shape: (17427, 768)\n",
      "  MSE: 0.9896\n",
      "  Avg Pearson Correlation (across features/voxels): 0.1093\n",
      "  Median Pearson Correlation: 0.1018\n",
      "  R2 Score (uniform avg): 0.0104\n",
      "  R2 Score (variance weighted): 0.0104\n",
      "\n",
      "> Evaluation on test\n",
      "Evaluating decoding model...\n"
     ]
    },
    {
     "name": "stderr",
     "output_type": "stream",
     "text": [
      "                                                                     \r"
     ]
    },
    {
     "name": "stdout",
     "output_type": "stream",
     "text": [
      "Evaluation complete. Target shape: (1884, 768), Prediction shape: (1884, 768)\n",
      "  MSE: 1.0042\n",
      "  Avg Pearson Correlation (across features/voxels): 0.0054\n",
      "  Median Pearson Correlation: 0.0057\n",
      "  R2 Score (uniform avg): -0.0042\n",
      "  R2 Score (variance weighted): -0.0042\n"
     ]
    },
    {
     "name": "stderr",
     "output_type": "stream",
     "text": [
      "                                                                                  \r"
     ]
    },
    {
     "name": "stdout",
     "output_type": "stream",
     "text": [
      "Epoch 4/50 | Train Loss: 1.0247\n",
      "> Evaluation on train\n",
      "Evaluating decoding model...\n"
     ]
    },
    {
     "name": "stderr",
     "output_type": "stream",
     "text": [
      "                                                                         \r"
     ]
    },
    {
     "name": "stdout",
     "output_type": "stream",
     "text": [
      "Evaluation complete. Target shape: (17427, 768), Prediction shape: (17427, 768)\n",
      "  MSE: 0.9726\n",
      "  Avg Pearson Correlation (across features/voxels): 0.1713\n",
      "  Median Pearson Correlation: 0.1607\n",
      "  R2 Score (uniform avg): 0.0274\n",
      "  R2 Score (variance weighted): 0.0274\n",
      "\n",
      "> Evaluation on test\n",
      "Evaluating decoding model...\n"
     ]
    },
    {
     "name": "stderr",
     "output_type": "stream",
     "text": [
      "                                                                       \r"
     ]
    },
    {
     "name": "stdout",
     "output_type": "stream",
     "text": [
      "Evaluation complete. Target shape: (1884, 768), Prediction shape: (1884, 768)\n",
      "  MSE: 1.0081\n",
      "  Avg Pearson Correlation (across features/voxels): 0.0069\n",
      "  Median Pearson Correlation: 0.0075\n",
      "  R2 Score (uniform avg): -0.0081\n",
      "  R2 Score (variance weighted): -0.0081\n"
     ]
    },
    {
     "name": "stderr",
     "output_type": "stream",
     "text": [
      "                                                                                  \r"
     ]
    },
    {
     "name": "stdout",
     "output_type": "stream",
     "text": [
      "Epoch 5/50 | Train Loss: 1.0010\n",
      "> Evaluation on train\n",
      "Evaluating decoding model...\n"
     ]
    },
    {
     "name": "stderr",
     "output_type": "stream",
     "text": [
      "                                                                         \r"
     ]
    },
    {
     "name": "stdout",
     "output_type": "stream",
     "text": [
      "Evaluation complete. Target shape: (17427, 768), Prediction shape: (17427, 768)\n",
      "  MSE: 0.9442\n",
      "  Avg Pearson Correlation (across features/voxels): 0.2398\n",
      "  Median Pearson Correlation: 0.2338\n",
      "  R2 Score (uniform avg): 0.0558\n",
      "  R2 Score (variance weighted): 0.0558\n",
      "\n",
      "> Evaluation on test\n",
      "Evaluating decoding model...\n"
     ]
    },
    {
     "name": "stderr",
     "output_type": "stream",
     "text": [
      "                                                                       \r"
     ]
    },
    {
     "name": "stdout",
     "output_type": "stream",
     "text": [
      "Evaluation complete. Target shape: (1884, 768), Prediction shape: (1884, 768)\n",
      "  MSE: 1.0178\n",
      "  Avg Pearson Correlation (across features/voxels): 0.0079\n",
      "  Median Pearson Correlation: 0.0059\n",
      "  R2 Score (uniform avg): -0.0178\n",
      "  R2 Score (variance weighted): -0.0178\n"
     ]
    },
    {
     "name": "stderr",
     "output_type": "stream",
     "text": [
      "                                                                                  \r"
     ]
    },
    {
     "name": "stdout",
     "output_type": "stream",
     "text": [
      "Epoch 6/50 | Train Loss: 0.9705\n",
      "> Evaluation on train\n",
      "Evaluating decoding model...\n"
     ]
    },
    {
     "name": "stderr",
     "output_type": "stream",
     "text": [
      "                                                                         \r"
     ]
    },
    {
     "name": "stdout",
     "output_type": "stream",
     "text": [
      "Evaluation complete. Target shape: (17427, 768), Prediction shape: (17427, 768)\n",
      "  MSE: 0.9096\n",
      "  Avg Pearson Correlation (across features/voxels): 0.3031\n",
      "  Median Pearson Correlation: 0.2940\n",
      "  R2 Score (uniform avg): 0.0904\n",
      "  R2 Score (variance weighted): 0.0904\n",
      "\n",
      "> Evaluation on test\n",
      "Evaluating decoding model...\n"
     ]
    },
    {
     "name": "stderr",
     "output_type": "stream",
     "text": [
      "                                                                     \r"
     ]
    },
    {
     "name": "stdout",
     "output_type": "stream",
     "text": [
      "Evaluation complete. Target shape: (1884, 768), Prediction shape: (1884, 768)\n",
      "  MSE: 1.0302\n",
      "  Avg Pearson Correlation (across features/voxels): 0.0026\n",
      "  Median Pearson Correlation: 0.0026\n",
      "  R2 Score (uniform avg): -0.0302\n",
      "  R2 Score (variance weighted): -0.0302\n"
     ]
    },
    {
     "name": "stderr",
     "output_type": "stream",
     "text": [
      "                                                                                  \r"
     ]
    },
    {
     "name": "stdout",
     "output_type": "stream",
     "text": [
      "Epoch 7/50 | Train Loss: 0.9405\n",
      "> Evaluation on train\n",
      "Evaluating decoding model...\n"
     ]
    },
    {
     "name": "stderr",
     "output_type": "stream",
     "text": [
      "                                                                         \r"
     ]
    },
    {
     "name": "stdout",
     "output_type": "stream",
     "text": [
      "Evaluation complete. Target shape: (17427, 768), Prediction shape: (17427, 768)\n",
      "  MSE: 0.8740\n",
      "  Avg Pearson Correlation (across features/voxels): 0.3551\n",
      "  Median Pearson Correlation: 0.3463\n",
      "  R2 Score (uniform avg): 0.1260\n",
      "  R2 Score (variance weighted): 0.1260\n",
      "\n",
      "> Evaluation on test\n",
      "Evaluating decoding model...\n"
     ]
    },
    {
     "name": "stderr",
     "output_type": "stream",
     "text": [
      "                                                                       \r"
     ]
    },
    {
     "name": "stdout",
     "output_type": "stream",
     "text": [
      "Evaluation complete. Target shape: (1884, 768), Prediction shape: (1884, 768)\n",
      "  MSE: 1.0416\n",
      "  Avg Pearson Correlation (across features/voxels): 0.0038\n",
      "  Median Pearson Correlation: 0.0047\n",
      "  R2 Score (uniform avg): -0.0416\n",
      "  R2 Score (variance weighted): -0.0416\n"
     ]
    },
    {
     "name": "stderr",
     "output_type": "stream",
     "text": [
      "                                                                                  \r"
     ]
    },
    {
     "name": "stdout",
     "output_type": "stream",
     "text": [
      "Epoch 8/50 | Train Loss: 0.9132\n",
      "> Evaluation on train\n",
      "Evaluating decoding model...\n"
     ]
    },
    {
     "name": "stderr",
     "output_type": "stream",
     "text": [
      "                                                                         \r"
     ]
    },
    {
     "name": "stdout",
     "output_type": "stream",
     "text": [
      "Evaluation complete. Target shape: (17427, 768), Prediction shape: (17427, 768)\n",
      "  MSE: 0.8427\n",
      "  Avg Pearson Correlation (across features/voxels): 0.3928\n",
      "  Median Pearson Correlation: 0.3862\n",
      "  R2 Score (uniform avg): 0.1573\n",
      "  R2 Score (variance weighted): 0.1573\n",
      "\n",
      "> Evaluation on test\n",
      "Evaluating decoding model...\n"
     ]
    },
    {
     "name": "stderr",
     "output_type": "stream",
     "text": [
      "                                                                     \r"
     ]
    },
    {
     "name": "stdout",
     "output_type": "stream",
     "text": [
      "Evaluation complete. Target shape: (1884, 768), Prediction shape: (1884, 768)\n",
      "  MSE: 1.0597\n",
      "  Avg Pearson Correlation (across features/voxels): -0.0036\n",
      "  Median Pearson Correlation: -0.0038\n",
      "  R2 Score (uniform avg): -0.0597\n",
      "  R2 Score (variance weighted): -0.0597\n"
     ]
    },
    {
     "name": "stderr",
     "output_type": "stream",
     "text": [
      "                                                                                  \r"
     ]
    },
    {
     "name": "stdout",
     "output_type": "stream",
     "text": [
      "Epoch 9/50 | Train Loss: 0.8901\n",
      "> Evaluation on train\n",
      "Evaluating decoding model...\n"
     ]
    },
    {
     "name": "stderr",
     "output_type": "stream",
     "text": [
      "                                                                         \r"
     ]
    },
    {
     "name": "stdout",
     "output_type": "stream",
     "text": [
      "Evaluation complete. Target shape: (17427, 768), Prediction shape: (17427, 768)\n",
      "  MSE: 0.8166\n",
      "  Avg Pearson Correlation (across features/voxels): 0.4252\n",
      "  Median Pearson Correlation: 0.4193\n",
      "  R2 Score (uniform avg): 0.1834\n",
      "  R2 Score (variance weighted): 0.1834\n",
      "\n",
      "> Evaluation on test\n",
      "Evaluating decoding model...\n"
     ]
    },
    {
     "name": "stderr",
     "output_type": "stream",
     "text": [
      "                                                                     \r"
     ]
    },
    {
     "name": "stdout",
     "output_type": "stream",
     "text": [
      "Evaluation complete. Target shape: (1884, 768), Prediction shape: (1884, 768)\n",
      "  MSE: 1.0686\n",
      "  Avg Pearson Correlation (across features/voxels): -0.0067\n",
      "  Median Pearson Correlation: -0.0057\n",
      "  R2 Score (uniform avg): -0.0686\n",
      "  R2 Score (variance weighted): -0.0686\n"
     ]
    },
    {
     "name": "stderr",
     "output_type": "stream",
     "text": [
      "                                                                                  \r"
     ]
    },
    {
     "name": "stdout",
     "output_type": "stream",
     "text": [
      "Epoch 10/50 | Train Loss: 0.8695\n",
      "> Evaluation on train\n",
      "Evaluating decoding model...\n"
     ]
    },
    {
     "name": "stderr",
     "output_type": "stream",
     "text": [
      "                                                                         \r"
     ]
    },
    {
     "name": "stdout",
     "output_type": "stream",
     "text": [
      "Evaluation complete. Target shape: (17427, 768), Prediction shape: (17427, 768)\n",
      "  MSE: 0.7896\n",
      "  Avg Pearson Correlation (across features/voxels): 0.4539\n",
      "  Median Pearson Correlation: 0.4486\n",
      "  R2 Score (uniform avg): 0.2104\n",
      "  R2 Score (variance weighted): 0.2104\n",
      "\n",
      "> Evaluation on test\n",
      "Evaluating decoding model...\n"
     ]
    },
    {
     "name": "stderr",
     "output_type": "stream",
     "text": [
      "                                                                     \r"
     ]
    },
    {
     "name": "stdout",
     "output_type": "stream",
     "text": [
      "Evaluation complete. Target shape: (1884, 768), Prediction shape: (1884, 768)\n",
      "  MSE: 1.0807\n",
      "  Avg Pearson Correlation (across features/voxels): -0.0085\n",
      "  Median Pearson Correlation: -0.0088\n",
      "  R2 Score (uniform avg): -0.0807\n",
      "  R2 Score (variance weighted): -0.0807\n"
     ]
    },
    {
     "name": "stderr",
     "output_type": "stream",
     "text": [
      "                                                                                  \r"
     ]
    },
    {
     "name": "stdout",
     "output_type": "stream",
     "text": [
      "Epoch 11/50 | Train Loss: 0.8504\n",
      "> Evaluation on train\n",
      "Evaluating decoding model...\n"
     ]
    },
    {
     "name": "stderr",
     "output_type": "stream",
     "text": [
      "                                                                         \r"
     ]
    },
    {
     "name": "stdout",
     "output_type": "stream",
     "text": [
      "Evaluation complete. Target shape: (17427, 768), Prediction shape: (17427, 768)\n",
      "  MSE: 0.7735\n",
      "  Avg Pearson Correlation (across features/voxels): 0.4750\n",
      "  Median Pearson Correlation: 0.4718\n",
      "  R2 Score (uniform avg): 0.2265\n",
      "  R2 Score (variance weighted): 0.2265\n",
      "\n",
      "> Evaluation on test\n",
      "Evaluating decoding model...\n"
     ]
    },
    {
     "name": "stderr",
     "output_type": "stream",
     "text": [
      "                                                                     \r"
     ]
    },
    {
     "name": "stdout",
     "output_type": "stream",
     "text": [
      "Evaluation complete. Target shape: (1884, 768), Prediction shape: (1884, 768)\n",
      "  MSE: 1.0789\n",
      "  Avg Pearson Correlation (across features/voxels): -0.0085\n",
      "  Median Pearson Correlation: -0.0081\n",
      "  R2 Score (uniform avg): -0.0789\n",
      "  R2 Score (variance weighted): -0.0789\n"
     ]
    },
    {
     "name": "stderr",
     "output_type": "stream",
     "text": [
      "                                                                                  \r"
     ]
    },
    {
     "name": "stdout",
     "output_type": "stream",
     "text": [
      "Epoch 12/50 | Train Loss: 0.8330\n",
      "> Evaluation on train\n",
      "Evaluating decoding model...\n"
     ]
    },
    {
     "name": "stderr",
     "output_type": "stream",
     "text": [
      "                                                                         \r"
     ]
    },
    {
     "name": "stdout",
     "output_type": "stream",
     "text": [
      "Evaluation complete. Target shape: (17427, 768), Prediction shape: (17427, 768)\n",
      "  MSE: 0.7544\n",
      "  Avg Pearson Correlation (across features/voxels): 0.4924\n",
      "  Median Pearson Correlation: 0.4900\n",
      "  R2 Score (uniform avg): 0.2456\n",
      "  R2 Score (variance weighted): 0.2456\n",
      "\n",
      "> Evaluation on test\n",
      "Evaluating decoding model...\n"
     ]
    },
    {
     "name": "stderr",
     "output_type": "stream",
     "text": [
      "                                                                     \r"
     ]
    },
    {
     "name": "stdout",
     "output_type": "stream",
     "text": [
      "Evaluation complete. Target shape: (1884, 768), Prediction shape: (1884, 768)\n",
      "  MSE: 1.0885\n",
      "  Avg Pearson Correlation (across features/voxels): -0.0086\n",
      "  Median Pearson Correlation: -0.0091\n",
      "  R2 Score (uniform avg): -0.0885\n",
      "  R2 Score (variance weighted): -0.0885\n"
     ]
    },
    {
     "name": "stderr",
     "output_type": "stream",
     "text": [
      "                                                                                  \r"
     ]
    },
    {
     "name": "stdout",
     "output_type": "stream",
     "text": [
      "Epoch 13/50 | Train Loss: 0.8189\n",
      "> Evaluation on train\n",
      "Evaluating decoding model...\n"
     ]
    },
    {
     "name": "stderr",
     "output_type": "stream",
     "text": [
      "                                                                         \r"
     ]
    },
    {
     "name": "stdout",
     "output_type": "stream",
     "text": [
      "Evaluation complete. Target shape: (17427, 768), Prediction shape: (17427, 768)\n",
      "  MSE: 0.7392\n",
      "  Avg Pearson Correlation (across features/voxels): 0.5073\n",
      "  Median Pearson Correlation: 0.5029\n",
      "  R2 Score (uniform avg): 0.2608\n",
      "  R2 Score (variance weighted): 0.2608\n",
      "\n",
      "> Evaluation on test\n",
      "Evaluating decoding model...\n"
     ]
    },
    {
     "name": "stderr",
     "output_type": "stream",
     "text": [
      "                                                                     \r"
     ]
    },
    {
     "name": "stdout",
     "output_type": "stream",
     "text": [
      "Evaluation complete. Target shape: (1884, 768), Prediction shape: (1884, 768)\n",
      "  MSE: 1.0939\n",
      "  Avg Pearson Correlation (across features/voxels): -0.0122\n",
      "  Median Pearson Correlation: -0.0118\n",
      "  R2 Score (uniform avg): -0.0939\n",
      "  R2 Score (variance weighted): -0.0939\n"
     ]
    },
    {
     "name": "stderr",
     "output_type": "stream",
     "text": [
      "                                                                                  \r"
     ]
    },
    {
     "name": "stdout",
     "output_type": "stream",
     "text": [
      "Epoch 14/50 | Train Loss: 0.8054\n",
      "> Evaluation on train\n",
      "Evaluating decoding model...\n"
     ]
    },
    {
     "name": "stderr",
     "output_type": "stream",
     "text": [
      "                                                                         \r"
     ]
    },
    {
     "name": "stdout",
     "output_type": "stream",
     "text": [
      "Evaluation complete. Target shape: (17427, 768), Prediction shape: (17427, 768)\n",
      "  MSE: 0.7219\n",
      "  Avg Pearson Correlation (across features/voxels): 0.5237\n",
      "  Median Pearson Correlation: 0.5211\n",
      "  R2 Score (uniform avg): 0.2781\n",
      "  R2 Score (variance weighted): 0.2781\n",
      "\n",
      "> Evaluation on test\n",
      "Evaluating decoding model...\n"
     ]
    },
    {
     "name": "stderr",
     "output_type": "stream",
     "text": [
      "                                                                     \r"
     ]
    },
    {
     "name": "stdout",
     "output_type": "stream",
     "text": [
      "Evaluation complete. Target shape: (1884, 768), Prediction shape: (1884, 768)\n",
      "  MSE: 1.1007\n",
      "  Avg Pearson Correlation (across features/voxels): -0.0115\n",
      "  Median Pearson Correlation: -0.0118\n",
      "  R2 Score (uniform avg): -0.1007\n",
      "  R2 Score (variance weighted): -0.1007\n"
     ]
    },
    {
     "name": "stderr",
     "output_type": "stream",
     "text": [
      "                                                                                  \r"
     ]
    },
    {
     "name": "stdout",
     "output_type": "stream",
     "text": [
      "Epoch 15/50 | Train Loss: 0.7916\n",
      "> Evaluation on train\n",
      "Evaluating decoding model...\n"
     ]
    },
    {
     "name": "stderr",
     "output_type": "stream",
     "text": [
      "                                                                         \r"
     ]
    },
    {
     "name": "stdout",
     "output_type": "stream",
     "text": [
      "Evaluation complete. Target shape: (17427, 768), Prediction shape: (17427, 768)\n",
      "  MSE: 0.7071\n",
      "  Avg Pearson Correlation (across features/voxels): 0.5377\n",
      "  Median Pearson Correlation: 0.5340\n",
      "  R2 Score (uniform avg): 0.2929\n",
      "  R2 Score (variance weighted): 0.2929\n",
      "\n",
      "> Evaluation on test\n",
      "Evaluating decoding model...\n"
     ]
    },
    {
     "name": "stderr",
     "output_type": "stream",
     "text": [
      "                                                                     \r"
     ]
    },
    {
     "name": "stdout",
     "output_type": "stream",
     "text": [
      "Evaluation complete. Target shape: (1884, 768), Prediction shape: (1884, 768)\n",
      "  MSE: 1.1015\n",
      "  Avg Pearson Correlation (across features/voxels): -0.0074\n",
      "  Median Pearson Correlation: -0.0074\n",
      "  R2 Score (uniform avg): -0.1015\n",
      "  R2 Score (variance weighted): -0.1015\n"
     ]
    },
    {
     "name": "stderr",
     "output_type": "stream",
     "text": [
      "                                                                                  \r"
     ]
    },
    {
     "name": "stdout",
     "output_type": "stream",
     "text": [
      "Epoch 16/50 | Train Loss: 0.7792\n",
      "> Evaluation on train\n",
      "Evaluating decoding model...\n"
     ]
    },
    {
     "name": "stderr",
     "output_type": "stream",
     "text": [
      "                                                                         \r"
     ]
    },
    {
     "name": "stdout",
     "output_type": "stream",
     "text": [
      "Evaluation complete. Target shape: (17427, 768), Prediction shape: (17427, 768)\n",
      "  MSE: 0.6961\n",
      "  Avg Pearson Correlation (across features/voxels): 0.5501\n",
      "  Median Pearson Correlation: 0.5470\n",
      "  R2 Score (uniform avg): 0.3039\n",
      "  R2 Score (variance weighted): 0.3039\n",
      "\n",
      "> Evaluation on test\n",
      "Evaluating decoding model...\n"
     ]
    },
    {
     "name": "stderr",
     "output_type": "stream",
     "text": [
      "                                                                     \r"
     ]
    },
    {
     "name": "stdout",
     "output_type": "stream",
     "text": [
      "Evaluation complete. Target shape: (1884, 768), Prediction shape: (1884, 768)\n",
      "  MSE: 1.1021\n",
      "  Avg Pearson Correlation (across features/voxels): -0.0109\n",
      "  Median Pearson Correlation: -0.0114\n",
      "  R2 Score (uniform avg): -0.1021\n",
      "  R2 Score (variance weighted): -0.1021\n"
     ]
    },
    {
     "name": "stderr",
     "output_type": "stream",
     "text": [
      "                                                                                  \r"
     ]
    },
    {
     "name": "stdout",
     "output_type": "stream",
     "text": [
      "Epoch 17/50 | Train Loss: 0.7685\n",
      "> Evaluation on train\n",
      "Evaluating decoding model...\n"
     ]
    },
    {
     "name": "stderr",
     "output_type": "stream",
     "text": [
      "                                                                         \r"
     ]
    },
    {
     "name": "stdout",
     "output_type": "stream",
     "text": [
      "Evaluation complete. Target shape: (17427, 768), Prediction shape: (17427, 768)\n",
      "  MSE: 0.6835\n",
      "  Avg Pearson Correlation (across features/voxels): 0.5595\n",
      "  Median Pearson Correlation: 0.5569\n",
      "  R2 Score (uniform avg): 0.3165\n",
      "  R2 Score (variance weighted): 0.3165\n",
      "\n",
      "> Evaluation on test\n",
      "Evaluating decoding model...\n"
     ]
    },
    {
     "name": "stderr",
     "output_type": "stream",
     "text": [
      "                                                                       \r"
     ]
    },
    {
     "name": "stdout",
     "output_type": "stream",
     "text": [
      "Evaluation complete. Target shape: (1884, 768), Prediction shape: (1884, 768)\n",
      "  MSE: 1.1049\n",
      "  Avg Pearson Correlation (across features/voxels): -0.0109\n",
      "  Median Pearson Correlation: -0.0099\n",
      "  R2 Score (uniform avg): -0.1049\n",
      "  R2 Score (variance weighted): -0.1049\n"
     ]
    },
    {
     "name": "stderr",
     "output_type": "stream",
     "text": [
      "                                                                                  \r"
     ]
    },
    {
     "name": "stdout",
     "output_type": "stream",
     "text": [
      "Epoch 18/50 | Train Loss: 0.7573\n",
      "> Evaluation on train\n",
      "Evaluating decoding model...\n"
     ]
    },
    {
     "name": "stderr",
     "output_type": "stream",
     "text": [
      "                                                                         \r"
     ]
    },
    {
     "name": "stdout",
     "output_type": "stream",
     "text": [
      "Evaluation complete. Target shape: (17427, 768), Prediction shape: (17427, 768)\n",
      "  MSE: 0.6690\n",
      "  Avg Pearson Correlation (across features/voxels): 0.5736\n",
      "  Median Pearson Correlation: 0.5717\n",
      "  R2 Score (uniform avg): 0.3310\n",
      "  R2 Score (variance weighted): 0.3310\n",
      "\n",
      "> Evaluation on test\n",
      "Evaluating decoding model...\n"
     ]
    },
    {
     "name": "stderr",
     "output_type": "stream",
     "text": [
      "                                                                     \r"
     ]
    },
    {
     "name": "stdout",
     "output_type": "stream",
     "text": [
      "Evaluation complete. Target shape: (1884, 768), Prediction shape: (1884, 768)\n",
      "  MSE: 1.1046\n",
      "  Avg Pearson Correlation (across features/voxels): -0.0101\n",
      "  Median Pearson Correlation: -0.0098\n",
      "  R2 Score (uniform avg): -0.1046\n",
      "  R2 Score (variance weighted): -0.1046\n"
     ]
    },
    {
     "name": "stderr",
     "output_type": "stream",
     "text": [
      "                                                                                  \r"
     ]
    },
    {
     "name": "stdout",
     "output_type": "stream",
     "text": [
      "Epoch 19/50 | Train Loss: 0.7467\n",
      "> Evaluation on train\n",
      "Evaluating decoding model...\n"
     ]
    },
    {
     "name": "stderr",
     "output_type": "stream",
     "text": [
      "                                                                         \r"
     ]
    },
    {
     "name": "stdout",
     "output_type": "stream",
     "text": [
      "Evaluation complete. Target shape: (17427, 768), Prediction shape: (17427, 768)\n",
      "  MSE: 0.6537\n",
      "  Avg Pearson Correlation (across features/voxels): 0.5851\n",
      "  Median Pearson Correlation: 0.5827\n",
      "  R2 Score (uniform avg): 0.3463\n",
      "  R2 Score (variance weighted): 0.3463\n",
      "\n",
      "> Evaluation on test\n",
      "Evaluating decoding model...\n"
     ]
    },
    {
     "name": "stderr",
     "output_type": "stream",
     "text": [
      "                                                                     \r"
     ]
    },
    {
     "name": "stdout",
     "output_type": "stream",
     "text": [
      "Evaluation complete. Target shape: (1884, 768), Prediction shape: (1884, 768)\n",
      "  MSE: 1.1147\n",
      "  Avg Pearson Correlation (across features/voxels): -0.0121\n",
      "  Median Pearson Correlation: -0.0107\n",
      "  R2 Score (uniform avg): -0.1147\n",
      "  R2 Score (variance weighted): -0.1147\n"
     ]
    },
    {
     "name": "stderr",
     "output_type": "stream",
     "text": [
      "                                                                                  \r"
     ]
    },
    {
     "name": "stdout",
     "output_type": "stream",
     "text": [
      "Epoch 20/50 | Train Loss: 0.7356\n",
      "> Evaluation on train\n",
      "Evaluating decoding model...\n"
     ]
    },
    {
     "name": "stderr",
     "output_type": "stream",
     "text": [
      "                                                                         \r"
     ]
    },
    {
     "name": "stdout",
     "output_type": "stream",
     "text": [
      "Evaluation complete. Target shape: (17427, 768), Prediction shape: (17427, 768)\n",
      "  MSE: 0.6453\n",
      "  Avg Pearson Correlation (across features/voxels): 0.5940\n",
      "  Median Pearson Correlation: 0.5917\n",
      "  R2 Score (uniform avg): 0.3547\n",
      "  R2 Score (variance weighted): 0.3547\n",
      "\n",
      "> Evaluation on test\n",
      "Evaluating decoding model...\n"
     ]
    },
    {
     "name": "stderr",
     "output_type": "stream",
     "text": [
      "                                                                     \r"
     ]
    },
    {
     "name": "stdout",
     "output_type": "stream",
     "text": [
      "Evaluation complete. Target shape: (1884, 768), Prediction shape: (1884, 768)\n",
      "  MSE: 1.1111\n",
      "  Avg Pearson Correlation (across features/voxels): -0.0116\n",
      "  Median Pearson Correlation: -0.0106\n",
      "  R2 Score (uniform avg): -0.1111\n",
      "  R2 Score (variance weighted): -0.1111\n"
     ]
    },
    {
     "name": "stderr",
     "output_type": "stream",
     "text": [
      "                                                                                  \r"
     ]
    },
    {
     "name": "stdout",
     "output_type": "stream",
     "text": [
      "Epoch 21/50 | Train Loss: 0.7254\n",
      "> Evaluation on train\n",
      "Evaluating decoding model...\n"
     ]
    },
    {
     "name": "stderr",
     "output_type": "stream",
     "text": [
      "                                                                         \r"
     ]
    },
    {
     "name": "stdout",
     "output_type": "stream",
     "text": [
      "Evaluation complete. Target shape: (17427, 768), Prediction shape: (17427, 768)\n",
      "  MSE: 0.6373\n",
      "  Avg Pearson Correlation (across features/voxels): 0.6032\n",
      "  Median Pearson Correlation: 0.6002\n",
      "  R2 Score (uniform avg): 0.3627\n",
      "  R2 Score (variance weighted): 0.3627\n",
      "\n",
      "> Evaluation on test\n",
      "Evaluating decoding model...\n"
     ]
    },
    {
     "name": "stderr",
     "output_type": "stream",
     "text": [
      "                                                                     \r"
     ]
    },
    {
     "name": "stdout",
     "output_type": "stream",
     "text": [
      "Evaluation complete. Target shape: (1884, 768), Prediction shape: (1884, 768)\n",
      "  MSE: 1.1021\n",
      "  Avg Pearson Correlation (across features/voxels): -0.0107\n",
      "  Median Pearson Correlation: -0.0107\n",
      "  R2 Score (uniform avg): -0.1021\n",
      "  R2 Score (variance weighted): -0.1021\n"
     ]
    },
    {
     "name": "stderr",
     "output_type": "stream",
     "text": [
      "                                                                                  \r"
     ]
    },
    {
     "name": "stdout",
     "output_type": "stream",
     "text": [
      "Epoch 22/50 | Train Loss: 0.7176\n",
      "> Evaluation on train\n",
      "Evaluating decoding model...\n"
     ]
    },
    {
     "name": "stderr",
     "output_type": "stream",
     "text": [
      "                                                                         \r"
     ]
    },
    {
     "name": "stdout",
     "output_type": "stream",
     "text": [
      "Evaluation complete. Target shape: (17427, 768), Prediction shape: (17427, 768)\n",
      "  MSE: 0.6213\n",
      "  Avg Pearson Correlation (across features/voxels): 0.6141\n",
      "  Median Pearson Correlation: 0.6118\n",
      "  R2 Score (uniform avg): 0.3787\n",
      "  R2 Score (variance weighted): 0.3787\n",
      "\n",
      "> Evaluation on test\n",
      "Evaluating decoding model...\n"
     ]
    },
    {
     "name": "stderr",
     "output_type": "stream",
     "text": [
      "                                                                     \r"
     ]
    },
    {
     "name": "stdout",
     "output_type": "stream",
     "text": [
      "Evaluation complete. Target shape: (1884, 768), Prediction shape: (1884, 768)\n",
      "  MSE: 1.1108\n",
      "  Avg Pearson Correlation (across features/voxels): -0.0106\n",
      "  Median Pearson Correlation: -0.0105\n",
      "  R2 Score (uniform avg): -0.1108\n",
      "  R2 Score (variance weighted): -0.1108\n"
     ]
    },
    {
     "name": "stderr",
     "output_type": "stream",
     "text": [
      "                                                                                  \r"
     ]
    },
    {
     "name": "stdout",
     "output_type": "stream",
     "text": [
      "Epoch 23/50 | Train Loss: 0.7061\n",
      "> Evaluation on train\n",
      "Evaluating decoding model...\n"
     ]
    },
    {
     "name": "stderr",
     "output_type": "stream",
     "text": [
      "                                                                         \r"
     ]
    },
    {
     "name": "stdout",
     "output_type": "stream",
     "text": [
      "Evaluation complete. Target shape: (17427, 768), Prediction shape: (17427, 768)\n",
      "  MSE: 0.6091\n",
      "  Avg Pearson Correlation (across features/voxels): 0.6230\n",
      "  Median Pearson Correlation: 0.6208\n",
      "  R2 Score (uniform avg): 0.3909\n",
      "  R2 Score (variance weighted): 0.3909\n",
      "\n",
      "> Evaluation on test\n",
      "Evaluating decoding model...\n"
     ]
    },
    {
     "name": "stderr",
     "output_type": "stream",
     "text": [
      "                                                                     \r"
     ]
    },
    {
     "name": "stdout",
     "output_type": "stream",
     "text": [
      "Evaluation complete. Target shape: (1884, 768), Prediction shape: (1884, 768)\n",
      "  MSE: 1.1171\n",
      "  Avg Pearson Correlation (across features/voxels): -0.0079\n",
      "  Median Pearson Correlation: -0.0082\n",
      "  R2 Score (uniform avg): -0.1171\n",
      "  R2 Score (variance weighted): -0.1171\n"
     ]
    },
    {
     "name": "stderr",
     "output_type": "stream",
     "text": [
      "                                                                                  \r"
     ]
    },
    {
     "name": "stdout",
     "output_type": "stream",
     "text": [
      "Epoch 24/50 | Train Loss: 0.6977\n",
      "> Evaluation on train\n",
      "Evaluating decoding model...\n"
     ]
    },
    {
     "name": "stderr",
     "output_type": "stream",
     "text": [
      "                                                                         \r"
     ]
    },
    {
     "name": "stdout",
     "output_type": "stream",
     "text": [
      "Evaluation complete. Target shape: (17427, 768), Prediction shape: (17427, 768)\n",
      "  MSE: 0.6006\n",
      "  Avg Pearson Correlation (across features/voxels): 0.6308\n",
      "  Median Pearson Correlation: 0.6295\n",
      "  R2 Score (uniform avg): 0.3994\n",
      "  R2 Score (variance weighted): 0.3994\n",
      "\n",
      "> Evaluation on test\n",
      "Evaluating decoding model...\n"
     ]
    },
    {
     "name": "stderr",
     "output_type": "stream",
     "text": [
      "                                                                     \r"
     ]
    },
    {
     "name": "stdout",
     "output_type": "stream",
     "text": [
      "Evaluation complete. Target shape: (1884, 768), Prediction shape: (1884, 768)\n",
      "  MSE: 1.1152\n",
      "  Avg Pearson Correlation (across features/voxels): -0.0119\n",
      "  Median Pearson Correlation: -0.0120\n",
      "  R2 Score (uniform avg): -0.1152\n",
      "  R2 Score (variance weighted): -0.1152\n"
     ]
    },
    {
     "name": "stderr",
     "output_type": "stream",
     "text": [
      "                                                                                  \r"
     ]
    },
    {
     "name": "stdout",
     "output_type": "stream",
     "text": [
      "Epoch 25/50 | Train Loss: 0.6893\n",
      "> Evaluation on train\n",
      "Evaluating decoding model...\n"
     ]
    },
    {
     "name": "stderr",
     "output_type": "stream",
     "text": [
      "                                                                         \r"
     ]
    },
    {
     "name": "stdout",
     "output_type": "stream",
     "text": [
      "Evaluation complete. Target shape: (17427, 768), Prediction shape: (17427, 768)\n",
      "  MSE: 0.5937\n",
      "  Avg Pearson Correlation (across features/voxels): 0.6366\n",
      "  Median Pearson Correlation: 0.6349\n",
      "  R2 Score (uniform avg): 0.4063\n",
      "  R2 Score (variance weighted): 0.4063\n",
      "\n",
      "> Evaluation on test\n",
      "Evaluating decoding model...\n"
     ]
    },
    {
     "name": "stderr",
     "output_type": "stream",
     "text": [
      "                                                                     \r"
     ]
    },
    {
     "name": "stdout",
     "output_type": "stream",
     "text": [
      "Evaluation complete. Target shape: (1884, 768), Prediction shape: (1884, 768)\n",
      "  MSE: 1.1121\n",
      "  Avg Pearson Correlation (across features/voxels): -0.0064\n",
      "  Median Pearson Correlation: -0.0066\n",
      "  R2 Score (uniform avg): -0.1121\n",
      "  R2 Score (variance weighted): -0.1121\n"
     ]
    },
    {
     "name": "stderr",
     "output_type": "stream",
     "text": [
      "                                                                                  \r"
     ]
    },
    {
     "name": "stdout",
     "output_type": "stream",
     "text": [
      "Epoch 26/50 | Train Loss: 0.6799\n",
      "> Evaluation on train\n",
      "Evaluating decoding model...\n"
     ]
    },
    {
     "name": "stderr",
     "output_type": "stream",
     "text": [
      "                                                                         \r"
     ]
    },
    {
     "name": "stdout",
     "output_type": "stream",
     "text": [
      "Evaluation complete. Target shape: (17427, 768), Prediction shape: (17427, 768)\n",
      "  MSE: 0.5814\n",
      "  Avg Pearson Correlation (across features/voxels): 0.6461\n",
      "  Median Pearson Correlation: 0.6447\n",
      "  R2 Score (uniform avg): 0.4186\n",
      "  R2 Score (variance weighted): 0.4186\n",
      "\n",
      "> Evaluation on test\n",
      "Evaluating decoding model...\n"
     ]
    },
    {
     "name": "stderr",
     "output_type": "stream",
     "text": [
      "                                                                     \r"
     ]
    },
    {
     "name": "stdout",
     "output_type": "stream",
     "text": [
      "Evaluation complete. Target shape: (1884, 768), Prediction shape: (1884, 768)\n",
      "  MSE: 1.1132\n",
      "  Avg Pearson Correlation (across features/voxels): -0.0073\n",
      "  Median Pearson Correlation: -0.0068\n",
      "  R2 Score (uniform avg): -0.1132\n",
      "  R2 Score (variance weighted): -0.1132\n"
     ]
    },
    {
     "name": "stderr",
     "output_type": "stream",
     "text": [
      "                                                                                  \r"
     ]
    },
    {
     "name": "stdout",
     "output_type": "stream",
     "text": [
      "Epoch 27/50 | Train Loss: 0.6711\n",
      "> Evaluation on train\n",
      "Evaluating decoding model...\n"
     ]
    },
    {
     "name": "stderr",
     "output_type": "stream",
     "text": [
      "                                                                         \r"
     ]
    },
    {
     "name": "stdout",
     "output_type": "stream",
     "text": [
      "Evaluation complete. Target shape: (17427, 768), Prediction shape: (17427, 768)\n",
      "  MSE: 0.5732\n",
      "  Avg Pearson Correlation (across features/voxels): 0.6529\n",
      "  Median Pearson Correlation: 0.6523\n",
      "  R2 Score (uniform avg): 0.4268\n",
      "  R2 Score (variance weighted): 0.4268\n",
      "\n",
      "> Evaluation on test\n",
      "Evaluating decoding model...\n"
     ]
    },
    {
     "name": "stderr",
     "output_type": "stream",
     "text": [
      "                                                                     \r"
     ]
    },
    {
     "name": "stdout",
     "output_type": "stream",
     "text": [
      "Evaluation complete. Target shape: (1884, 768), Prediction shape: (1884, 768)\n",
      "  MSE: 1.1122\n",
      "  Avg Pearson Correlation (across features/voxels): -0.0088\n",
      "  Median Pearson Correlation: -0.0082\n",
      "  R2 Score (uniform avg): -0.1122\n",
      "  R2 Score (variance weighted): -0.1122\n"
     ]
    },
    {
     "name": "stderr",
     "output_type": "stream",
     "text": [
      "                                                                                  \r"
     ]
    },
    {
     "name": "stdout",
     "output_type": "stream",
     "text": [
      "Epoch 28/50 | Train Loss: 0.6641\n",
      "> Evaluation on train\n",
      "Evaluating decoding model...\n"
     ]
    },
    {
     "name": "stderr",
     "output_type": "stream",
     "text": [
      "                                                                         \r"
     ]
    },
    {
     "name": "stdout",
     "output_type": "stream",
     "text": [
      "Evaluation complete. Target shape: (17427, 768), Prediction shape: (17427, 768)\n",
      "  MSE: 0.5654\n",
      "  Avg Pearson Correlation (across features/voxels): 0.6593\n",
      "  Median Pearson Correlation: 0.6589\n",
      "  R2 Score (uniform avg): 0.4346\n",
      "  R2 Score (variance weighted): 0.4346\n",
      "\n",
      "> Evaluation on test\n",
      "Evaluating decoding model...\n"
     ]
    },
    {
     "name": "stderr",
     "output_type": "stream",
     "text": [
      "                                                                     \r"
     ]
    },
    {
     "name": "stdout",
     "output_type": "stream",
     "text": [
      "Evaluation complete. Target shape: (1884, 768), Prediction shape: (1884, 768)\n",
      "  MSE: 1.1126\n",
      "  Avg Pearson Correlation (across features/voxels): -0.0090\n",
      "  Median Pearson Correlation: -0.0083\n",
      "  R2 Score (uniform avg): -0.1126\n",
      "  R2 Score (variance weighted): -0.1126\n"
     ]
    },
    {
     "name": "stderr",
     "output_type": "stream",
     "text": [
      "                                                                                  \r"
     ]
    },
    {
     "name": "stdout",
     "output_type": "stream",
     "text": [
      "Epoch 29/50 | Train Loss: 0.6560\n",
      "> Evaluation on train\n",
      "Evaluating decoding model...\n"
     ]
    },
    {
     "name": "stderr",
     "output_type": "stream",
     "text": [
      "                                                                         \r"
     ]
    },
    {
     "name": "stdout",
     "output_type": "stream",
     "text": [
      "Evaluation complete. Target shape: (17427, 768), Prediction shape: (17427, 768)\n",
      "  MSE: 0.5541\n",
      "  Avg Pearson Correlation (across features/voxels): 0.6674\n",
      "  Median Pearson Correlation: 0.6672\n",
      "  R2 Score (uniform avg): 0.4459\n",
      "  R2 Score (variance weighted): 0.4459\n",
      "\n",
      "> Evaluation on test\n",
      "Evaluating decoding model...\n"
     ]
    },
    {
     "name": "stderr",
     "output_type": "stream",
     "text": [
      "                                                                     \r"
     ]
    },
    {
     "name": "stdout",
     "output_type": "stream",
     "text": [
      "Evaluation complete. Target shape: (1884, 768), Prediction shape: (1884, 768)\n",
      "  MSE: 1.1216\n",
      "  Avg Pearson Correlation (across features/voxels): -0.0116\n",
      "  Median Pearson Correlation: -0.0095\n",
      "  R2 Score (uniform avg): -0.1216\n",
      "  R2 Score (variance weighted): -0.1216\n"
     ]
    },
    {
     "name": "stderr",
     "output_type": "stream",
     "text": [
      "                                                                                  \r"
     ]
    },
    {
     "name": "stdout",
     "output_type": "stream",
     "text": [
      "Epoch 30/50 | Train Loss: 0.6478\n",
      "> Evaluation on train\n",
      "Evaluating decoding model...\n"
     ]
    },
    {
     "name": "stderr",
     "output_type": "stream",
     "text": [
      "                                                                         \r"
     ]
    },
    {
     "name": "stdout",
     "output_type": "stream",
     "text": [
      "Evaluation complete. Target shape: (17427, 768), Prediction shape: (17427, 768)\n",
      "  MSE: 0.5470\n",
      "  Avg Pearson Correlation (across features/voxels): 0.6729\n",
      "  Median Pearson Correlation: 0.6732\n",
      "  R2 Score (uniform avg): 0.4530\n",
      "  R2 Score (variance weighted): 0.4530\n",
      "\n",
      "> Evaluation on test\n",
      "Evaluating decoding model...\n"
     ]
    },
    {
     "name": "stderr",
     "output_type": "stream",
     "text": [
      "                                                                     \r"
     ]
    },
    {
     "name": "stdout",
     "output_type": "stream",
     "text": [
      "Evaluation complete. Target shape: (1884, 768), Prediction shape: (1884, 768)\n",
      "  MSE: 1.1150\n",
      "  Avg Pearson Correlation (across features/voxels): -0.0107\n",
      "  Median Pearson Correlation: -0.0099\n",
      "  R2 Score (uniform avg): -0.1150\n",
      "  R2 Score (variance weighted): -0.1150\n"
     ]
    },
    {
     "name": "stderr",
     "output_type": "stream",
     "text": [
      "                                                                                  \r"
     ]
    },
    {
     "name": "stdout",
     "output_type": "stream",
     "text": [
      "Epoch 31/50 | Train Loss: 0.6395\n",
      "> Evaluation on train\n",
      "Evaluating decoding model...\n"
     ]
    },
    {
     "name": "stderr",
     "output_type": "stream",
     "text": [
      "                                                                         \r"
     ]
    },
    {
     "name": "stdout",
     "output_type": "stream",
     "text": [
      "Evaluation complete. Target shape: (17427, 768), Prediction shape: (17427, 768)\n",
      "  MSE: 0.5383\n",
      "  Avg Pearson Correlation (across features/voxels): 0.6799\n",
      "  Median Pearson Correlation: 0.6808\n",
      "  R2 Score (uniform avg): 0.4617\n",
      "  R2 Score (variance weighted): 0.4617\n",
      "\n",
      "> Evaluation on test\n",
      "Evaluating decoding model...\n"
     ]
    },
    {
     "name": "stderr",
     "output_type": "stream",
     "text": [
      "                                                                     \r"
     ]
    },
    {
     "name": "stdout",
     "output_type": "stream",
     "text": [
      "Evaluation complete. Target shape: (1884, 768), Prediction shape: (1884, 768)\n",
      "  MSE: 1.1143\n",
      "  Avg Pearson Correlation (across features/voxels): -0.0111\n",
      "  Median Pearson Correlation: -0.0099\n",
      "  R2 Score (uniform avg): -0.1143\n",
      "  R2 Score (variance weighted): -0.1143\n"
     ]
    },
    {
     "name": "stderr",
     "output_type": "stream",
     "text": [
      "                                                                                  \r"
     ]
    },
    {
     "name": "stdout",
     "output_type": "stream",
     "text": [
      "Epoch 32/50 | Train Loss: 0.6318\n",
      "> Evaluation on train\n",
      "Evaluating decoding model...\n"
     ]
    },
    {
     "name": "stderr",
     "output_type": "stream",
     "text": [
      "                                                                         \r"
     ]
    },
    {
     "name": "stdout",
     "output_type": "stream",
     "text": [
      "Evaluation complete. Target shape: (17427, 768), Prediction shape: (17427, 768)\n",
      "  MSE: 0.5291\n",
      "  Avg Pearson Correlation (across features/voxels): 0.6849\n",
      "  Median Pearson Correlation: 0.6858\n",
      "  R2 Score (uniform avg): 0.4709\n",
      "  R2 Score (variance weighted): 0.4709\n",
      "\n",
      "> Evaluation on test\n",
      "Evaluating decoding model...\n"
     ]
    },
    {
     "name": "stderr",
     "output_type": "stream",
     "text": [
      "                                                                       \r"
     ]
    },
    {
     "name": "stdout",
     "output_type": "stream",
     "text": [
      "Evaluation complete. Target shape: (1884, 768), Prediction shape: (1884, 768)\n",
      "  MSE: 1.1216\n",
      "  Avg Pearson Correlation (across features/voxels): -0.0122\n",
      "  Median Pearson Correlation: -0.0107\n",
      "  R2 Score (uniform avg): -0.1216\n",
      "  R2 Score (variance weighted): -0.1216\n"
     ]
    },
    {
     "name": "stderr",
     "output_type": "stream",
     "text": [
      "                                                                                  \r"
     ]
    },
    {
     "name": "stdout",
     "output_type": "stream",
     "text": [
      "Epoch 33/50 | Train Loss: 0.6247\n",
      "> Evaluation on train\n",
      "Evaluating decoding model...\n"
     ]
    },
    {
     "name": "stderr",
     "output_type": "stream",
     "text": [
      "                                                                         \r"
     ]
    },
    {
     "name": "stdout",
     "output_type": "stream",
     "text": [
      "Evaluation complete. Target shape: (17427, 768), Prediction shape: (17427, 768)\n",
      "  MSE: 0.5209\n",
      "  Avg Pearson Correlation (across features/voxels): 0.6905\n",
      "  Median Pearson Correlation: 0.6923\n",
      "  R2 Score (uniform avg): 0.4791\n",
      "  R2 Score (variance weighted): 0.4791\n",
      "\n",
      "> Evaluation on test\n",
      "Evaluating decoding model...\n"
     ]
    },
    {
     "name": "stderr",
     "output_type": "stream",
     "text": [
      "                                                                       \r"
     ]
    },
    {
     "name": "stdout",
     "output_type": "stream",
     "text": [
      "Evaluation complete. Target shape: (1884, 768), Prediction shape: (1884, 768)\n",
      "  MSE: 1.1198\n",
      "  Avg Pearson Correlation (across features/voxels): -0.0118\n",
      "  Median Pearson Correlation: -0.0106\n",
      "  R2 Score (uniform avg): -0.1198\n",
      "  R2 Score (variance weighted): -0.1198\n"
     ]
    },
    {
     "name": "stderr",
     "output_type": "stream",
     "text": [
      "                                                                                  \r"
     ]
    },
    {
     "name": "stdout",
     "output_type": "stream",
     "text": [
      "Epoch 34/50 | Train Loss: 0.6167\n",
      "> Evaluation on train\n",
      "Evaluating decoding model...\n"
     ]
    },
    {
     "name": "stderr",
     "output_type": "stream",
     "text": [
      "                                                                         \r"
     ]
    },
    {
     "name": "stdout",
     "output_type": "stream",
     "text": [
      "Evaluation complete. Target shape: (17427, 768), Prediction shape: (17427, 768)\n",
      "  MSE: 0.5169\n",
      "  Avg Pearson Correlation (across features/voxels): 0.6952\n",
      "  Median Pearson Correlation: 0.6972\n",
      "  R2 Score (uniform avg): 0.4831\n",
      "  R2 Score (variance weighted): 0.4831\n",
      "\n",
      "> Evaluation on test\n",
      "Evaluating decoding model...\n"
     ]
    },
    {
     "name": "stderr",
     "output_type": "stream",
     "text": [
      "                                                                     \r"
     ]
    },
    {
     "name": "stdout",
     "output_type": "stream",
     "text": [
      "Evaluation complete. Target shape: (1884, 768), Prediction shape: (1884, 768)\n",
      "  MSE: 1.1120\n",
      "  Avg Pearson Correlation (across features/voxels): -0.0116\n",
      "  Median Pearson Correlation: -0.0108\n",
      "  R2 Score (uniform avg): -0.1120\n",
      "  R2 Score (variance weighted): -0.1120\n"
     ]
    },
    {
     "name": "stderr",
     "output_type": "stream",
     "text": [
      "                                                                                  \r"
     ]
    },
    {
     "name": "stdout",
     "output_type": "stream",
     "text": [
      "Epoch 35/50 | Train Loss: 0.6091\n",
      "> Evaluation on train\n",
      "Evaluating decoding model...\n"
     ]
    },
    {
     "name": "stderr",
     "output_type": "stream",
     "text": [
      "                                                                         \r"
     ]
    },
    {
     "name": "stdout",
     "output_type": "stream",
     "text": [
      "Evaluation complete. Target shape: (17427, 768), Prediction shape: (17427, 768)\n",
      "  MSE: 0.5103\n",
      "  Avg Pearson Correlation (across features/voxels): 0.7000\n",
      "  Median Pearson Correlation: 0.7008\n",
      "  R2 Score (uniform avg): 0.4897\n",
      "  R2 Score (variance weighted): 0.4897\n",
      "\n",
      "> Evaluation on test\n",
      "Evaluating decoding model...\n"
     ]
    },
    {
     "name": "stderr",
     "output_type": "stream",
     "text": [
      "                                                                     \r"
     ]
    },
    {
     "name": "stdout",
     "output_type": "stream",
     "text": [
      "Evaluation complete. Target shape: (1884, 768), Prediction shape: (1884, 768)\n",
      "  MSE: 1.1071\n",
      "  Avg Pearson Correlation (across features/voxels): -0.0093\n",
      "  Median Pearson Correlation: -0.0082\n",
      "  R2 Score (uniform avg): -0.1071\n",
      "  R2 Score (variance weighted): -0.1071\n"
     ]
    },
    {
     "name": "stderr",
     "output_type": "stream",
     "text": [
      "                                                                                  \r"
     ]
    },
    {
     "name": "stdout",
     "output_type": "stream",
     "text": [
      "Epoch 36/50 | Train Loss: 0.6030\n",
      "> Evaluation on train\n",
      "Evaluating decoding model...\n"
     ]
    },
    {
     "name": "stderr",
     "output_type": "stream",
     "text": [
      "                                                                         \r"
     ]
    },
    {
     "name": "stdout",
     "output_type": "stream",
     "text": [
      "Evaluation complete. Target shape: (17427, 768), Prediction shape: (17427, 768)\n",
      "  MSE: 0.5017\n",
      "  Avg Pearson Correlation (across features/voxels): 0.7049\n",
      "  Median Pearson Correlation: 0.7058\n",
      "  R2 Score (uniform avg): 0.4983\n",
      "  R2 Score (variance weighted): 0.4983\n",
      "\n",
      "> Evaluation on test\n",
      "Evaluating decoding model...\n"
     ]
    },
    {
     "name": "stderr",
     "output_type": "stream",
     "text": [
      "                                                                       \r"
     ]
    },
    {
     "name": "stdout",
     "output_type": "stream",
     "text": [
      "Evaluation complete. Target shape: (1884, 768), Prediction shape: (1884, 768)\n",
      "  MSE: 1.1163\n",
      "  Avg Pearson Correlation (across features/voxels): -0.0139\n",
      "  Median Pearson Correlation: -0.0130\n",
      "  R2 Score (uniform avg): -0.1163\n",
      "  R2 Score (variance weighted): -0.1163\n"
     ]
    },
    {
     "name": "stderr",
     "output_type": "stream",
     "text": [
      "                                                                                  \r"
     ]
    },
    {
     "name": "stdout",
     "output_type": "stream",
     "text": [
      "Epoch 37/50 | Train Loss: 0.5975\n",
      "> Evaluation on train\n",
      "Evaluating decoding model...\n"
     ]
    },
    {
     "name": "stderr",
     "output_type": "stream",
     "text": [
      "                                                                         \r"
     ]
    },
    {
     "name": "stdout",
     "output_type": "stream",
     "text": [
      "Evaluation complete. Target shape: (17427, 768), Prediction shape: (17427, 768)\n",
      "  MSE: 0.4932\n",
      "  Avg Pearson Correlation (across features/voxels): 0.7107\n",
      "  Median Pearson Correlation: 0.7115\n",
      "  R2 Score (uniform avg): 0.5068\n",
      "  R2 Score (variance weighted): 0.5068\n",
      "\n",
      "> Evaluation on test\n",
      "Evaluating decoding model...\n"
     ]
    },
    {
     "name": "stderr",
     "output_type": "stream",
     "text": [
      "                                                                       \r"
     ]
    },
    {
     "name": "stdout",
     "output_type": "stream",
     "text": [
      "Evaluation complete. Target shape: (1884, 768), Prediction shape: (1884, 768)\n",
      "  MSE: 1.1185\n",
      "  Avg Pearson Correlation (across features/voxels): -0.0110\n",
      "  Median Pearson Correlation: -0.0093\n",
      "  R2 Score (uniform avg): -0.1185\n",
      "  R2 Score (variance weighted): -0.1185\n"
     ]
    },
    {
     "name": "stderr",
     "output_type": "stream",
     "text": [
      "                                                                                  \r"
     ]
    },
    {
     "name": "stdout",
     "output_type": "stream",
     "text": [
      "Epoch 38/50 | Train Loss: 0.5900\n",
      "> Evaluation on train\n",
      "Evaluating decoding model...\n"
     ]
    },
    {
     "name": "stderr",
     "output_type": "stream",
     "text": [
      "                                                                         \r"
     ]
    },
    {
     "name": "stdout",
     "output_type": "stream",
     "text": [
      "Evaluation complete. Target shape: (17427, 768), Prediction shape: (17427, 768)\n",
      "  MSE: 0.4866\n",
      "  Avg Pearson Correlation (across features/voxels): 0.7152\n",
      "  Median Pearson Correlation: 0.7158\n",
      "  R2 Score (uniform avg): 0.5134\n",
      "  R2 Score (variance weighted): 0.5134\n",
      "\n",
      "> Evaluation on test\n",
      "Evaluating decoding model...\n"
     ]
    },
    {
     "name": "stderr",
     "output_type": "stream",
     "text": [
      "                                                                     \r"
     ]
    },
    {
     "name": "stdout",
     "output_type": "stream",
     "text": [
      "Evaluation complete. Target shape: (1884, 768), Prediction shape: (1884, 768)\n",
      "  MSE: 1.1165\n",
      "  Avg Pearson Correlation (across features/voxels): -0.0089\n",
      "  Median Pearson Correlation: -0.0079\n",
      "  R2 Score (uniform avg): -0.1165\n",
      "  R2 Score (variance weighted): -0.1165\n"
     ]
    },
    {
     "name": "stderr",
     "output_type": "stream",
     "text": [
      "                                                                                  \r"
     ]
    },
    {
     "name": "stdout",
     "output_type": "stream",
     "text": [
      "Epoch 39/50 | Train Loss: 0.5826\n",
      "> Evaluation on train\n",
      "Evaluating decoding model...\n"
     ]
    },
    {
     "name": "stderr",
     "output_type": "stream",
     "text": [
      "                                                                         \r"
     ]
    },
    {
     "name": "stdout",
     "output_type": "stream",
     "text": [
      "Evaluation complete. Target shape: (17427, 768), Prediction shape: (17427, 768)\n",
      "  MSE: 0.4799\n",
      "  Avg Pearson Correlation (across features/voxels): 0.7210\n",
      "  Median Pearson Correlation: 0.7216\n",
      "  R2 Score (uniform avg): 0.5201\n",
      "  R2 Score (variance weighted): 0.5201\n",
      "\n",
      "> Evaluation on test\n",
      "Evaluating decoding model...\n"
     ]
    },
    {
     "name": "stderr",
     "output_type": "stream",
     "text": [
      "                                                                     \r"
     ]
    },
    {
     "name": "stdout",
     "output_type": "stream",
     "text": [
      "Evaluation complete. Target shape: (1884, 768), Prediction shape: (1884, 768)\n",
      "  MSE: 1.1115\n",
      "  Avg Pearson Correlation (across features/voxels): -0.0122\n",
      "  Median Pearson Correlation: -0.0119\n",
      "  R2 Score (uniform avg): -0.1115\n",
      "  R2 Score (variance weighted): -0.1115\n"
     ]
    },
    {
     "name": "stderr",
     "output_type": "stream",
     "text": [
      "                                                                                  \r"
     ]
    },
    {
     "name": "stdout",
     "output_type": "stream",
     "text": [
      "Epoch 40/50 | Train Loss: 0.5764\n",
      "> Evaluation on train\n",
      "Evaluating decoding model...\n"
     ]
    },
    {
     "name": "stderr",
     "output_type": "stream",
     "text": [
      "                                                                         \r"
     ]
    },
    {
     "name": "stdout",
     "output_type": "stream",
     "text": [
      "Evaluation complete. Target shape: (17427, 768), Prediction shape: (17427, 768)\n",
      "  MSE: 0.4730\n",
      "  Avg Pearson Correlation (across features/voxels): 0.7249\n",
      "  Median Pearson Correlation: 0.7248\n",
      "  R2 Score (uniform avg): 0.5270\n",
      "  R2 Score (variance weighted): 0.5270\n",
      "\n",
      "> Evaluation on test\n",
      "Evaluating decoding model...\n"
     ]
    },
    {
     "name": "stderr",
     "output_type": "stream",
     "text": [
      "                                                                     \r"
     ]
    },
    {
     "name": "stdout",
     "output_type": "stream",
     "text": [
      "Evaluation complete. Target shape: (1884, 768), Prediction shape: (1884, 768)\n",
      "  MSE: 1.1140\n",
      "  Avg Pearson Correlation (across features/voxels): -0.0108\n",
      "  Median Pearson Correlation: -0.0103\n",
      "  R2 Score (uniform avg): -0.1140\n",
      "  R2 Score (variance weighted): -0.1140\n"
     ]
    },
    {
     "name": "stderr",
     "output_type": "stream",
     "text": [
      "                                                                                  \r"
     ]
    },
    {
     "name": "stdout",
     "output_type": "stream",
     "text": [
      "Epoch 41/50 | Train Loss: 0.5715\n",
      "> Evaluation on train\n",
      "Evaluating decoding model...\n"
     ]
    },
    {
     "name": "stderr",
     "output_type": "stream",
     "text": [
      "                                                                         \r"
     ]
    },
    {
     "name": "stdout",
     "output_type": "stream",
     "text": [
      "Evaluation complete. Target shape: (17427, 768), Prediction shape: (17427, 768)\n",
      "  MSE: 0.4686\n",
      "  Avg Pearson Correlation (across features/voxels): 0.7281\n",
      "  Median Pearson Correlation: 0.7279\n",
      "  R2 Score (uniform avg): 0.5314\n",
      "  R2 Score (variance weighted): 0.5314\n",
      "\n",
      "> Evaluation on test\n",
      "Evaluating decoding model...\n"
     ]
    },
    {
     "name": "stderr",
     "output_type": "stream",
     "text": [
      "                                                                       \r"
     ]
    },
    {
     "name": "stdout",
     "output_type": "stream",
     "text": [
      "Evaluation complete. Target shape: (1884, 768), Prediction shape: (1884, 768)\n",
      "  MSE: 1.1154\n",
      "  Avg Pearson Correlation (across features/voxels): -0.0122\n",
      "  Median Pearson Correlation: -0.0116\n",
      "  R2 Score (uniform avg): -0.1154\n",
      "  R2 Score (variance weighted): -0.1154\n"
     ]
    },
    {
     "name": "stderr",
     "output_type": "stream",
     "text": [
      "                                                                                  \r"
     ]
    },
    {
     "name": "stdout",
     "output_type": "stream",
     "text": [
      "Epoch 42/50 | Train Loss: 0.5646\n",
      "> Evaluation on train\n",
      "Evaluating decoding model...\n"
     ]
    },
    {
     "name": "stderr",
     "output_type": "stream",
     "text": [
      "                                                                         \r"
     ]
    },
    {
     "name": "stdout",
     "output_type": "stream",
     "text": [
      "Evaluation complete. Target shape: (17427, 768), Prediction shape: (17427, 768)\n",
      "  MSE: 0.4587\n",
      "  Avg Pearson Correlation (across features/voxels): 0.7346\n",
      "  Median Pearson Correlation: 0.7346\n",
      "  R2 Score (uniform avg): 0.5413\n",
      "  R2 Score (variance weighted): 0.5413\n",
      "\n",
      "> Evaluation on test\n",
      "Evaluating decoding model...\n"
     ]
    },
    {
     "name": "stderr",
     "output_type": "stream",
     "text": [
      "                                                                     \r"
     ]
    },
    {
     "name": "stdout",
     "output_type": "stream",
     "text": [
      "Evaluation complete. Target shape: (1884, 768), Prediction shape: (1884, 768)\n",
      "  MSE: 1.1134\n",
      "  Avg Pearson Correlation (across features/voxels): -0.0102\n",
      "  Median Pearson Correlation: -0.0098\n",
      "  R2 Score (uniform avg): -0.1134\n",
      "  R2 Score (variance weighted): -0.1134\n"
     ]
    },
    {
     "name": "stderr",
     "output_type": "stream",
     "text": [
      "                                                                                  \r"
     ]
    },
    {
     "name": "stdout",
     "output_type": "stream",
     "text": [
      "Epoch 43/50 | Train Loss: 0.5587\n",
      "> Evaluation on train\n",
      "Evaluating decoding model...\n"
     ]
    },
    {
     "name": "stderr",
     "output_type": "stream",
     "text": [
      "                                                                         \r"
     ]
    },
    {
     "name": "stdout",
     "output_type": "stream",
     "text": [
      "Evaluation complete. Target shape: (17427, 768), Prediction shape: (17427, 768)\n",
      "  MSE: 0.4548\n",
      "  Avg Pearson Correlation (across features/voxels): 0.7372\n",
      "  Median Pearson Correlation: 0.7376\n",
      "  R2 Score (uniform avg): 0.5452\n",
      "  R2 Score (variance weighted): 0.5452\n",
      "\n",
      "> Evaluation on test\n",
      "Evaluating decoding model...\n"
     ]
    },
    {
     "name": "stderr",
     "output_type": "stream",
     "text": [
      "                                                                     \r"
     ]
    },
    {
     "name": "stdout",
     "output_type": "stream",
     "text": [
      "Evaluation complete. Target shape: (1884, 768), Prediction shape: (1884, 768)\n",
      "  MSE: 1.1147\n",
      "  Avg Pearson Correlation (across features/voxels): -0.0132\n",
      "  Median Pearson Correlation: -0.0126\n",
      "  R2 Score (uniform avg): -0.1147\n",
      "  R2 Score (variance weighted): -0.1147\n"
     ]
    },
    {
     "name": "stderr",
     "output_type": "stream",
     "text": [
      "                                                                                  \r"
     ]
    },
    {
     "name": "stdout",
     "output_type": "stream",
     "text": [
      "Epoch 44/50 | Train Loss: 0.5534\n",
      "> Evaluation on train\n",
      "Evaluating decoding model...\n"
     ]
    },
    {
     "name": "stderr",
     "output_type": "stream",
     "text": [
      "                                                                         \r"
     ]
    },
    {
     "name": "stdout",
     "output_type": "stream",
     "text": [
      "Evaluation complete. Target shape: (17427, 768), Prediction shape: (17427, 768)\n",
      "  MSE: 0.4479\n",
      "  Avg Pearson Correlation (across features/voxels): 0.7422\n",
      "  Median Pearson Correlation: 0.7427\n",
      "  R2 Score (uniform avg): 0.5521\n",
      "  R2 Score (variance weighted): 0.5521\n",
      "\n",
      "> Evaluation on test\n",
      "Evaluating decoding model...\n"
     ]
    },
    {
     "name": "stderr",
     "output_type": "stream",
     "text": [
      "                                                                     \r"
     ]
    },
    {
     "name": "stdout",
     "output_type": "stream",
     "text": [
      "Evaluation complete. Target shape: (1884, 768), Prediction shape: (1884, 768)\n",
      "  MSE: 1.1110\n",
      "  Avg Pearson Correlation (across features/voxels): -0.0072\n",
      "  Median Pearson Correlation: -0.0060\n",
      "  R2 Score (uniform avg): -0.1110\n",
      "  R2 Score (variance weighted): -0.1110\n"
     ]
    },
    {
     "name": "stderr",
     "output_type": "stream",
     "text": [
      "                                                                                  \r"
     ]
    },
    {
     "name": "stdout",
     "output_type": "stream",
     "text": [
      "Epoch 45/50 | Train Loss: 0.5469\n",
      "> Evaluation on train\n",
      "Evaluating decoding model...\n"
     ]
    },
    {
     "name": "stderr",
     "output_type": "stream",
     "text": [
      "                                                                         \r"
     ]
    },
    {
     "name": "stdout",
     "output_type": "stream",
     "text": [
      "Evaluation complete. Target shape: (17427, 768), Prediction shape: (17427, 768)\n",
      "  MSE: 0.4460\n",
      "  Avg Pearson Correlation (across features/voxels): 0.7437\n",
      "  Median Pearson Correlation: 0.7438\n",
      "  R2 Score (uniform avg): 0.5540\n",
      "  R2 Score (variance weighted): 0.5540\n",
      "\n",
      "> Evaluation on test\n",
      "Evaluating decoding model...\n"
     ]
    },
    {
     "name": "stderr",
     "output_type": "stream",
     "text": [
      "                                                                     \r"
     ]
    },
    {
     "name": "stdout",
     "output_type": "stream",
     "text": [
      "Evaluation complete. Target shape: (1884, 768), Prediction shape: (1884, 768)\n",
      "  MSE: 1.1069\n",
      "  Avg Pearson Correlation (across features/voxels): -0.0092\n",
      "  Median Pearson Correlation: -0.0089\n",
      "  R2 Score (uniform avg): -0.1069\n",
      "  R2 Score (variance weighted): -0.1069\n"
     ]
    },
    {
     "name": "stderr",
     "output_type": "stream",
     "text": [
      "                                                                                  \r"
     ]
    },
    {
     "name": "stdout",
     "output_type": "stream",
     "text": [
      "Epoch 46/50 | Train Loss: 0.5408\n",
      "> Evaluation on train\n",
      "Evaluating decoding model...\n"
     ]
    },
    {
     "name": "stderr",
     "output_type": "stream",
     "text": [
      "                                                                         \r"
     ]
    },
    {
     "name": "stdout",
     "output_type": "stream",
     "text": [
      "Evaluation complete. Target shape: (17427, 768), Prediction shape: (17427, 768)\n",
      "  MSE: 0.4383\n",
      "  Avg Pearson Correlation (across features/voxels): 0.7490\n",
      "  Median Pearson Correlation: 0.7503\n",
      "  R2 Score (uniform avg): 0.5617\n",
      "  R2 Score (variance weighted): 0.5617\n",
      "\n",
      "> Evaluation on test\n",
      "Evaluating decoding model...\n"
     ]
    },
    {
     "name": "stderr",
     "output_type": "stream",
     "text": [
      "                                                                     \r"
     ]
    },
    {
     "name": "stdout",
     "output_type": "stream",
     "text": [
      "Evaluation complete. Target shape: (1884, 768), Prediction shape: (1884, 768)\n",
      "  MSE: 1.1077\n",
      "  Avg Pearson Correlation (across features/voxels): -0.0107\n",
      "  Median Pearson Correlation: -0.0109\n",
      "  R2 Score (uniform avg): -0.1077\n",
      "  R2 Score (variance weighted): -0.1077\n"
     ]
    },
    {
     "name": "stderr",
     "output_type": "stream",
     "text": [
      "                                                                                  \r"
     ]
    },
    {
     "name": "stdout",
     "output_type": "stream",
     "text": [
      "Epoch 47/50 | Train Loss: 0.5356\n",
      "> Evaluation on train\n",
      "Evaluating decoding model...\n"
     ]
    },
    {
     "name": "stderr",
     "output_type": "stream",
     "text": [
      "                                                                         \r"
     ]
    },
    {
     "name": "stdout",
     "output_type": "stream",
     "text": [
      "Evaluation complete. Target shape: (17427, 768), Prediction shape: (17427, 768)\n",
      "  MSE: 0.4312\n",
      "  Avg Pearson Correlation (across features/voxels): 0.7533\n",
      "  Median Pearson Correlation: 0.7549\n",
      "  R2 Score (uniform avg): 0.5687\n",
      "  R2 Score (variance weighted): 0.5688\n",
      "\n",
      "> Evaluation on test\n",
      "Evaluating decoding model...\n"
     ]
    },
    {
     "name": "stderr",
     "output_type": "stream",
     "text": [
      "                                                                     \r"
     ]
    },
    {
     "name": "stdout",
     "output_type": "stream",
     "text": [
      "Evaluation complete. Target shape: (1884, 768), Prediction shape: (1884, 768)\n",
      "  MSE: 1.1094\n",
      "  Avg Pearson Correlation (across features/voxels): -0.0104\n",
      "  Median Pearson Correlation: -0.0101\n",
      "  R2 Score (uniform avg): -0.1094\n",
      "  R2 Score (variance weighted): -0.1094\n"
     ]
    },
    {
     "name": "stderr",
     "output_type": "stream",
     "text": [
      "                                                                                  \r"
     ]
    },
    {
     "name": "stdout",
     "output_type": "stream",
     "text": [
      "Epoch 48/50 | Train Loss: 0.5305\n",
      "> Evaluation on train\n",
      "Evaluating decoding model...\n"
     ]
    },
    {
     "name": "stderr",
     "output_type": "stream",
     "text": [
      "                                                                         \r"
     ]
    },
    {
     "name": "stdout",
     "output_type": "stream",
     "text": [
      "Evaluation complete. Target shape: (17427, 768), Prediction shape: (17427, 768)\n",
      "  MSE: 0.4263\n",
      "  Avg Pearson Correlation (across features/voxels): 0.7568\n",
      "  Median Pearson Correlation: 0.7582\n",
      "  R2 Score (uniform avg): 0.5737\n",
      "  R2 Score (variance weighted): 0.5737\n",
      "\n",
      "> Evaluation on test\n",
      "Evaluating decoding model...\n"
     ]
    },
    {
     "name": "stderr",
     "output_type": "stream",
     "text": [
      "                                                                       \r"
     ]
    },
    {
     "name": "stdout",
     "output_type": "stream",
     "text": [
      "Evaluation complete. Target shape: (1884, 768), Prediction shape: (1884, 768)\n",
      "  MSE: 1.1068\n",
      "  Avg Pearson Correlation (across features/voxels): -0.0116\n",
      "  Median Pearson Correlation: -0.0111\n",
      "  R2 Score (uniform avg): -0.1068\n",
      "  R2 Score (variance weighted): -0.1068\n"
     ]
    },
    {
     "name": "stderr",
     "output_type": "stream",
     "text": [
      "                                                                                  \r"
     ]
    },
    {
     "name": "stdout",
     "output_type": "stream",
     "text": [
      "Epoch 49/50 | Train Loss: 0.5241\n",
      "> Evaluation on train\n",
      "Evaluating decoding model...\n"
     ]
    },
    {
     "name": "stderr",
     "output_type": "stream",
     "text": [
      "                                                                         \r"
     ]
    },
    {
     "name": "stdout",
     "output_type": "stream",
     "text": [
      "Evaluation complete. Target shape: (17427, 768), Prediction shape: (17427, 768)\n",
      "  MSE: 0.4213\n",
      "  Avg Pearson Correlation (across features/voxels): 0.7600\n",
      "  Median Pearson Correlation: 0.7615\n",
      "  R2 Score (uniform avg): 0.5787\n",
      "  R2 Score (variance weighted): 0.5787\n",
      "\n",
      "> Evaluation on test\n",
      "Evaluating decoding model...\n"
     ]
    },
    {
     "name": "stderr",
     "output_type": "stream",
     "text": [
      "                                                                     \r"
     ]
    },
    {
     "name": "stdout",
     "output_type": "stream",
     "text": [
      "Evaluation complete. Target shape: (1884, 768), Prediction shape: (1884, 768)\n",
      "  MSE: 1.1052\n",
      "  Avg Pearson Correlation (across features/voxels): -0.0094\n",
      "  Median Pearson Correlation: -0.0097\n",
      "  R2 Score (uniform avg): -0.1052\n",
      "  R2 Score (variance weighted): -0.1052\n"
     ]
    },
    {
     "name": "stderr",
     "output_type": "stream",
     "text": [
      "                                                                                  \r"
     ]
    },
    {
     "name": "stdout",
     "output_type": "stream",
     "text": [
      "Epoch 50/50 | Train Loss: 0.5192\n",
      "> Evaluation on train\n",
      "Evaluating decoding model...\n"
     ]
    },
    {
     "name": "stderr",
     "output_type": "stream",
     "text": [
      "                                                                         \r"
     ]
    },
    {
     "name": "stdout",
     "output_type": "stream",
     "text": [
      "Evaluation complete. Target shape: (17427, 768), Prediction shape: (17427, 768)\n",
      "  MSE: 0.4140\n",
      "  Avg Pearson Correlation (across features/voxels): 0.7645\n",
      "  Median Pearson Correlation: 0.7663\n",
      "  R2 Score (uniform avg): 0.5860\n",
      "  R2 Score (variance weighted): 0.5860\n",
      "\n",
      "> Evaluation on test\n",
      "Evaluating decoding model...\n"
     ]
    },
    {
     "name": "stderr",
     "output_type": "stream",
     "text": [
      "                                                                     \r"
     ]
    },
    {
     "name": "stdout",
     "output_type": "stream",
     "text": [
      "Evaluation complete. Target shape: (1884, 768), Prediction shape: (1884, 768)\n",
      "  MSE: 1.1039\n",
      "  Avg Pearson Correlation (across features/voxels): -0.0069\n",
      "  Median Pearson Correlation: -0.0056\n",
      "  R2 Score (uniform avg): -0.1039\n",
      "  R2 Score (variance weighted): -0.1039\n",
      "Training complete after 50 epochs. Using model from last epoch.\n"
     ]
    },
    {
     "data": {
      "text/html": [],
      "text/plain": [
       "<IPython.core.display.HTML object>"
      ]
     },
     "metadata": {},
     "output_type": "display_data"
    },
    {
     "data": {
      "text/html": [
       "<br>    <style><br>        .wandb-row {<br>            display: flex;<br>            flex-direction: row;<br>            flex-wrap: wrap;<br>            justify-content: flex-start;<br>            width: 100%;<br>        }<br>        .wandb-col {<br>            display: flex;<br>            flex-direction: column;<br>            flex-basis: 100%;<br>            flex: 1;<br>            padding: 10px;<br>        }<br>    </style><br><div class=\"wandb-row\"><div class=\"wandb-col\"><h3>Run history:</h3><br/><table class=\"wandb\"><tr><td>MSE</td><td>███▇▇▆▆▅▅▅▅▄▄▄▄▄▄▃▃▃▃▃▃▃▂▂▂▂▂▂▂▂▂▂▁▁▁▁▁▁</td></tr><tr><td>PearsonR All</td><td>▁▁▂▂▃▄▄▅▅▅▅▆▆▆▆▆▆▆▇▇▇▇▇▇▇▇▇▇▇▇██████████</td></tr><tr><td>PearsonR Avg</td><td>▁▁▂▃▄▄▅▅▅▅▆▆▆▆▆▆▆▇▇▇▇▇▇▇▇▇▇▇▇▇██████████</td></tr><tr><td>R2 Uniform</td><td>▁▁▁▁▂▃▃▄▄▄▄▅▅▅▅▅▅▆▆▆▆▆▆▆▆▇▇▇▇▇▇▇▇▇██████</td></tr><tr><td>R2 Variance</td><td>▁▁▁▁▂▃▃▃▄▄▄▄▅▅▅▅▅▅▆▆▆▆▆▆▆▇▇▇▇▇▇▇▇▇██████</td></tr><tr><td>Test MSE</td><td>▃▁▁▁▂▃▄▅▅▆▇▇▇▇▇▇▇▇██▇▇▇████▇██▇████▇▇▇▇▇</td></tr><tr><td>Test PearsonR All</td><td>▅▄▇█▇▄▄▂▃▂▁▃▂▂▂▂▂▂▁▃▃▃▂▂▂▂▂▃▁▂▁▂▁▂▁▂▂▂▂▄</td></tr><tr><td>Test PearsonR Avg</td><td>▅▄▇██▇▄▃▃▃▂▂▃▂▂▂▂▂▃▂▃▃▂▂▂▂▂▂▁▂▂▂▂▂▁▂▂▂▂▃</td></tr><tr><td>Test R2 Uniform</td><td>▆███▇▅▄▃▄▃▂▂▂▂▂▂▂▂▁▁▂▂▁▁▁▁▂▂▁▁▂▁▁▁▁▂▂▂▂▂</td></tr><tr><td>Test R2 Variance</td><td>▆███▆▅▄▃▄▃▂▂▂▂▂▂▂▂▁▁▂▂▂▁▁▁▂▂▁▁▂▁▁▁▁▂▂▂▂▂</td></tr></table><br/></div><div class=\"wandb-col\"><h3>Run summary:</h3><br/><table class=\"wandb\"><tr><td>MSE</td><td>0.41405</td></tr><tr><td>PearsonR All</td><td>0.76626</td></tr><tr><td>PearsonR Avg</td><td>0.76448</td></tr><tr><td>R2 Uniform</td><td>0.58595</td></tr><tr><td>R2 Variance</td><td>0.58595</td></tr><tr><td>Test MSE</td><td>1.10393</td></tr><tr><td>Test PearsonR All</td><td>-0.00556</td></tr><tr><td>Test PearsonR Avg</td><td>-0.00686</td></tr><tr><td>Test R2 Uniform</td><td>-0.10393</td></tr><tr><td>Test R2 Variance</td><td>-0.10393</td></tr></table><br/></div></div>"
      ],
      "text/plain": [
       "<IPython.core.display.HTML object>"
      ]
     },
     "metadata": {},
     "output_type": "display_data"
    },
    {
     "data": {
      "text/html": [
       " View run <strong style=\"color:#cdcd00\">decoding_LSTM_vitmae_1000_defeat</strong> at: <a href='https://wandb.ai/wb-team-hardik/csai_fmri_video_project/runs/vzkjv54h' target=\"_blank\">https://wandb.ai/wb-team-hardik/csai_fmri_video_project/runs/vzkjv54h</a><br> View project at: <a href='https://wandb.ai/wb-team-hardik/csai_fmri_video_project' target=\"_blank\">https://wandb.ai/wb-team-hardik/csai_fmri_video_project</a><br>Synced 5 W&B file(s), 0 media file(s), 0 artifact file(s) and 0 other file(s)"
      ],
      "text/plain": [
       "<IPython.core.display.HTML object>"
      ]
     },
     "metadata": {},
     "output_type": "display_data"
    },
    {
     "data": {
      "text/html": [
       "Find logs at: <code>./wandb/run-20250508_131828-vzkjv54h/logs</code>"
      ],
      "text/plain": [
       "<IPython.core.display.HTML object>"
      ]
     },
     "metadata": {},
     "output_type": "display_data"
    },
    {
     "name": "stdout",
     "output_type": "stream",
     "text": [
      "\n",
      "--- Evaluating Decoding Model on Subj NSD114 ---\n",
      "Evaluating decoding model...\n"
     ]
    },
    {
     "name": "stderr",
     "output_type": "stream",
     "text": [
      "                                                                     \r"
     ]
    },
    {
     "name": "stdout",
     "output_type": "stream",
     "text": [
      "Evaluation complete. Target shape: (1884, 768), Prediction shape: (1884, 768)\n",
      "  MSE: 1.1039\n",
      "  Avg Pearson Correlation (across features/voxels): -0.0069\n",
      "  Median Pearson Correlation: -0.0056\n",
      "  R2 Score (uniform avg): -0.1039\n",
      "  R2 Score (variance weighted): -0.1039\n",
      "Saved Decoding model to /workspace/hardik/output_csai/decoding_model_mlp_vitmae_trainNSD103NSD104NSD105NSD106NSD107NSD113NSD114NSD115NSD116NSD117NSD119NSD120NSD122NSD123NSD124NSD125NSD126NSD127NSD128NSD129NSD130NSD132NSD134NSD135NSD136NSD138NSD140NSD142NSD145NSD146NSD147NSD148NSD149NSD150NSD151NSD153NSD155_testNSD114.pt\n",
      "Saved Decoding prediction plot to /workspace/hardik/output_csai/decoding_predictions_mlp_vitmae_trainNSD103NSD104NSD105NSD106NSD107NSD113NSD114NSD115NSD116NSD117NSD119NSD120NSD122NSD123NSD124NSD125NSD126NSD127NSD128NSD129NSD130NSD132NSD134NSD135NSD136NSD138NSD140NSD142NSD145NSD146NSD147NSD148NSD149NSD150NSD151NSD153NSD155_testNSD114.png\n"
     ]
    }
   ],
   "source": [
    "decoding_model = run_training_no_val( # Use modified training loop\n",
    "    decoding_model, train_loader, device=DEVICE, task='decoding',\n",
    "    epochs=EPOCHS, learning_rate=LEARNING_RATE\n",
    ")\n",
    "\n",
    "if test_loader:\n",
    "    print(f\"\\n--- Evaluating Decoding Model on Subj {TEST_SUBJECT_ID} ---\")\n",
    "    dec_results, dec_targets, dec_predictions = evaluate_model(\n",
    "        decoding_model, test_loader, nn.MSELoss(), device=DEVICE, task='decoding'\n",
    "    )\n",
    "    dec_model_suffix = f\"_mlp_{chosen_encoder}_train{''.join(TRAIN_SUBJECT_IDS)}_test{TEST_SUBJECT_ID}\"\n",
    "    dec_model_path = OUTPUT_DIR / f\"decoding_model{dec_model_suffix}.pt\"\n",
    "    # torch.save(decoding_model.state_dict(), dec_model_path)\n",
    "    print(f\"Saved Decoding model to {dec_model_path}\")\n",
    "\n",
    "    dec_fig = plot_predictions(dec_targets, dec_predictions, n_samples=5, title=f\"Decoding (MLP, {chosen_encoder}) Test Subj {TEST_SUBJECT_ID}\")\n",
    "    dec_plot_path = OUTPUT_DIR / f\"decoding_predictions{dec_model_suffix}.png\"\n",
    "    # dec_fig.savefig(dec_plot_path)\n",
    "    plt.close(dec_fig)\n",
    "    print(f\"Saved Decoding prediction plot to {dec_plot_path}\")\n",
    "else:\n",
    "        print(\"Skipping decoding model evaluation as no test loader was created.\")\n"
   ]
  },
  {
   "cell_type": "code",
   "execution_count": null,
   "metadata": {},
   "outputs": [],
   "source": []
  }
 ],
 "metadata": {
  "kernelspec": {
   "display_name": "Llama",
   "language": "python",
   "name": "python3"
  },
  "language_info": {
   "codemirror_mode": {
    "name": "ipython",
    "version": 3
   },
   "file_extension": ".py",
   "mimetype": "text/x-python",
   "name": "python",
   "nbconvert_exporter": "python",
   "pygments_lexer": "ipython3",
   "version": "3.10.12"
  }
 },
 "nbformat": 4,
 "nbformat_minor": 2
}
